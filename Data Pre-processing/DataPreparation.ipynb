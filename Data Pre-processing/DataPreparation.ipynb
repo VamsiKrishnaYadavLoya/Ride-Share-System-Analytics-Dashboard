{
  "nbformat": 4,
  "nbformat_minor": 0,
  "metadata": {
    "colab": {
      "provenance": [],
      "authorship_tag": "ABX9TyMFWbCvCKHXVSKbO0foC4Q/",
      "include_colab_link": true
    },
    "kernelspec": {
      "name": "python3",
      "display_name": "Python 3"
    },
    "language_info": {
      "name": "python"
    }
  },
  "cells": [
    {
      "cell_type": "markdown",
      "metadata": {
        "id": "view-in-github",
        "colab_type": "text"
      },
      "source": [
        "<a href=\"https://colab.research.google.com/github/Bindiyaa5/SER517team29/blob/main/DataPreparation.ipynb\" target=\"_parent\"><img src=\"https://colab.research.google.com/assets/colab-badge.svg\" alt=\"Open In Colab\"/></a>"
      ]
    },
    {
      "cell_type": "code",
      "execution_count": null,
      "metadata": {
        "colab": {
          "base_uri": "https://localhost:8080/"
        },
        "id": "v-Hd2wEZ9ZG7",
        "outputId": "16c35aba-6988-484c-dc2e-0aba1b9f7f7b"
      },
      "outputs": [
        {
          "output_type": "stream",
          "name": "stdout",
          "text": [
            "Drive already mounted at /content/drive; to attempt to forcibly remount, call drive.mount(\"/content/drive\", force_remount=True).\n"
          ]
        }
      ],
      "source": [
        "from google.colab import drive\n",
        "drive.mount('/content/drive')"
      ]
    },
    {
      "cell_type": "code",
      "source": [
        "filepath = '/content/drive/My Drive/merged_rides_with_elevation.csv'"
      ],
      "metadata": {
        "id": "gEQ_3eS39jIy"
      },
      "execution_count": null,
      "outputs": []
    },
    {
      "cell_type": "code",
      "source": [
        "import pandas as pd\n",
        "df = pd.read_csv(filepath)"
      ],
      "metadata": {
        "id": "wXtfvTT09wun"
      },
      "execution_count": null,
      "outputs": []
    },
    {
      "cell_type": "code",
      "source": [
        "df['Start_Altitude'] = df[['Start_Altitude', 'Start_Altutude', 'State_Altitude']].bfill(axis=1).iloc[:, 0]\n",
        "\n",
        "df.drop(columns=['State_Altitude', 'Start_Altutude'], inplace=True)"
      ],
      "metadata": {
        "id": "pn_KOL8Th2SO"
      },
      "execution_count": null,
      "outputs": []
    },
    {
      "cell_type": "code",
      "source": [
        "df['End_Altitude'] = df[['End_Altitude', 'end_altitude', 'end_Altitude']].bfill(axis=1).iloc[:, 0]\n",
        "\n",
        "df.drop(columns=['end_Altitude', 'end_altitude'], inplace=True)"
      ],
      "metadata": {
        "id": "0mSnL7DSh2VG"
      },
      "execution_count": null,
      "outputs": []
    },
    {
      "cell_type": "code",
      "source": [
        "df['Start_Altitude'].fillna(method='ffill', inplace=True)\n",
        "df['End_Altitude'].fillna(df['End_Altitude'].mean(), inplace=True)"
      ],
      "metadata": {
        "id": "WqH81qgwh2ZX"
      },
      "execution_count": null,
      "outputs": []
    },
    {
      "cell_type": "code",
      "source": [
        "from sklearn.impute import SimpleImputer\n",
        "df['Elevation_Change'] = df['End_Altitude'] - df['Start_Altitude']\n",
        "\n",
        "imputer = SimpleImputer(strategy='mean')\n",
        "df['Elevation_Change'] = imputer.fit_transform(df[['Elevation_Change']])\n",
        "\n",
        "df = df.drop(columns=['Start_Altitude', 'End_Altitude'])"
      ],
      "metadata": {
        "id": "cEHLxEaMeus3"
      },
      "execution_count": null,
      "outputs": []
    },
    {
      "cell_type": "code",
      "source": [
        "import numpy as np\n",
        "\n",
        "# Function to calculate distance between two lat-lng points\n",
        "def haversine_distance(lat1, lon1, lat2, lon2):\n",
        "    # Radius of the Earth in kilometers\n",
        "    R = 6371.0\n",
        "    # Convert latitude and longitude from degrees to radians\n",
        "    lat1, lon1, lat2, lon2 = map(np.radians, [lat1, lon1, lat2, lon2])\n",
        "    # Difference in coordinates\n",
        "    dlat = lat2 - lat1\n",
        "    dlon = lon2 - lon1\n",
        "    # Haversine formula\n",
        "    a = np.sin(dlat / 2.0)**2 + np.cos(lat1) * np.cos(lat2) * np.sin(dlon / 2.0)**2\n",
        "    c = 2 * np.arctan2(np.sqrt(a), np.sqrt(1 - a))\n",
        "    # Distance in kilometers\n",
        "    distance = R * c\n",
        "    return distance"
      ],
      "metadata": {
        "id": "4ywSXOheewxu"
      },
      "execution_count": null,
      "outputs": []
    },
    {
      "cell_type": "code",
      "source": [
        "df['Distance'] = df.apply(lambda x: haversine_distance(x['start_lat'], x['start_lng'], x['end_lat'], x['end_lng']), axis=1)"
      ],
      "metadata": {
        "id": "QLns8Sxvexmp"
      },
      "execution_count": null,
      "outputs": []
    },
    {
      "cell_type": "code",
      "source": [
        "df = df.drop(columns=['start_lat', 'start_lng', 'end_lat', 'end_lng'])"
      ],
      "metadata": {
        "id": "wEhAP1JGquRc"
      },
      "execution_count": null,
      "outputs": []
    },
    {
      "cell_type": "code",
      "source": [
        "def get_season(month):\n",
        "    if 3 <= month <= 5:\n",
        "        return 'Spring'\n",
        "    elif 6 <= month <= 8:\n",
        "        return 'Summer'\n",
        "    elif 9 <= month <= 11:\n",
        "        return 'Fall'\n",
        "    else:\n",
        "        return 'Winter'"
      ],
      "metadata": {
        "id": "t1TYNJrFjPX9"
      },
      "execution_count": null,
      "outputs": []
    },
    {
      "cell_type": "code",
      "source": [
        "df['started_at'] = pd.to_datetime(df['started_at'])\n",
        "df['ended_at'] = pd.to_datetime(df['ended_at'])"
      ],
      "metadata": {
        "id": "wZUX6K-Tt-sb"
      },
      "execution_count": null,
      "outputs": []
    },
    {
      "cell_type": "code",
      "source": [
        "df['season'] = df['started_at'].dt.month.map(get_season)"
      ],
      "metadata": {
        "id": "anY9JyRyqYPt"
      },
      "execution_count": null,
      "outputs": []
    },
    {
      "cell_type": "code",
      "source": [
        "def get_day_of_week(timestamp):\n",
        "    return timestamp.strftime(\"%A\")\n",
        "\n",
        "# Apply the function to each row in the DataFrame\n",
        "df['day_of_week'] = df['started_at'].apply(get_day_of_week)"
      ],
      "metadata": {
        "id": "as18ZBz5qend"
      },
      "execution_count": null,
      "outputs": []
    },
    {
      "cell_type": "code",
      "source": [
        "df['trip_duration'] = (df['ended_at'] - df['started_at']).dt.total_seconds() / 60"
      ],
      "metadata": {
        "id": "ZfBHTjdG6UR1"
      },
      "execution_count": null,
      "outputs": []
    },
    {
      "cell_type": "code",
      "source": [
        "weatherData = '/content/drive/My Drive/3667056.csv'"
      ],
      "metadata": {
        "id": "0tEcQN13be1N"
      },
      "execution_count": null,
      "outputs": []
    },
    {
      "cell_type": "code",
      "source": [
        "tempData = pd.read_csv(weatherData)"
      ],
      "metadata": {
        "id": "Mq4bzdT7cBoM"
      },
      "execution_count": null,
      "outputs": []
    },
    {
      "cell_type": "code",
      "source": [
        "tempData['started_at'] = pd.to_datetime(tempData['DATE'])\n",
        "tempData['started_at'] = tempData['started_at'].dt.date"
      ],
      "metadata": {
        "id": "HGOICbfdcBs3"
      },
      "execution_count": null,
      "outputs": []
    },
    {
      "cell_type": "code",
      "source": [
        "df['started_at'] = df['started_at'].dt.date"
      ],
      "metadata": {
        "id": "BXxPISoavO27"
      },
      "execution_count": null,
      "outputs": []
    },
    {
      "cell_type": "code",
      "source": [
        "df = pd.merge(df, tempData[['started_at', 'TMAX', 'TMIN']], on='started_at', how='left')"
      ],
      "metadata": {
        "id": "L8ag4NH0cByi"
      },
      "execution_count": null,
      "outputs": []
    },
    {
      "cell_type": "code",
      "source": [
        "df['rideable_type'] = df['rideable_type'].replace({\n",
        "    'electric_bike': 'electric',\n",
        "    'docked_bike': 'classic',\n",
        "    'classic_bike': 'classic'\n",
        "})"
      ],
      "metadata": {
        "id": "RyR6Lhvx_IRO"
      },
      "execution_count": null,
      "outputs": []
    },
    {
      "cell_type": "code",
      "source": [
        "# Import necessary libraries\n",
        "import pandas as pd\n",
        "import numpy as np\n",
        "import matplotlib.pyplot as plt\n",
        "import seaborn as sns\n",
        "from sklearn.model_selection import train_test_split\n",
        "from sklearn.preprocessing import LabelEncoder\n",
        "from sklearn.ensemble import RandomForestClassifier\n",
        "from sklearn.metrics import accuracy_score, classification_report\n",
        "\n",
        "# Load the data\n",
        "# Assuming df_X is the DataFrame X and series_y is the Series y\n",
        "# Make sure the indices are aligned correctly\n",
        "\n",
        "# EDA\n",
        "# Check the first few rows of X and y\n",
        "print(X.head())\n",
        "print(y.head())\n",
        "\n",
        "# Summary statistics of X\n",
        "print(X.describe())\n",
        "\n",
        "# Distribution of y\n",
        "sns.countplot(x=y)\n",
        "plt.show()\n",
        "\n",
        "# Check the relationship between numerical variables in X and y\n",
        "sns.pairplot(pd.concat([X, y], axis=1), hue='rideable_type')\n",
        "plt.show()\n",
        "\n",
        "# Check the relationship between categorical variables in X and y\n",
        "# For example, 'member_casual' and 'rideable_type'\n",
        "sns.countplot(x='member_casual', hue='rideable_type', data=pd.concat([X, y], axis=1))\n",
        "plt.show()\n",
        "\n",
        "# Feature Engineering (if needed)\n",
        "# For example, converting categorical variables to numerical using LabelEncoder\n",
        "le = LabelEncoder()\n",
        "X['member_casual_encoded'] = le.fit_transform(X['member_casual'])\n",
        "\n",
        "# Modeling\n",
        "# Split the data into training and testing sets\n",
        "X_train, X_test, y_train, y_test = train_test_split(X, y, test_size=0.2, random_state=42)\n",
        "\n",
        "\n"
      ],
      "metadata": {
        "colab": {
          "base_uri": "https://localhost:8080/",
          "height": 1000
        },
        "id": "e_d4Bz7Z-kRn",
        "outputId": "c392f2d2-8657-42d1-c6de-2645d6f4979f"
      },
      "execution_count": null,
      "outputs": [
        {
          "output_type": "stream",
          "name": "stdout",
          "text": [
            "            ride_id          started_at            ended_at member_casual  \\\n",
            "0  C2F7DD78E82EC875 2022-01-13 11:59:00 2022-01-13 12:02:00        casual   \n",
            "1  A6CF8980A652D272 2022-01-10 08:41:00 2022-01-10 08:46:00        casual   \n",
            "2  BD0F91DFF741C66D 2022-01-25 04:53:00 2022-01-25 04:58:00        member   \n",
            "3  CBB80ED419105406 2022-01-04 00:18:00 2022-01-04 00:33:00        casual   \n",
            "4  DDC963BFDDA51EEA 2022-01-20 01:31:00 2022-01-20 01:37:00        member   \n",
            "\n",
            "    trip_duration  Distance  member_casual_encoded  \n",
            "0 0 days 00:03:00  0.699547                      0  \n",
            "1 0 days 00:05:00  0.694322                      0  \n",
            "2 0 days 00:05:00  1.000832                      1  \n",
            "3 0 days 00:15:00  2.462779                      0  \n",
            "4 0 days 00:06:00  0.814537                      1  \n",
            "0    electric\n",
            "1    electric\n",
            "2     classic\n",
            "3     classic\n",
            "4     classic\n",
            "Name: rideable_type, dtype: object\n",
            "                          started_at                       ended_at  \\\n",
            "count                        9212593                        9212593   \n",
            "mean   2023-03-18 06:59:43.726267392  2023-03-18 07:18:09.130087168   \n",
            "min              2022-01-01 00:00:00            2022-01-01 00:01:00   \n",
            "25%              2022-09-25 14:27:00            2022-09-25 14:49:00   \n",
            "50%              2023-05-04 17:22:00            2023-05-04 17:38:00   \n",
            "75%              2023-08-11 08:49:00            2023-08-11 09:06:00   \n",
            "max              2023-12-31 23:59:00            2024-01-01 23:50:00   \n",
            "std                              NaN                            NaN   \n",
            "\n",
            "                   trip_duration      Distance  member_casual_encoded  \n",
            "count                    9212593  9.204693e+06           9.212593e+06  \n",
            "mean   0 days 00:18:25.403818447  4.749567e+00           6.207371e-01  \n",
            "min           -12 days +10:23:00  0.000000e+00           0.000000e+00  \n",
            "25%              0 days 00:06:00  8.669653e-01           0.000000e+00  \n",
            "50%              0 days 00:10:00  1.550790e+00           1.000000e+00  \n",
            "75%              0 days 00:17:00  2.758104e+00           1.000000e+00  \n",
            "max             68 days 09:29:00  9.823320e+03           2.000000e+00  \n",
            "std    0 days 03:01:02.421810427  1.611105e+02           4.852039e-01  \n"
          ]
        },
        {
          "output_type": "display_data",
          "data": {
            "text/plain": [
              "<Figure size 640x480 with 1 Axes>"
            ],
            "image/png": "[encoded data removed]"
          },
          "metadata": {}
        }
      ]
    },
    {
      "cell_type": "code",
      "source": [
        "# Check the data types of all columns in X_train\n",
        "print(X_train.dtypes)\n"
      ],
      "metadata": {
        "colab": {
          "base_uri": "https://localhost:8080/"
        },
        "id": "1sXpzDn_HEEg",
        "outputId": "67870291-5798-4f4c-b71f-3defe72ffa2c"
      },
      "execution_count": null,
      "outputs": [
        {
          "output_type": "stream",
          "name": "stdout",
          "text": [
            "ride_id                           int64\n",
            "started_at               datetime64[ns]\n",
            "ended_at                 datetime64[ns]\n",
            "member_casual                     int64\n",
            "Distance                        float64\n",
            "member_casual_encoded             int64\n",
            "trip_duration_seconds           float64\n",
            "dtype: object\n"
          ]
        }
      ]
    },
    {
      "cell_type": "code",
      "source": [
        "print(\"R-squared:\", model.rsquared)\n",
        "import pandas as pd\n",
        "import numpy as np\n",
        "import statsmodels.api as sm\n",
        "from statsmodels.stats.outliers_influence import variance_inflation_factor\n",
        "import matplotlib.pyplot as plt\n",
        "import seaborn as sns\n",
        "# Step 5: Check for multicollinearity\n",
        "# Calculate VIF for each independent variable\n",
        "vif = pd.DataFrame()\n",
        "vif[\"Variable\"] = X.columns\n",
        "vif[\"VIF\"] = [variance_inflation_factor(X.values, i) for i in range(X.shape[1])]\n",
        "print(vif)\n",
        "\n",
        "# Step 6: Check model assumptions\n",
        "# Residual plot\n",
        "plt.figure(figsize=(8, 6))\n",
        "sns.residplot(x=model.fittedvalues, y=model.resid)\n",
        "plt.title(\"Residual Plot\")\n",
        "plt.xlabel(\"Fitted Values\")\n",
        "plt.ylabel(\"Residuals\")\n",
        "plt.show()\n",
        "\n",
        "# QQ plot of residuals\n",
        "sm.qqplot(model.resid, line='s')\n",
        "plt.title(\"Q-Q Plot of Residuals\")\n",
        "plt.show()"
      ],
      "metadata": {
        "colab": {
          "base_uri": "https://localhost:8080/",
          "height": 1000
        },
        "id": "Y-cuzbpR2kzv",
        "outputId": "a43d6163-1453-43fe-94ad-c18b7f875fea"
      },
      "execution_count": null,
      "outputs": [
        {
          "output_type": "stream",
          "name": "stdout",
          "text": [
            "R-squared: 0.004326787326382586\n",
            "           Variable           VIF\n",
            "0             const  0.000000e+00\n",
            "1        started_at  2.014713e+06\n",
            "2          ended_at  2.014719e+06\n",
            "3     member_casual  1.007721e+00\n",
            "4  Elevation_Change  1.079784e+00\n",
            "5          Distance  1.086409e+00\n"
          ]
        },
        {
          "output_type": "display_data",
          "data": {
            "text/plain": [
              "<Figure size 800x600 with 1 Axes>"
            ],
            "image/png": "[encoded data removed]"
          },
          "metadata": {}
        },
        {
          "output_type": "display_data",
          "data": {
            "text/plain": [
              "<Figure size 640x480 with 1 Axes>"
            ],
            "image/png": "[encoded data removed]"
          },
          "metadata": {}
        }
      ]
    },
    {
      "cell_type": "code",
      "source": [
        "rf_classifier = RandomForestClassifier(\n",
        "    n_estimators=50,      # Reduced number of trees\n",
        "    max_depth=15,         # Limiting tree depth\n",
        "    max_features='sqrt',  # Limiting the number of features considered for splits\n",
        "    min_samples_split=10, # Minimum number of samples required to split an internal node\n",
        "    min_samples_leaf=5,   # Minimum number of samples required to be at a leaf node\n",
        "    random_state=42,      # For reproducibility\n",
        "    class_weight='balanced', # Handling imbalanced classes\n",
        "    n_jobs=-1             # Use all cores available\n",
        ")"
      ],
      "metadata": {
        "id": "c2q4e-MA42FO"
      },
      "execution_count": null,
      "outputs": []
    },
    {
      "cell_type": "code",
      "source": [
        "from sklearn.ensemble import RandomForestClassifier\n",
        "\n",
        "# Initialize the Random Forest model\n",
        "rf_classifier = RandomForestClassifier(n_estimators=100, random_state=42, class_weight='balanced')\n",
        "rf_classifier.fit(X_train, y_train)\n",
        "\n",
        "# Predict on the testing set\n",
        "y_pred_rf = rf_classifier.predict(X_test)\n",
        "\n",
        "# Evaluate the model\n",
        "print(\"Random Forest - Classification Report:\")\n",
        "print(classification_report(y_test, y_pred_rf))"
      ],
      "metadata": {
        "colab": {
          "base_uri": "https://localhost:8080/",
          "height": 426
        },
        "id": "3q7_IzOHIKWO",
        "outputId": "75e73d92-1b06-43f0-f33a-745ac9a63fc0"
      },
      "execution_count": null,
      "outputs": [
        {
          "output_type": "error",
          "ename": "DTypePromotionError",
          "evalue": "The DType <class 'numpy.dtypes.DateTime64DType'> could not be promoted by <class 'numpy.dtypes.Float64DType'>. This means that no common DType exists for the given inputs. For example they cannot be stored in a single array unless the dtype is `object`. The full list of DTypes is: (<class 'numpy.dtypes.Int64DType'>, <class 'numpy.dtypes.DateTime64DType'>, <class 'numpy.dtypes.DateTime64DType'>, <class 'numpy.dtypes.Int64DType'>, <class 'numpy.dtypes.Float64DType'>, <class 'numpy.dtypes.Int64DType'>, <class 'numpy.dtypes.Int64DType'>)",
          "traceback": [
            "\u001b[0;31m---------------------------------------------------------------------------\u001b[0m",
            "\u001b[0;31mDTypePromotionError\u001b[0m                       Traceback (most recent call last)",
            "\u001b[0;32m<ipython-input-54-6f643a749308>\u001b[0m in \u001b[0;36m<cell line: 5>\u001b[0;34m()\u001b[0m\n\u001b[1;32m      3\u001b[0m \u001b[0;31m# Initialize the Random Forest model\u001b[0m\u001b[0;34m\u001b[0m\u001b[0;34m\u001b[0m\u001b[0m\n\u001b[1;32m      4\u001b[0m \u001b[0mrf_classifier\u001b[0m \u001b[0;34m=\u001b[0m \u001b[0mRandomForestClassifier\u001b[0m\u001b[0;34m(\u001b[0m\u001b[0mn_estimators\u001b[0m\u001b[0;34m=\u001b[0m\u001b[0;36m100\u001b[0m\u001b[0;34m,\u001b[0m \u001b[0mrandom_state\u001b[0m\u001b[0;34m=\u001b[0m\u001b[0;36m42\u001b[0m\u001b[0;34m,\u001b[0m \u001b[0mclass_weight\u001b[0m\u001b[0;34m=\u001b[0m\u001b[0;34m'balanced'\u001b[0m\u001b[0;34m)\u001b[0m\u001b[0;34m\u001b[0m\u001b[0;34m\u001b[0m\u001b[0m\n\u001b[0;32m----> 5\u001b[0;31m \u001b[0mrf_classifier\u001b[0m\u001b[0;34m.\u001b[0m\u001b[0mfit\u001b[0m\u001b[0;34m(\u001b[0m\u001b[0mX_train\u001b[0m\u001b[0;34m,\u001b[0m \u001b[0my_train\u001b[0m\u001b[0;34m)\u001b[0m\u001b[0;34m\u001b[0m\u001b[0;34m\u001b[0m\u001b[0m\n\u001b[0m\u001b[1;32m      6\u001b[0m \u001b[0;34m\u001b[0m\u001b[0m\n\u001b[1;32m      7\u001b[0m \u001b[0;31m# Predict on the testing set\u001b[0m\u001b[0;34m\u001b[0m\u001b[0;34m\u001b[0m\u001b[0m\n",
            "\u001b[0;32m/usr/local/lib/python3.10/dist-packages/sklearn/ensemble/_forest.py\u001b[0m in \u001b[0;36mfit\u001b[0;34m(self, X, y, sample_weight)\u001b[0m\n\u001b[1;32m    343\u001b[0m         \u001b[0;32mif\u001b[0m \u001b[0missparse\u001b[0m\u001b[0;34m(\u001b[0m\u001b[0my\u001b[0m\u001b[0;34m)\u001b[0m\u001b[0;34m:\u001b[0m\u001b[0;34m\u001b[0m\u001b[0;34m\u001b[0m\u001b[0m\n\u001b[1;32m    344\u001b[0m             \u001b[0;32mraise\u001b[0m \u001b[0mValueError\u001b[0m\u001b[0;34m(\u001b[0m\u001b[0;34m\"sparse multilabel-indicator for y is not supported.\"\u001b[0m\u001b[0;34m)\u001b[0m\u001b[0;34m\u001b[0m\u001b[0;34m\u001b[0m\u001b[0m\n\u001b[0;32m--> 345\u001b[0;31m         X, y = self._validate_data(\n\u001b[0m\u001b[1;32m    346\u001b[0m             \u001b[0mX\u001b[0m\u001b[0;34m,\u001b[0m \u001b[0my\u001b[0m\u001b[0;34m,\u001b[0m \u001b[0mmulti_output\u001b[0m\u001b[0;34m=\u001b[0m\u001b[0;32mTrue\u001b[0m\u001b[0;34m,\u001b[0m \u001b[0maccept_sparse\u001b[0m\u001b[0;34m=\u001b[0m\u001b[0;34m\"csc\"\u001b[0m\u001b[0;34m,\u001b[0m \u001b[0mdtype\u001b[0m\u001b[0;34m=\u001b[0m\u001b[0mDTYPE\u001b[0m\u001b[0;34m\u001b[0m\u001b[0;34m\u001b[0m\u001b[0m\n\u001b[1;32m    347\u001b[0m         )\n",
            "\u001b[0;32m/usr/local/lib/python3.10/dist-packages/sklearn/base.py\u001b[0m in \u001b[0;36m_validate_data\u001b[0;34m(self, X, y, reset, validate_separately, **check_params)\u001b[0m\n\u001b[1;32m    582\u001b[0m                 \u001b[0my\u001b[0m \u001b[0;34m=\u001b[0m \u001b[0mcheck_array\u001b[0m\u001b[0;34m(\u001b[0m\u001b[0my\u001b[0m\u001b[0;34m,\u001b[0m \u001b[0minput_name\u001b[0m\u001b[0;34m=\u001b[0m\u001b[0;34m\"y\"\u001b[0m\u001b[0;34m,\u001b[0m \u001b[0;34m**\u001b[0m\u001b[0mcheck_y_params\u001b[0m\u001b[0;34m)\u001b[0m\u001b[0;34m\u001b[0m\u001b[0;34m\u001b[0m\u001b[0m\n\u001b[1;32m    583\u001b[0m             \u001b[0;32melse\u001b[0m\u001b[0;34m:\u001b[0m\u001b[0;34m\u001b[0m\u001b[0;34m\u001b[0m\u001b[0m\n\u001b[0;32m--> 584\u001b[0;31m                 \u001b[0mX\u001b[0m\u001b[0;34m,\u001b[0m \u001b[0my\u001b[0m \u001b[0;34m=\u001b[0m \u001b[0mcheck_X_y\u001b[0m\u001b[0;34m(\u001b[0m\u001b[0mX\u001b[0m\u001b[0;34m,\u001b[0m \u001b[0my\u001b[0m\u001b[0;34m,\u001b[0m \u001b[0;34m**\u001b[0m\u001b[0mcheck_params\u001b[0m\u001b[0;34m)\u001b[0m\u001b[0;34m\u001b[0m\u001b[0;34m\u001b[0m\u001b[0m\n\u001b[0m\u001b[1;32m    585\u001b[0m             \u001b[0mout\u001b[0m \u001b[0;34m=\u001b[0m \u001b[0mX\u001b[0m\u001b[0;34m,\u001b[0m \u001b[0my\u001b[0m\u001b[0;34m\u001b[0m\u001b[0;34m\u001b[0m\u001b[0m\n\u001b[1;32m    586\u001b[0m \u001b[0;34m\u001b[0m\u001b[0m\n",
            "\u001b[0;32m/usr/local/lib/python3.10/dist-packages/sklearn/utils/validation.py\u001b[0m in \u001b[0;36mcheck_X_y\u001b[0;34m(X, y, accept_sparse, accept_large_sparse, dtype, order, copy, force_all_finite, ensure_2d, allow_nd, multi_output, ensure_min_samples, ensure_min_features, y_numeric, estimator)\u001b[0m\n\u001b[1;32m   1104\u001b[0m         )\n\u001b[1;32m   1105\u001b[0m \u001b[0;34m\u001b[0m\u001b[0m\n\u001b[0;32m-> 1106\u001b[0;31m     X = check_array(\n\u001b[0m\u001b[1;32m   1107\u001b[0m         \u001b[0mX\u001b[0m\u001b[0;34m,\u001b[0m\u001b[0;34m\u001b[0m\u001b[0;34m\u001b[0m\u001b[0m\n\u001b[1;32m   1108\u001b[0m         \u001b[0maccept_sparse\u001b[0m\u001b[0;34m=\u001b[0m\u001b[0maccept_sparse\u001b[0m\u001b[0;34m,\u001b[0m\u001b[0;34m\u001b[0m\u001b[0;34m\u001b[0m\u001b[0m\n",
            "\u001b[0;32m/usr/local/lib/python3.10/dist-packages/sklearn/utils/validation.py\u001b[0m in \u001b[0;36mcheck_array\u001b[0;34m(array, accept_sparse, accept_large_sparse, dtype, order, copy, force_all_finite, ensure_2d, allow_nd, ensure_min_samples, ensure_min_features, estimator, input_name)\u001b[0m\n\u001b[1;32m    776\u001b[0m         )\n\u001b[1;32m    777\u001b[0m         \u001b[0;32mif\u001b[0m \u001b[0mall\u001b[0m\u001b[0;34m(\u001b[0m\u001b[0misinstance\u001b[0m\u001b[0;34m(\u001b[0m\u001b[0mdtype_iter\u001b[0m\u001b[0;34m,\u001b[0m \u001b[0mnp\u001b[0m\u001b[0;34m.\u001b[0m\u001b[0mdtype\u001b[0m\u001b[0;34m)\u001b[0m \u001b[0;32mfor\u001b[0m \u001b[0mdtype_iter\u001b[0m \u001b[0;32min\u001b[0m \u001b[0mdtypes_orig\u001b[0m\u001b[0;34m)\u001b[0m\u001b[0;34m:\u001b[0m\u001b[0;34m\u001b[0m\u001b[0;34m\u001b[0m\u001b[0m\n\u001b[0;32m--> 778\u001b[0;31m             \u001b[0mdtype_orig\u001b[0m \u001b[0;34m=\u001b[0m \u001b[0mnp\u001b[0m\u001b[0;34m.\u001b[0m\u001b[0mresult_type\u001b[0m\u001b[0;34m(\u001b[0m\u001b[0;34m*\u001b[0m\u001b[0mdtypes_orig\u001b[0m\u001b[0;34m)\u001b[0m\u001b[0;34m\u001b[0m\u001b[0;34m\u001b[0m\u001b[0m\n\u001b[0m\u001b[1;32m    779\u001b[0m \u001b[0;34m\u001b[0m\u001b[0m\n\u001b[1;32m    780\u001b[0m     \u001b[0;32melif\u001b[0m \u001b[0mhasattr\u001b[0m\u001b[0;34m(\u001b[0m\u001b[0marray\u001b[0m\u001b[0;34m,\u001b[0m \u001b[0;34m\"iloc\"\u001b[0m\u001b[0;34m)\u001b[0m \u001b[0;32mand\u001b[0m \u001b[0mhasattr\u001b[0m\u001b[0;34m(\u001b[0m\u001b[0marray\u001b[0m\u001b[0;34m,\u001b[0m \u001b[0;34m\"dtype\"\u001b[0m\u001b[0;34m)\u001b[0m\u001b[0;34m:\u001b[0m\u001b[0;34m\u001b[0m\u001b[0;34m\u001b[0m\u001b[0m\n",
            "\u001b[0;31mDTypePromotionError\u001b[0m: The DType <class 'numpy.dtypes.DateTime64DType'> could not be promoted by <class 'numpy.dtypes.Float64DType'>. This means that no common DType exists for the given inputs. For example they cannot be stored in a single array unless the dtype is `object`. The full list of DTypes is: (<class 'numpy.dtypes.Int64DType'>, <class 'numpy.dtypes.DateTime64DType'>, <class 'numpy.dtypes.DateTime64DType'>, <class 'numpy.dtypes.Int64DType'>, <class 'numpy.dtypes.Float64DType'>, <class 'numpy.dtypes.Int64DType'>, <class 'numpy.dtypes.Int64DType'>)"
          ]
        }
      ]
    },
    {
      "cell_type": "code",
      "source": [
        "import pandas as pd\n",
        "import numpy as np\n",
        "from statsmodels.discrete.discrete_model import Poisson\n",
        "from sklearn.preprocessing import LabelEncoder\n",
        "\n",
        "# Assuming df is your DataFrame containing X and y\n",
        "# Ensure proper data types\n",
        "\n",
        "# # Convert datetime columns to numeric representation if needed\n",
        "# df['started_at'] = (df['started_at'] - pd.Timestamp(\"1970-01-01\")) // pd.Timedelta('1s')\n",
        "# df['ended_at'] = (df['ended_at'] - pd.Timestamp(\"1970-01-01\")) // pd.Timedelta('1s')\n",
        "\n",
        "# Encode categorical variables if needed\n",
        "label_encoder = LabelEncoder()\n",
        "df['member_casual'] = label_encoder.fit_transform(df['member_casual'])\n",
        "\n",
        "# Define y and X\n",
        "y = df['rideable_type'].astype('category').cat.codes  # Convert categorical to numeric codes\n",
        "X = df[['started_at', 'ended_at', 'member_casual', 'Elevation_Change', 'Distance']]\n",
        "\n",
        "import numpy as np\n",
        "from statsmodels.discrete.discrete_model import Poisson\n",
        "\n",
        "# Check for missing or infinite values in X\n",
        "print(\"Missing or Infinite Values in X:\")\n",
        "print(np.isnan(X).sum())\n",
        "print(np.isinf(X).sum())\n",
        "\n",
        "# Handle missing or infinite values in X\n",
        "# For example, you can impute missing values with the mean\n",
        "from sklearn.impute import SimpleImputer\n",
        "imputer = SimpleImputer(strategy='mean')\n",
        "X_imputed = imputer.fit_transform(X)\n",
        "\n",
        "# Re-fit the Poisson model\n",
        "poisson_model = Poisson(y, X_imputed).fit()\n",
        "\n",
        "# Analyze results\n",
        "print(poisson_model.summary())\n",
        "\n"
      ],
      "metadata": {
        "colab": {
          "base_uri": "https://localhost:8080/"
        },
        "id": "Z2UMUNrmoo8d",
        "outputId": "29ddb92e-57ee-4112-ba10-59aabce3e391"
      },
      "execution_count": null,
      "outputs": [
        {
          "output_type": "stream",
          "name": "stdout",
          "text": [
            "Missing or Infinite Values in X:\n",
            "started_at             0\n",
            "ended_at               0\n",
            "member_casual          0\n",
            "Elevation_Change       0\n",
            "Distance            7900\n",
            "dtype: int64\n",
            "started_at          0\n",
            "ended_at            0\n",
            "member_casual       0\n",
            "Elevation_Change    0\n",
            "Distance            0\n",
            "dtype: int64\n",
            "Optimization terminated successfully.\n",
            "         Current function value: 0.861441\n",
            "         Iterations 9\n",
            "                          Poisson Regression Results                          \n",
            "==============================================================================\n",
            "Dep. Variable:                      y   No. Observations:              9212593\n",
            "Model:                        Poisson   Df Residuals:                  9212588\n",
            "Method:                           MLE   Df Model:                            4\n",
            "Date:                Mon, 22 Apr 2024   Pseudo R-squ.:                0.001587\n",
            "Time:                        02:43:12   Log-Likelihood:            -7.9361e+06\n",
            "converged:                       True   LL-Null:                   -7.9487e+06\n",
            "Covariance Type:            nonrobust   LLR p-value:                     0.000\n",
            "==============================================================================\n",
            "                 coef    std err          z      P>|z|      [0.025      0.975]\n",
            "------------------------------------------------------------------------------\n",
            "x1          6.135e-06   3.25e-08    189.024      0.000    6.07e-06     6.2e-06\n",
            "x2         -6.135e-06   3.25e-08   -189.035      0.000    -6.2e-06   -6.07e-06\n",
            "x3            -0.0928      0.001    -99.786      0.000      -0.095      -0.091\n",
            "x4            -0.0003   1.11e-05    -27.575      0.000      -0.000      -0.000\n",
            "x5            -0.0002   1.24e-05    -19.507      0.000      -0.000      -0.000\n",
            "==============================================================================\n"
          ]
        }
      ]
    },
    {
      "cell_type": "code",
      "source": [
        "y = np.asarray(y)\n",
        "X = np.asarray(X)\n",
        "\n",
        "# Then, re-run the model fitting\n",
        "# poisson_model = Poisson(y, X).fit()"
      ],
      "metadata": {
        "id": "LYvo47Fl99hk"
      },
      "execution_count": null,
      "outputs": []
    },
    {
      "cell_type": "code",
      "source": [
        "from statsmodels.discrete.discrete_model import Poisson\n",
        "poisson_model = Poisson(y, X_clean).fit()"
      ],
      "metadata": {
        "colab": {
          "base_uri": "https://localhost:8080/"
        },
        "id": "jXDYPErmZrue",
        "outputId": "83e8084f-4d25-4252-ce5a-8fb382088178"
      },
      "execution_count": null,
      "outputs": [
        {
          "output_type": "stream",
          "name": "stdout",
          "text": [
            "Optimization terminated successfully.\n",
            "         Current function value: nan\n",
            "         Iterations 1\n"
          ]
        }
      ]
    },
    {
      "cell_type": "code",
      "source": [
        "import numpy as np\n",
        "from statsmodels.discrete.discrete_model import Poisson\n",
        "# Handle missing or infinite values in X\n",
        "X_clean = np.nan_to_num(X, nan=np.nanmean(X), posinf=np.nanmean(X), neginf=np.nanmean(X))\n",
        "\n",
        "# Then, re-run the model fitting\n",
        "poisson_model = Poisson(y, X_clean).fit()\n",
        "\n"
      ],
      "metadata": {
        "colab": {
          "base_uri": "https://localhost:8080/"
        },
        "id": "ax_B20ulZuxo",
        "outputId": "b481fbea-5616-41ad-9a44-1089f27f1b5e"
      },
      "execution_count": null,
      "outputs": [
        {
          "output_type": "stream",
          "name": "stdout",
          "text": [
            "Optimization terminated successfully.\n",
            "         Current function value: nan\n",
            "         Iterations 1\n"
          ]
        }
      ]
    },
    {
      "cell_type": "code",
      "source": [
        "poisson_predictions = poisson_model.predict(X)"
      ],
      "metadata": {
        "colab": {
          "base_uri": "https://localhost:8080/",
          "height": 298
        },
        "id": "fYiAZrkj-2jb",
        "outputId": "3db6b854-79b1-4cf3-937a-375e7663f656"
      },
      "execution_count": null,
      "outputs": [
        {
          "output_type": "error",
          "ename": "ValueError",
          "evalue": "shapes (9212593,6) and (3,) not aligned: 6 (dim 1) != 3 (dim 0)",
          "traceback": [
            "\u001b[0;31m---------------------------------------------------------------------------\u001b[0m",
            "\u001b[0;31mValueError\u001b[0m                                Traceback (most recent call last)",
            "\u001b[0;32m<ipython-input-50-4658aa02c9dd>\u001b[0m in \u001b[0;36m<cell line: 1>\u001b[0;34m()\u001b[0m\n\u001b[0;32m----> 1\u001b[0;31m \u001b[0mpoisson_predictions\u001b[0m \u001b[0;34m=\u001b[0m \u001b[0mpoisson_model\u001b[0m\u001b[0;34m.\u001b[0m\u001b[0mpredict\u001b[0m\u001b[0;34m(\u001b[0m\u001b[0mX\u001b[0m\u001b[0;34m)\u001b[0m\u001b[0;34m\u001b[0m\u001b[0;34m\u001b[0m\u001b[0m\n\u001b[0m",
            "\u001b[0;32m/usr/local/lib/python3.10/dist-packages/statsmodels/base/model.py\u001b[0m in \u001b[0;36mpredict\u001b[0;34m(self, exog, transform, *args, **kwargs)\u001b[0m\n\u001b[1;32m   1172\u001b[0m                                                         transform=transform)\n\u001b[1;32m   1173\u001b[0m \u001b[0;34m\u001b[0m\u001b[0m\n\u001b[0;32m-> 1174\u001b[0;31m         predict_results = self.model.predict(self.params, exog, *args,\n\u001b[0m\u001b[1;32m   1175\u001b[0m                                              **kwargs)\n\u001b[1;32m   1176\u001b[0m \u001b[0;34m\u001b[0m\u001b[0m\n",
            "\u001b[0;32m/usr/local/lib/python3.10/dist-packages/statsmodels/discrete/discrete_model.py\u001b[0m in \u001b[0;36mpredict\u001b[0;34m(self, params, exog, exposure, offset, which, linear, y_values)\u001b[0m\n\u001b[1;32m   1686\u001b[0m             \u001b[0mwhich\u001b[0m \u001b[0;34m=\u001b[0m \u001b[0;34m\"linear\"\u001b[0m\u001b[0;34m\u001b[0m\u001b[0;34m\u001b[0m\u001b[0m\n\u001b[1;32m   1687\u001b[0m         \u001b[0;32mif\u001b[0m \u001b[0mwhich\u001b[0m \u001b[0;32min\u001b[0m \u001b[0;34m[\u001b[0m\u001b[0;34m\"mean\"\u001b[0m\u001b[0;34m,\u001b[0m \u001b[0;34m\"linear\"\u001b[0m\u001b[0;34m]\u001b[0m\u001b[0;34m:\u001b[0m\u001b[0;34m\u001b[0m\u001b[0;34m\u001b[0m\u001b[0m\n\u001b[0;32m-> 1688\u001b[0;31m             return super().predict(params, exog=exog, exposure=exposure,\n\u001b[0m\u001b[1;32m   1689\u001b[0m                                    \u001b[0moffset\u001b[0m\u001b[0;34m=\u001b[0m\u001b[0moffset\u001b[0m\u001b[0;34m,\u001b[0m\u001b[0;34m\u001b[0m\u001b[0;34m\u001b[0m\u001b[0m\n\u001b[1;32m   1690\u001b[0m                                    which=which, linear=linear)\n",
            "\u001b[0;32m/usr/local/lib/python3.10/dist-packages/statsmodels/discrete/discrete_model.py\u001b[0m in \u001b[0;36mpredict\u001b[0;34m(self, params, exog, exposure, offset, which, linear)\u001b[0m\n\u001b[1;32m   1069\u001b[0m             \u001b[0mexog\u001b[0m \u001b[0;34m=\u001b[0m \u001b[0mself\u001b[0m\u001b[0;34m.\u001b[0m\u001b[0mexog\u001b[0m\u001b[0;34m\u001b[0m\u001b[0;34m\u001b[0m\u001b[0m\n\u001b[1;32m   1070\u001b[0m \u001b[0;34m\u001b[0m\u001b[0m\n\u001b[0;32m-> 1071\u001b[0;31m         \u001b[0mfitted\u001b[0m \u001b[0;34m=\u001b[0m \u001b[0mnp\u001b[0m\u001b[0;34m.\u001b[0m\u001b[0mdot\u001b[0m\u001b[0;34m(\u001b[0m\u001b[0mexog\u001b[0m\u001b[0;34m,\u001b[0m \u001b[0mparams\u001b[0m\u001b[0;34m[\u001b[0m\u001b[0;34m:\u001b[0m\u001b[0mexog\u001b[0m\u001b[0;34m.\u001b[0m\u001b[0mshape\u001b[0m\u001b[0;34m[\u001b[0m\u001b[0;36m1\u001b[0m\u001b[0;34m]\u001b[0m\u001b[0;34m]\u001b[0m\u001b[0;34m)\u001b[0m\u001b[0;34m\u001b[0m\u001b[0;34m\u001b[0m\u001b[0m\n\u001b[0m\u001b[1;32m   1072\u001b[0m         \u001b[0mlinpred\u001b[0m \u001b[0;34m=\u001b[0m \u001b[0mfitted\u001b[0m \u001b[0;34m+\u001b[0m \u001b[0mexposure\u001b[0m \u001b[0;34m+\u001b[0m \u001b[0moffset\u001b[0m\u001b[0;34m\u001b[0m\u001b[0;34m\u001b[0m\u001b[0m\n\u001b[1;32m   1073\u001b[0m         \u001b[0;32mif\u001b[0m \u001b[0mwhich\u001b[0m \u001b[0;34m==\u001b[0m \u001b[0;34m\"mean\"\u001b[0m\u001b[0;34m:\u001b[0m\u001b[0;34m\u001b[0m\u001b[0;34m\u001b[0m\u001b[0m\n",
            "\u001b[0;31mValueError\u001b[0m: shapes (9212593,6) and (3,) not aligned: 6 (dim 1) != 3 (dim 0)"
          ]
        }
      ]
    },
    {
      "cell_type": "code",
      "source": [
        "poisson_predictions"
      ],
      "metadata": {
        "colab": {
          "base_uri": "https://localhost:8080/"
        },
        "id": "AwremHso-8X5",
        "outputId": "44eab236-b3aa-4671-8c23-8844ad2a7c1d"
      },
      "execution_count": null,
      "outputs": [
        {
          "output_type": "execute_result",
          "data": {
            "text/plain": [
              "array([nan, nan, nan, ..., nan, nan, nan])"
            ]
          },
          "metadata": {},
          "execution_count": 34
        }
      ]
    },
    {
      "cell_type": "code",
      "source": [],
      "metadata": {
        "id": "sXmrMXAHaFBI"
      },
      "execution_count": null,
      "outputs": []
    }
  ]
}