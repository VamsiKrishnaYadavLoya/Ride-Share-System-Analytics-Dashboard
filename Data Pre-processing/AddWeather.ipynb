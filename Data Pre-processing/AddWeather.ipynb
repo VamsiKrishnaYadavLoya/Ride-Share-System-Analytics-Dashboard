{
 "cells": [
  {
   "cell_type": "code",
   "execution_count": 3,
   "id": "46f8813f-9c8d-4f07-8242-c87614e54f07",
   "metadata": {},
   "outputs": [
    {
     "name": "stdout",
     "output_type": "stream",
     "text": [
      "            ride_id  rideable_type  started_at         ended_at  \\\n",
      "0  C2F7DD78E82EC875  electric_bike  2022-01-13  1/13/2022 12:02   \n",
      "1  A6CF8980A652D272  electric_bike  2022-01-10   1/10/2022 8:46   \n",
      "2  BD0F91DFF741C66D   classic_bike  2022-01-25   1/25/2022 4:58   \n",
      "3  CBB80ED419105406   classic_bike  2022-01-04    1/4/2022 0:33   \n",
      "4  DDC963BFDDA51EEA   classic_bike  2022-01-20   1/20/2022 1:37   \n",
      "\n",
      "              start_station_name start_station_id  \\\n",
      "0       Glenwood Ave & Touhy Ave              525   \n",
      "1       Glenwood Ave & Touhy Ave              525   \n",
      "2  Sheffield Ave & Fullerton Ave     TA1306000016   \n",
      "3       Clark St & Bryn Mawr Ave     KA1504000151   \n",
      "4    Michigan Ave & Jackson Blvd     TA1309000002   \n",
      "\n",
      "                end_station_name end_station_id  start_lat  start_lng  ...  \\\n",
      "0           Clark St & Touhy Ave         RP-007  42.012800 -87.665906  ...   \n",
      "1           Clark St & Touhy Ave         RP-007  42.012763 -87.665967  ...   \n",
      "2  Greenview Ave & Fullerton Ave   TA1307000001  41.925602 -87.653708  ...   \n",
      "3      Paulina St & Montrose Ave   TA1309000021  41.983593 -87.669154  ...   \n",
      "4         State St & Randolph St   TA1305000029  41.877850 -87.624080  ...   \n",
      "\n",
      "   End_Altitude  end_altitude end_Altitude  Start_Altutude  State_Altitude  \\\n",
      "0         603.6           NaN          NaN             NaN             NaN   \n",
      "1         603.6           NaN          NaN             NaN             NaN   \n",
      "2         592.5           NaN          NaN             NaN             NaN   \n",
      "3         598.1           NaN          NaN             NaN             NaN   \n",
      "4         594.7           NaN          NaN             NaN             NaN   \n",
      "\n",
      "   Elevation_Change  TMAX_x  TMIN_x  TMAX_y  TMIN_y  \n",
      "0             419.5      41      29      41      29  \n",
      "1             419.0      20       8      20       8  \n",
      "2             410.8      15       2      15       2  \n",
      "3             415.2      36      24      36      24  \n",
      "4             412.2      22       9      22       9  \n",
      "\n",
      "[5 rows x 24 columns]\n"
     ]
    }
   ],
   "source": [
    "import pandas as pd\n",
    "# Load the data from both CSV files\n",
    "data1 = pd.read_csv('/Users/vloya1/Downloads/ChicagoTemperatures.csv') # This file contains tmax and tmin\n",
    "data2 = pd.read_csv('/Users/vloya1/Downloads/merged_rides_with_elevation.csv') # This file needs tmax and tmin added\n",
    "data1['started_at'] = pd.to_datetime(data1['DATE'])\n",
    "data2['started_at'] = pd.to_datetime(data2['started_at'])\n",
    "# Convert datetime to date-only format (yyyy-mm-dd)\n",
    "data1['started_at'] = data1['started_at'].dt.date\n",
    "data2['started_at'] = data2['started_at'].dt.date\n",
    "merged_data = pd.merge(data2, data1[['started_at', 'TMAX', 'TMIN']], on='started_at', how='left')\n",
    "# Check the first few rows of the merged data\n",
    "print(merged_data.head())"
   ]
  },
  {
   "cell_type": "code",
   "execution_count": 5,
   "id": "e820883d-63a0-44e1-8d6b-976e05cdecf7",
   "metadata": {},
   "outputs": [
    {
     "name": "stdout",
     "output_type": "stream",
     "text": [
      "Total NaNs in 'tmax' column: 0\n",
      "Total NaNs in 'tmin' column: 0\n"
     ]
    }
   ],
   "source": [
    "# Count NaNs in the 'tmax' column\n",
    "na_count_tmax = merged_data['TMAX_x'].isna().sum()\n",
    "# Count NaNs in the 'tmin' column\n",
    "na_count_tmin = merged_data['TMIN_x'].isna().sum()\n",
    "# Print the counts\n",
    "print(\"Total NaNs in 'tmax' column:\", na_count_tmax)\n",
    "print(\"Total NaNs in 'tmin' column:\", na_count_tmin)"
   ]
  },
  {
   "cell_type": "code",
   "execution_count": null,
   "id": "095e49bb-4e8d-4b52-a78b-78efa9410099",
   "metadata": {},
   "outputs": [],
   "source": [
    "merged_data.to_csv('/Users/vloya1/Downloads/merged_rides_with_weather.csv', index=False)"
   ]
  },
  {
   "cell_type": "code",
   "execution_count": null,
   "id": "f2a09284-e073-4d5a-99d2-af48b11c263e",
   "metadata": {},
   "outputs": [],
   "source": []
  }
 ],
 "metadata": {
  "kernelspec": {
   "display_name": "Python 3 (ipykernel)",
   "language": "python",
   "name": "python3"
  },
  "language_info": {
   "codemirror_mode": {
    "name": "ipython",
    "version": 3
   },
   "file_extension": ".py",
   "mimetype": "text/x-python",
   "name": "python",
   "nbconvert_exporter": "python",
   "pygments_lexer": "ipython3",
   "version": "3.11.7"
  }
 },
 "nbformat": 4,
 "nbformat_minor": 5
}
