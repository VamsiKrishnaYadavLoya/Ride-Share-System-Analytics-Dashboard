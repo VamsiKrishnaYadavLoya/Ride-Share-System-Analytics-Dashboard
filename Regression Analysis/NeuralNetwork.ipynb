{
 "cells": [
  {
   "cell_type": "code",
   "execution_count": 8,
   "id": "e031eea1-e58d-4e9c-a3ea-093d3fcef409",
   "metadata": {},
   "outputs": [
    {
     "name": "stdout",
     "output_type": "stream",
     "text": [
      "Epoch 1/10\n"
     ]
    },
    {
     "name": "stderr",
     "output_type": "stream",
     "text": [
      "/Users/jay/Library/Python/3.9/lib/python/site-packages/keras/src/layers/core/dense.py:87: UserWarning: Do not pass an `input_shape`/`input_dim` argument to a layer. When using Sequential models, prefer using an `Input(shape)` object as the first layer in the model instead.\n",
      "  super().__init__(activity_regularizer=activity_regularizer, **kwargs)\n"
     ]
    },
    {
     "name": "stdout",
     "output_type": "stream",
     "text": [
      "\u001b[1m199283/199283\u001b[0m \u001b[32m━━━━━━━━━━━━━━━━━━━━\u001b[0m\u001b[37m\u001b[0m \u001b[1m64s\u001b[0m 319us/step - accuracy: 0.5128 - loss: nan - val_accuracy: 0.5117 - val_loss: nan\n",
      "Epoch 2/10\n",
      "\u001b[1m199283/199283\u001b[0m \u001b[32m━━━━━━━━━━━━━━━━━━━━\u001b[0m\u001b[37m\u001b[0m \u001b[1m64s\u001b[0m 321us/step - accuracy: 0.5126 - loss: nan - val_accuracy: 0.5117 - val_loss: nan\n",
      "Epoch 3/10\n",
      "\u001b[1m199283/199283\u001b[0m \u001b[32m━━━━━━━━━━━━━━━━━━━━\u001b[0m\u001b[37m\u001b[0m \u001b[1m65s\u001b[0m 327us/step - accuracy: 0.5122 - loss: nan - val_accuracy: 0.5117 - val_loss: nan\n",
      "Epoch 4/10\n",
      "\u001b[1m199283/199283\u001b[0m \u001b[32m━━━━━━━━━━━━━━━━━━━━\u001b[0m\u001b[37m\u001b[0m \u001b[1m65s\u001b[0m 325us/step - accuracy: 0.5128 - loss: nan - val_accuracy: 0.5117 - val_loss: nan\n",
      "Epoch 5/10\n",
      "\u001b[1m199283/199283\u001b[0m \u001b[32m━━━━━━━━━━━━━━━━━━━━\u001b[0m\u001b[37m\u001b[0m \u001b[1m65s\u001b[0m 324us/step - accuracy: 0.5125 - loss: nan - val_accuracy: 0.5117 - val_loss: nan\n",
      "Epoch 6/10\n",
      "\u001b[1m199283/199283\u001b[0m \u001b[32m━━━━━━━━━━━━━━━━━━━━\u001b[0m\u001b[37m\u001b[0m \u001b[1m65s\u001b[0m 325us/step - accuracy: 0.5123 - loss: nan - val_accuracy: 0.5117 - val_loss: nan\n",
      "Epoch 7/10\n",
      "\u001b[1m199283/199283\u001b[0m \u001b[32m━━━━━━━━━━━━━━━━━━━━\u001b[0m\u001b[37m\u001b[0m \u001b[1m65s\u001b[0m 327us/step - accuracy: 0.5123 - loss: nan - val_accuracy: 0.5117 - val_loss: nan\n",
      "Epoch 8/10\n",
      "\u001b[1m199283/199283\u001b[0m \u001b[32m━━━━━━━━━━━━━━━━━━━━\u001b[0m\u001b[37m\u001b[0m \u001b[1m65s\u001b[0m 324us/step - accuracy: 0.5127 - loss: nan - val_accuracy: 0.5117 - val_loss: nan\n",
      "Epoch 9/10\n",
      "\u001b[1m199283/199283\u001b[0m \u001b[32m━━━━━━━━━━━━━━━━━━━━\u001b[0m\u001b[37m\u001b[0m \u001b[1m67s\u001b[0m 338us/step - accuracy: 0.5122 - loss: nan - val_accuracy: 0.5117 - val_loss: nan\n",
      "Epoch 10/10\n",
      "\u001b[1m199283/199283\u001b[0m \u001b[32m━━━━━━━━━━━━━━━━━━━━\u001b[0m\u001b[37m\u001b[0m \u001b[1m68s\u001b[0m 340us/step - accuracy: 0.5124 - loss: nan - val_accuracy: 0.5117 - val_loss: nan\n",
      "\u001b[1m106759/106759\u001b[0m \u001b[32m━━━━━━━━━━━━━━━━━━━━\u001b[0m\u001b[37m\u001b[0m \u001b[1m24s\u001b[0m 222us/step - accuracy: 0.5122 - loss: nan\n",
      "Test Accuracy: 0.5124087333679199\n",
      "\u001b[1m106759/106759\u001b[0m \u001b[32m━━━━━━━━━━━━━━━━━━━━\u001b[0m\u001b[37m\u001b[0m \u001b[1m23s\u001b[0m 214us/step\n"
     ]
    },
    {
     "name": "stderr",
     "output_type": "stream",
     "text": [
      "/Users/jay/Library/Python/3.9/lib/python/site-packages/sklearn/metrics/_classification.py:1509: UndefinedMetricWarning: Precision is ill-defined and being set to 0.0 in labels with no predicted samples. Use `zero_division` parameter to control this behavior.\n",
      "  _warn_prf(average, modifier, f\"{metric.capitalize()} is\", len(result))\n",
      "/Users/jay/Library/Python/3.9/lib/python/site-packages/sklearn/metrics/_classification.py:1509: UndefinedMetricWarning: Precision is ill-defined and being set to 0.0 in labels with no predicted samples. Use `zero_division` parameter to control this behavior.\n",
      "  _warn_prf(average, modifier, f\"{metric.capitalize()} is\", len(result))\n"
     ]
    },
    {
     "name": "stdout",
     "output_type": "stream",
     "text": [
      "              precision    recall  f1-score   support\n",
      "\n",
      "           0       0.51      1.00      0.68   1750525\n",
      "           1       0.00      0.00      0.00   1665742\n",
      "\n",
      "    accuracy                           0.51   3416267\n",
      "   macro avg       0.26      0.50      0.34   3416267\n",
      "weighted avg       0.26      0.51      0.35   3416267\n",
      "\n"
     ]
    },
    {
     "name": "stderr",
     "output_type": "stream",
     "text": [
      "/Users/jay/Library/Python/3.9/lib/python/site-packages/sklearn/metrics/_classification.py:1509: UndefinedMetricWarning: Precision is ill-defined and being set to 0.0 in labels with no predicted samples. Use `zero_division` parameter to control this behavior.\n",
      "  _warn_prf(average, modifier, f\"{metric.capitalize()} is\", len(result))\n"
     ]
    }
   ],
   "source": [
    "from sklearn.model_selection import train_test_split\n",
    "from sklearn.preprocessing import OneHotEncoder, StandardScaler\n",
    "from sklearn.compose import ColumnTransformer # type: ignore\n",
    "import tensorflow as tf # type: ignore\n",
    "from tensorflow.keras.models import Sequential # type: ignore\n",
    "from tensorflow.keras.layers import Dense # type: ignore\n",
    "from tensorflow.keras.utils import to_categorical # type: ignore\n",
    "import pandas as pd\n",
    "from sklearn.metrics import classification_report\n",
    "\n",
    "data = pd.read_csv('Combined_data.csv')\n",
    "\n",
    "# Encode categorical variables using OneHotEncoder and scale continuous variables\n",
    "categorical_features = ['member_casual', 'season', 'day_of_week']\n",
    "continuous_features = ['Elevation_Change', 'Distance', 'trip_duration', 'TMAX', 'TMIN']\n",
    "\n",
    "# Preprocessor that scales continuous features and encodes categorical features\n",
    "preprocessor = ColumnTransformer(\n",
    "    transformers=[\n",
    "        ('num', StandardScaler(), continuous_features),\n",
    "        ('cat', OneHotEncoder(), categorical_features)\n",
    "    ])\n",
    "\n",
    "# Split the data into features and target\n",
    "X = data.drop(['rideable_type','ride_id', 'rideable_type', 'started_at', 'ended_at', 'start_station_name',\n",
    "               'start_station_id', 'end_station_name', 'end_station_id'], axis=1)\n",
    "y = data['rideable_type']\n",
    "\n",
    "# Fit the preprocessor and transform the feature data\n",
    "X_processed = preprocessor.fit_transform(X)\n",
    "\n",
    "# Convert target variable to one-hot encoding\n",
    "y_encoded = to_categorical(y.factorize()[0])\n",
    "\n",
    "# Split the data into training and testing sets\n",
    "X_train, X_test, y_train, y_test = train_test_split(X_processed, y_encoded, test_size=0.3, random_state=42)\n",
    "\n",
    "# Neural network model\n",
    "model = Sequential([\n",
    "    Dense(64, input_shape=(X_train.shape[1],), activation='relu'),\n",
    "    Dense(32, activation='relu'),\n",
    "    Dense(y_encoded.shape[1], activation='softmax')  # Output layer with one neuron per class\n",
    "])\n",
    "\n",
    "# Compile the model\n",
    "model.compile(optimizer='adam', loss='categorical_crossentropy', metrics=['accuracy'])\n",
    "\n",
    "# Train the model\n",
    "history = model.fit(X_train, y_train, epochs=10, batch_size=32, validation_split=0.2)\n",
    "\n",
    "# Evaluate the model on the test data\n",
    "evaluation = model.evaluate(X_test, y_test)\n",
    "\n",
    "# Print accuracy\n",
    "print('Test Accuracy:', evaluation[1])\n",
    "\n",
    "# Classification report\n",
    "y_pred = model.predict(X_test)\n",
    "y_pred_classes = tf.argmax(y_pred, axis=1).numpy()\n",
    "y_true_classes = tf.argmax(y_test, axis=1).numpy()\n",
    "\n",
    "print(classification_report(y_true_classes, y_pred_classes))"
   ]
  },
  {
   "cell_type": "code",
   "execution_count": null,
   "id": "7dc73b29-9f2d-4f34-9d13-7127913ec2a1",
   "metadata": {},
   "outputs": [],
   "source": []
  }
 ],
 "metadata": {
  "kernelspec": {
   "display_name": "Python 3 (ipykernel)",
   "language": "python",
   "name": "python3"
  },
  "language_info": {
   "codemirror_mode": {
    "name": "ipython",
    "version": 3
   },
   "file_extension": ".py",
   "mimetype": "text/x-python",
   "name": "python",
   "nbconvert_exporter": "python",
   "pygments_lexer": "ipython3",
   "version": "3.9.6"
  }
 },
 "nbformat": 4,
 "nbformat_minor": 5
}
