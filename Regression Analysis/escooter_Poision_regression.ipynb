{
  "cells": [
    {
      "cell_type": "code",
      "execution_count": null,
      "metadata": {
        "id": "W4B7SkEdRyKN"
      },
      "outputs": [],
      "source": [
        "import pandas as pd"
      ]
    },
    {
      "cell_type": "code",
      "execution_count": null,
      "metadata": {
        "id": "wWG0CdlperPK"
      },
      "outputs": [],
      "source": [
        "escooter_df = pd.read_csv('2022-2023_escooter_LimeLyftSpine.csv')"
      ]
    },
    {
      "cell_type": "code",
      "execution_count": null,
      "metadata": {
        "colab": {
          "base_uri": "https://localhost:8080/"
        },
        "id": "81Q-NwaQj31P",
        "outputId": "2b4b825f-0668-4e7d-e796-90f339269d48"
      },
      "outputs": [
        {
          "name": "stdout",
          "output_type": "stream",
          "text": [
            "Mounted at /content/drive\n"
          ]
        }
      ],
      "source": [
        "from google.colab import drive\n",
        "drive.mount('/content/drive')"
      ]
    },
    {
      "cell_type": "code",
      "execution_count": null,
      "metadata": {
        "id": "0BEua0oWhFDK"
      },
      "outputs": [],
      "source": [
        "df = pd.read_csv('/content/drive/MyDrive/dataset/iris.csv')"
      ]
    },
    {
      "cell_type": "code",
      "execution_count": null,
      "metadata": {
        "id": "lDCwoP-ajbaI"
      },
      "outputs": [],
      "source": []
    },
    {
      "cell_type": "code",
      "execution_count": null,
      "metadata": {
        "colab": {
          "base_uri": "https://localhost:8080/"
        },
        "id": "wTrydNq6ewbs",
        "outputId": "446417ee-20ad-4b3a-9cd2-49d35d9ea8f6"
      },
      "outputs": [
        {
          "data": {
            "text/plain": [
              "Index(['Trip ID', 'Start Time', 'End Time', 'Vendor',\n",
              "       'Start Community Area Number', 'End Community Area Number',\n",
              "       'Start Community Area Name', 'End Community Area Name',\n",
              "       'Start Centroid Latitude', 'Start Centroid Longitude',\n",
              "       'Start Centroid Location', 'End Centroid Latitude',\n",
              "       'End Centroid Longitude', 'End Centroid Location',\n",
              "       'Trip Distance (miles)', 'Trip Duration (minutes)', 'hour_of_day',\n",
              "       'season', 'trip_duration', 'trip_duration_minutes'],\n",
              "      dtype='object')"
            ]
          },
          "execution_count": 56,
          "metadata": {},
          "output_type": "execute_result"
        }
      ],
      "source": [
        "escooter_df.columns"
      ]
    },
    {
      "cell_type": "code",
      "execution_count": null,
      "metadata": {
        "id": "xWWY0pImeyxA"
      },
      "outputs": [],
      "source": [
        "escooter_df['Start Time'] = pd.to_datetime(escooter_df['Start Time'], format=\"mixed\")\n",
        "escooter_df['End Time'] = pd.to_datetime(escooter_df['End Time'], format=\"mixed\")"
      ]
    },
    {
      "cell_type": "code",
      "execution_count": null,
      "metadata": {
        "colab": {
          "base_uri": "https://localhost:8080/"
        },
        "id": "4tesKRdM2hct",
        "outputId": "f8d40901-9f44-4cb5-d0f7-fe66892f3261"
      },
      "outputs": [
        {
          "name": "stdout",
          "output_type": "stream",
          "text": [
            "Start Date: 2022-05-10 09:00:00\n",
            "End Date: 2023-09-30 19:00:00\n"
          ]
        }
      ],
      "source": [
        "start_date = escooter_df['Start Time'].min()\n",
        "end_date = escooter_df['Start Time'].max()\n",
        "\n",
        "print(\"Start Date:\", start_date)\n",
        "print(\"End Date:\", end_date)"
      ]
    },
    {
      "cell_type": "code",
      "execution_count": null,
      "metadata": {
        "id": "FQJ_xLLUh7rV"
      },
      "outputs": [],
      "source": [
        "#Group by day and count rows\n",
        "df_day = escooter_df.groupby(escooter_df['Start Time'].dt.date).size().reset_index(name='count')\n",
        "\n",
        "# Add the 'count' column to the original DataFrame\n",
        "escooter_df['daily_ride_count'] = escooter_df['Start Time'].dt.date.map(df_day.set_index('Start Time').get('count'))"
      ]
    },
    {
      "cell_type": "code",
      "execution_count": null,
      "metadata": {
        "id": "eou4P4F8ifub"
      },
      "outputs": [],
      "source": [
        "# Define function to map months to seasons\n",
        "def get_season(month):\n",
        "    if 3 <= month <= 5:\n",
        "        return 'Spring'\n",
        "    elif 6 <= month <= 8:\n",
        "        return 'Summer'\n",
        "    elif 9 <= month <= 11:\n",
        "        return 'Fall'\n",
        "    else:\n",
        "        return 'Winter'\n",
        "\n",
        "# Extract month from timestamp and map to season\n",
        "escooter_df['season'] = escooter_df['Start Time'].dt.month.map(get_season)"
      ]
    },
    {
      "cell_type": "code",
      "execution_count": null,
      "metadata": {
        "id": "XzWUg2a_jvDS"
      },
      "outputs": [],
      "source": [
        "def get_day_of_week(timestamp):\n",
        "    return timestamp.strftime(\"%A\")\n",
        "\n",
        "# Apply the function to each row in the DataFrame\n",
        "escooter_df['day_of_week'] = escooter_df['Start Time'].apply(get_day_of_week)"
      ]
    },
    {
      "cell_type": "code",
      "execution_count": null,
      "metadata": {
        "colab": {
          "base_uri": "https://localhost:8080/"
        },
        "id": "h2ffToE1kDyb",
        "outputId": "7a1c8ae8-b162-48e8-d9c9-4b38e2261aeb"
      },
      "outputs": [
        {
          "data": {
            "text/plain": [
              "Index(['Trip ID', 'Start Time', 'End Time', 'Vendor',\n",
              "       'Start Community Area Number', 'End Community Area Number',\n",
              "       'Start Community Area Name', 'End Community Area Name',\n",
              "       'Start Centroid Latitude', 'Start Centroid Longitude',\n",
              "       'Start Centroid Location', 'End Centroid Latitude',\n",
              "       'End Centroid Longitude', 'End Centroid Location',\n",
              "       'Trip Distance (miles)', 'Trip Duration (minutes)', 'hour_of_day',\n",
              "       'season', 'trip_duration', 'trip_duration_minutes', 'daily_ride_count',\n",
              "       'day_of_week'],\n",
              "      dtype='object')"
            ]
          },
          "execution_count": 62,
          "metadata": {},
          "output_type": "execute_result"
        }
      ],
      "source": [
        "escooter_df.columns"
      ]
    },
    {
      "cell_type": "code",
      "execution_count": null,
      "metadata": {
        "id": "jyT5jF-ehUY8"
      },
      "outputs": [],
      "source": [
        "escooter_df.to_csv('2022-2023_escooter_LimeLyftSpine_season_day_of_week.csv',index=False)"
      ]
    },
    {
      "cell_type": "code",
      "execution_count": null,
      "metadata": {
        "id": "b7hKl29nhuDa"
      },
      "outputs": [],
      "source": []
    },
    {
      "cell_type": "code",
      "execution_count": null,
      "metadata": {
        "colab": {
          "base_uri": "https://localhost:8080/"
        },
        "id": "EuordsB7kmGN",
        "outputId": "e91b50c8-c08b-467d-852c-cb309443ebaf"
      },
      "outputs": [
        {
          "data": {
            "text/plain": [
              "season\n",
              "Summer    403471\n",
              "Fall      215384\n",
              "Spring    106217\n",
              "Winter     11432\n",
              "Name: count, dtype: int64"
            ]
          },
          "execution_count": 36,
          "metadata": {},
          "output_type": "execute_result"
        }
      ],
      "source": [
        "escooter_df['season'].value_counts()"
      ]
    },
    {
      "cell_type": "code",
      "execution_count": null,
      "metadata": {
        "id": "7kztX12qkFen"
      },
      "outputs": [],
      "source": [
        "independent_var_df = escooter_df.copy()\n",
        "independent_var_df = independent_var_df[['Vendor','Trip Distance (miles)', 'Trip Duration (minutes)', 'hour_of_day', 'season', 'count','day_of_week']]"
      ]
    },
    {
      "cell_type": "code",
      "execution_count": null,
      "metadata": {
        "id": "_g2rn5uNkSa2"
      },
      "outputs": [],
      "source": [
        "escooter_Summer = independent_var_df[independent_var_df['season'] == 'Summer']\n",
        "escooter_Winter = independent_var_df[independent_var_df['season'] == 'Winter']\n",
        "escooter_Fall = independent_var_df[independent_var_df['season'] == 'Fall']\n",
        "escooter_Spring = independent_var_df[independent_var_df['season'] == 'Spring']"
      ]
    },
    {
      "cell_type": "code",
      "execution_count": null,
      "metadata": {
        "colab": {
          "base_uri": "https://localhost:8080/"
        },
        "id": "iDX6UNgQDonT",
        "outputId": "5da58813-5b2e-4424-ea23-601802042c01"
      },
      "outputs": [
        {
          "data": {
            "text/plain": [
              "(403471, 7)"
            ]
          },
          "execution_count": 38,
          "metadata": {},
          "output_type": "execute_result"
        }
      ],
      "source": [
        "escooter_Summer.shape"
      ]
    },
    {
      "cell_type": "code",
      "execution_count": null,
      "metadata": {
        "colab": {
          "base_uri": "https://localhost:8080/"
        },
        "id": "Q3aChTZqDs5-",
        "outputId": "bf832164-469e-4f3f-fb18-cc167fa004da"
      },
      "outputs": [
        {
          "data": {
            "text/plain": [
              "(11432, 7)"
            ]
          },
          "execution_count": 39,
          "metadata": {},
          "output_type": "execute_result"
        }
      ],
      "source": [
        "escooter_Winter.shape"
      ]
    },
    {
      "cell_type": "code",
      "execution_count": null,
      "metadata": {
        "colab": {
          "base_uri": "https://localhost:8080/"
        },
        "id": "P4i12k4rDs-Z",
        "outputId": "fc3d246f-4781-4ca7-ae86-3a9d43ca3faf"
      },
      "outputs": [
        {
          "data": {
            "text/plain": [
              "(215384, 7)"
            ]
          },
          "execution_count": 40,
          "metadata": {},
          "output_type": "execute_result"
        }
      ],
      "source": [
        "escooter_Fall.shape"
      ]
    },
    {
      "cell_type": "code",
      "execution_count": null,
      "metadata": {
        "colab": {
          "base_uri": "https://localhost:8080/"
        },
        "id": "SpQ6rtCTDw3N",
        "outputId": "d400babd-0f52-47e8-d98c-6a54de1fc922"
      },
      "outputs": [
        {
          "data": {
            "text/plain": [
              "(106217, 7)"
            ]
          },
          "execution_count": 41,
          "metadata": {},
          "output_type": "execute_result"
        }
      ],
      "source": [
        "escooter_Spring.shape"
      ]
    },
    {
      "cell_type": "code",
      "execution_count": null,
      "metadata": {
        "id": "mHud3ITIl6fG"
      },
      "outputs": [],
      "source": [
        "import matplotlib\n",
        "matplotlib.use('Agg')\n",
        "\n",
        "import pandas as pd\n",
        "import matplotlib.pyplot as plt\n",
        "import numpy as np\n",
        "import seaborn as sns\n",
        "\n",
        "import statsmodels.api as sm\n",
        "import statsmodels.formula.api as smf\n",
        "import statsmodels\n",
        "from statsmodels.genmod.families import Poisson\n",
        "from statsmodels.tools.eval_measures import rmse\n",
        "\n",
        "#from sklearn.cross_validation import train_test_split\n",
        "from sklearn import metrics\n",
        "from sklearn.metrics import r2_score\n",
        "from sklearn.linear_model import LinearRegression\n",
        "from sklearn.model_selection import train_test_split"
      ]
    },
    {
      "cell_type": "code",
      "execution_count": null,
      "metadata": {
        "colab": {
          "base_uri": "https://localhost:8080/",
          "height": 35
        },
        "id": "evtWHPxwmBY7",
        "outputId": "547592b1-aedd-4175-a06c-8579fa0f9d3b"
      },
      "outputs": [
        {
          "data": {
            "application/vnd.google.colaboratory.intrinsic+json": {
              "type": "string"
            },
            "text/plain": [
              "'0.14.2'"
            ]
          },
          "execution_count": 18,
          "metadata": {},
          "output_type": "execute_result"
        }
      ],
      "source": [
        "import warnings\n",
        "warnings.filterwarnings(\"ignore\")\n",
        "\n",
        "statsmodels.__version__"
      ]
    },
    {
      "cell_type": "code",
      "execution_count": null,
      "metadata": {
        "colab": {
          "base_uri": "https://localhost:8080/"
        },
        "id": "5fpJhyw06StE",
        "outputId": "fb688379-61a3-4329-9188-f0a7750ad71e"
      },
      "outputs": [
        {
          "data": {
            "text/plain": [
              "20.139838408949657"
            ]
          },
          "execution_count": 22,
          "metadata": {},
          "output_type": "execute_result"
        }
      ],
      "source": [
        "escooter_df['Trip Distance (miles)'].max()"
      ]
    },
    {
      "cell_type": "code",
      "execution_count": null,
      "metadata": {
        "colab": {
          "base_uri": "https://localhost:8080/"
        },
        "id": "GqaevxAg6YPG",
        "outputId": "ee67446d-8bfb-418b-c50a-5a2ba1203f35"
      },
      "outputs": [
        {
          "data": {
            "text/plain": [
              "0.0"
            ]
          },
          "execution_count": 23,
          "metadata": {},
          "output_type": "execute_result"
        }
      ],
      "source": [
        "escooter_df['Trip Distance (miles)'].min()"
      ]
    },
    {
      "cell_type": "code",
      "execution_count": null,
      "metadata": {
        "id": "T1UaCmzImCKG"
      },
      "outputs": [],
      "source": [
        "# poisson regression\n",
        "def poission_regression(df,season_type):\n",
        "    # create a poisson regression model\n",
        "    print(\"\\--------------------------------------\")\n",
        "    print(\"\\poisson regression with constant\")\n",
        "    print(\"\\--------------------------------------\")\n",
        "    pd.set_option('display.max_columns', None)\n",
        "    #df = pd.concat((df, pd.get_dummies(df['season'])), axis=1)\n",
        "    df = pd.concat((df, pd.get_dummies(df['day_of_week'])), axis=1)\n",
        "    #df = pd.concat((df, pd.get_dummies(df['Trip Distance (miles)'])), axis=1)\n",
        "    df = pd.concat((df, pd.get_dummies(df['Vendor'])), axis=1)\n",
        "    print(df.columns)\n",
        "\n",
        "    y = df['count']\n",
        "    x = df[['Lime', 'Lyft', 'Spin','Trip Distance (miles)','Trip Duration (minutes)', 'Friday', 'Monday', 'Saturday', 'Sunday','Thursday', 'Tuesday', 'Wednesday']]\n",
        "    #x = df[['Lime','Link', 'Lyft', 'Spin','Trip Distance (miles)','Trip Duration (minutes)', 'Friday', 'Monday', 'Saturday', 'Sunday','Thursday', 'Tuesday', 'Wednesday']]\n",
        "    x = sm.add_constant(x)\n",
        "    x = x.astype(float)\n",
        "\n",
        "    pm = sm.GLM(y, x, family=sm.families.Poisson()).fit()\n",
        "    print(pm.summary().as_latex())\n",
        "    print(\"Pm params values and coefficients for {}\".format(season_type))\n",
        "    coefficients = pm.params\n",
        "    p_values = pm.pvalues\n",
        "    for coef, p_val in zip(coefficients, p_values):\n",
        "        if p_val < 0.001:\n",
        "            significance = '***'\n",
        "        elif p_val < 0.01:\n",
        "            significance = '**'\n",
        "        elif p_val < 0.05:\n",
        "            significance = '*'\n",
        "        else:\n",
        "            significance = ''\n",
        "        print(f\"{coef}{significance} (p-value: {p_val})\")\n",
        "    # Display coefficient values\n",
        "    print(\"Coefficient Values for {}:\".format(season_type))\n",
        "    print(coefficients)\n",
        "    print(\"poisson regression's rmse value\")\n",
        "    print(sm.tools.eval_measures.rmse(y, pm.fittedvalues, axis=0))\n",
        "\n",
        "    pr_predict(x, y, season_type)"
      ]
    },
    {
      "cell_type": "code",
      "execution_count": null,
      "metadata": {
        "id": "Cqs4OeNimft6"
      },
      "outputs": [],
      "source": [
        "# poisson regression prediction\n",
        "def pr_predict(x, y, weather):\n",
        "    #############################\n",
        "    #here is for train/test ratio 80:20\n",
        "    size = 0.2\n",
        "\n",
        "    #train r2, rmse\n",
        "    print(\"PR train r2 and rmse\")\n",
        "    x_train, x_test, y_train, y_test = train_test_split(x, y, test_size = size)\n",
        "    pm_train = sm.GLM(y_train, x_train, family=sm.families.Poisson()).fit()\n",
        "    print(np.sqrt(metrics.mean_squared_error(y_train, pm_train.predict(x_train))))\n",
        "    #test r2, rmse\n",
        "    print(\"PR test r2 and rmse\")\n",
        "    pm_test = sm.Poisson(y_train, x_train).fit()\n",
        "    y_pred = pm_test.predict(x_test)\n",
        "\n",
        "    print(\"\\n********************************\")\n",
        "    print(np.sqrt(metrics.mean_squared_error(y_test, y_pred)))\n",
        "\n",
        "    df = pd.DataFrame({'Actual': y_test, 'Predicted': y_pred})\n",
        "    df1 = df.copy()\n",
        "    df1.sort_index(inplace=True)\n",
        "    plt.plot(df1['Actual'], c=\"blue\", label=\"actual\", linewidth=2)\n",
        "    plt.plot(df1['Predicted'], c=\"red\", label=\"predicted\", linewidth=2)\n",
        "    plt.legend()\n",
        "    plt.title('Daily Escooter usage  during {}'.format(weather))\n",
        "    plt.savefig('escooter_prediction_{}.png'.format(weather))\n",
        "    #plt.savefig(\"weather_duration_prediction_test.png\")\n",
        "    plt.show()\n",
        "    plt.clf()\n",
        "    plt.cla()\n",
        "    plt.close()"
      ]
    },
    {
      "cell_type": "code",
      "execution_count": null,
      "metadata": {
        "id": "YjlMO_EdFog-"
      },
      "outputs": [],
      "source": []
    },
    {
      "cell_type": "code",
      "execution_count": null,
      "metadata": {
        "colab": {
          "base_uri": "https://localhost:8080/"
        },
        "id": "_stZIPJsnVr4",
        "outputId": "85026841-859a-437a-e8d3-565fbf69675f"
      },
      "outputs": [
        {
          "name": "stdout",
          "output_type": "stream",
          "text": [
            "\\--------------------------------------\n",
            "\\poisson regression with constant\n",
            "\\--------------------------------------\n",
            "Index(['Vendor', 'Trip Distance (miles)', 'Trip Duration (minutes)',\n",
            "       'hour_of_day', 'season', 'count', 'day_of_week', 'Friday', 'Monday',\n",
            "       'Saturday', 'Sunday', 'Thursday', 'Tuesday', 'Wednesday', 'Lime',\n",
            "       'Lyft', 'Spin'],\n",
            "      dtype='object')\n",
            "\\begin{center}\n",
            "\\begin{tabular}{lclc}\n",
            "\\toprule\n",
            "\\textbf{Dep. Variable:}          &      count       & \\textbf{  No. Observations:  } &     11432    \\\\\n",
            "\\textbf{Model:}                  &       GLM        & \\textbf{  Df Residuals:      } &     11421    \\\\\n",
            "\\textbf{Model Family:}           &     Poisson      & \\textbf{  Df Model:          } &        10    \\\\\n",
            "\\textbf{Link Function:}          &       Log        & \\textbf{  Scale:             } &     1.0000   \\\\\n",
            "\\textbf{Method:}                 &       IRLS       & \\textbf{  Log-Likelihood:    } & -4.1205e+05  \\\\\n",
            "\\textbf{Date:}                   & Mon, 22 Apr 2024 & \\textbf{  Deviance:          } &  7.4433e+05  \\\\\n",
            "\\textbf{Time:}                   &     03:41:59     & \\textbf{  Pearson chi2:      } &   8.02e+05   \\\\\n",
            "\\textbf{No. Iterations:}         &        5         & \\textbf{  Pseudo R-squ. (CS):} &     1.000    \\\\\n",
            "\\textbf{Covariance Type:}        &    nonrobust     & \\textbf{                     } &              \\\\\n",
            "\\bottomrule\n",
            "\\end{tabular}\n",
            "\\begin{tabular}{lcccccc}\n",
            "                                 & \\textbf{coef} & \\textbf{std err} & \\textbf{z} & \\textbf{P$> |$z$|$} & \\textbf{[0.025} & \\textbf{0.975]}  \\\\\n",
            "\\midrule\n",
            "\\textbf{const}                   &       3.7894  &        0.001     &  3507.688  &         0.000        &        3.787    &        3.791     \\\\\n",
            "\\textbf{Lime}                    &       1.4573  &        0.001     &  1160.078  &         0.000        &        1.455    &        1.460     \\\\\n",
            "\\textbf{Lyft}                    &       0.8156  &        0.001     &   734.839  &         0.000        &        0.813    &        0.818     \\\\\n",
            "\\textbf{Spin}                    &       1.5165  &        0.003     &   584.627  &         0.000        &        1.511    &        1.522     \\\\\n",
            "\\textbf{Trip Distance (miles)}   &       0.0077  &        0.001     &    11.278  &         0.000        &        0.006    &        0.009     \\\\\n",
            "\\textbf{Trip Duration (minutes)} &       0.0004  &     6.85e-05     &     6.028  &         0.000        &        0.000    &        0.001     \\\\\n",
            "\\textbf{Friday}                  &       0.6607  &        0.001     &   447.541  &         0.000        &        0.658    &        0.664     \\\\\n",
            "\\textbf{Monday}                  &       0.5648  &        0.002     &   354.836  &         0.000        &        0.562    &        0.568     \\\\\n",
            "\\textbf{Saturday}                &       0.4334  &        0.002     &   257.625  &         0.000        &        0.430    &        0.437     \\\\\n",
            "\\textbf{Sunday}                  &       0.3613  &        0.002     &   202.783  &         0.000        &        0.358    &        0.365     \\\\\n",
            "\\textbf{Thursday}                &       0.6427  &        0.001     &   456.132  &         0.000        &        0.640    &        0.646     \\\\\n",
            "\\textbf{Tuesday}                 &       0.5860  &        0.002     &   380.399  &         0.000        &        0.583    &        0.589     \\\\\n",
            "\\textbf{Wednesday}               &       0.5405  &        0.002     &   326.097  &         0.000        &        0.537    &        0.544     \\\\\n",
            "\\bottomrule\n",
            "\\end{tabular}\n",
            "%\\caption{Generalized Linear Model Regression Results}\n",
            "\\end{center}\n",
            "Pm params values and coefficients for Winter\n",
            "3.789373888994692*** (p-value: 0.0)\n",
            "1.4572538905703454*** (p-value: 0.0)\n",
            "0.8156021528960977*** (p-value: 0.0)\n",
            "1.5165178455282609*** (p-value: 0.0)\n",
            "0.007719381439128036*** (p-value: 1.6886820719026697e-29)\n",
            "0.0004127259326769826*** (p-value: 1.6578806114678265e-09)\n",
            "0.6606791641336119*** (p-value: 0.0)\n",
            "0.564800785418407*** (p-value: 0.0)\n",
            "0.4333552851140358*** (p-value: 0.0)\n",
            "0.36126741457422024*** (p-value: 0.0)\n",
            "0.6427445519434248*** (p-value: 0.0)\n",
            "0.5860413052810849*** (p-value: 0.0)\n",
            "0.5404853825299052*** (p-value: 0.0)\n",
            "Coefficient Values for Winter:\n",
            "const                      3.789374\n",
            "Lime                       1.457254\n",
            "Lyft                       0.815602\n",
            "Spin                       1.516518\n",
            "Trip Distance (miles)      0.007719\n",
            "Trip Duration (minutes)    0.000413\n",
            "Friday                     0.660679\n",
            "Monday                     0.564801\n",
            "Saturday                   0.433355\n",
            "Sunday                     0.361267\n",
            "Thursday                   0.642745\n",
            "Tuesday                    0.586041\n",
            "Wednesday                  0.540485\n",
            "dtype: float64\n",
            "poisson regression's rmse value\n",
            "116.27715713429102\n",
            "PR train r2 and rmse\n",
            "116.5395315578433\n",
            "PR test r2 and rmse\n",
            "Warning: Maximum number of iterations has been exceeded.\n",
            "         Current function value: 36.204283\n",
            "         Iterations: 35\n",
            "\n",
            "********************************\n",
            "115.37269369522966\n"
          ]
        }
      ],
      "source": [
        "poission_regression(escooter_Winter,\"Winter\")"
      ]
    },
    {
      "cell_type": "code",
      "execution_count": null,
      "metadata": {
        "colab": {
          "base_uri": "https://localhost:8080/"
        },
        "id": "K5jzf74VnWuk",
        "outputId": "9bbdc038-7dd4-4e74-ec59-5de871c80aa8"
      },
      "outputs": [
        {
          "data": {
            "text/plain": [
              "(403471, 7)"
            ]
          },
          "execution_count": 26,
          "metadata": {},
          "output_type": "execute_result"
        }
      ],
      "source": [
        "escooter_Summer.shape"
      ]
    },
    {
      "cell_type": "code",
      "execution_count": null,
      "metadata": {
        "id": "Al5UWmROnaLE"
      },
      "outputs": [],
      "source": []
    }
  ],
  "metadata": {
    "colab": {
      "provenance": []
    },
    "kernelspec": {
      "display_name": "Python 3",
      "name": "python3"
    },
    "language_info": {
      "name": "python"
    }
  },
  "nbformat": 4,
  "nbformat_minor": 0
}
