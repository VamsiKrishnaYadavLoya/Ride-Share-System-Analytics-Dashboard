{
  "cells": [
    {
      "cell_type": "code",
      "execution_count": null,
      "metadata": {
        "colab": {
          "base_uri": "https://localhost:8080/"
        },
        "id": "iAV8-yzPJJ1o",
        "outputId": "11b14578-3be1-4961-e4f5-a5b5b7d3bb64"
      },
      "outputs": [
        {
          "name": "stdout",
          "output_type": "stream",
          "text": [
            "Requirement already satisfied: pandas in /usr/local/lib/python3.10/dist-packages (1.5.3)\n",
            "Requirement already satisfied: matplotlib in /usr/local/lib/python3.10/dist-packages (3.7.1)\n",
            "Requirement already satisfied: scikit-learn in /usr/local/lib/python3.10/dist-packages (1.2.2)\n",
            "Requirement already satisfied: python-dateutil>=2.8.1 in /usr/local/lib/python3.10/dist-packages (from pandas) (2.8.2)\n",
            "Requirement already satisfied: pytz>=2020.1 in /usr/local/lib/python3.10/dist-packages (from pandas) (2023.4)\n",
            "Requirement already satisfied: numpy>=1.21.0 in /usr/local/lib/python3.10/dist-packages (from pandas) (1.25.2)\n",
            "Requirement already satisfied: contourpy>=1.0.1 in /usr/local/lib/python3.10/dist-packages (from matplotlib) (1.2.0)\n",
            "Requirement already satisfied: cycler>=0.10 in /usr/local/lib/python3.10/dist-packages (from matplotlib) (0.12.1)\n",
            "Requirement already satisfied: fonttools>=4.22.0 in /usr/local/lib/python3.10/dist-packages (from matplotlib) (4.50.0)\n",
            "Requirement already satisfied: kiwisolver>=1.0.1 in /usr/local/lib/python3.10/dist-packages (from matplotlib) (1.4.5)\n",
            "Requirement already satisfied: packaging>=20.0 in /usr/local/lib/python3.10/dist-packages (from matplotlib) (24.0)\n",
            "Requirement already satisfied: pillow>=6.2.0 in /usr/local/lib/python3.10/dist-packages (from matplotlib) (9.4.0)\n",
            "Requirement already satisfied: pyparsing>=2.3.1 in /usr/local/lib/python3.10/dist-packages (from matplotlib) (3.1.2)\n",
            "Requirement already satisfied: scipy>=1.3.2 in /usr/local/lib/python3.10/dist-packages (from scikit-learn) (1.11.4)\n",
            "Requirement already satisfied: joblib>=1.1.1 in /usr/local/lib/python3.10/dist-packages (from scikit-learn) (1.3.2)\n",
            "Requirement already satisfied: threadpoolctl>=2.0.0 in /usr/local/lib/python3.10/dist-packages (from scikit-learn) (3.4.0)\n",
            "Requirement already satisfied: six>=1.5 in /usr/local/lib/python3.10/dist-packages (from python-dateutil>=2.8.1->pandas) (1.16.0)\n"
          ]
        }
      ],
      "source": [
        "pip install pandas matplotlib scikit-learn\n"
      ]
    },
    {
      "cell_type": "code",
      "execution_count": null,
      "metadata": {
        "colab": {
          "base_uri": "https://localhost:8080/"
        },
        "id": "oKEH6EyMfZ5P",
        "outputId": "a5fc0000-ef3c-41c2-8551-c4127709f754"
      },
      "outputs": [
        {
          "name": "stdout",
          "output_type": "stream",
          "text": [
            "                  ride_id  rideable_type           started_at  \\\n",
            "0        EC2DE40644C6B0F4   classic_bike  2022-05-23 23:06:58   \n",
            "1        1C31AD03897EE385   classic_bike  2022-05-11 08:53:28   \n",
            "2        1542FBEC830415CF   classic_bike  2022-05-26 18:36:28   \n",
            "3        6FF59852924528F8   classic_bike  2022-05-10 07:30:07   \n",
            "4        483C52CAAE12E3AC   classic_bike  2022-05-10 17:31:56   \n",
            "...                   ...            ...                  ...   \n",
            "5853083  8B441A6C436E9900   classic_bike  2023-04-29 21:20:21   \n",
            "5853084  3980D64BE11540F1   classic_bike  2023-04-24 09:16:05   \n",
            "5853085  3EF4B49FF7DAA02C   classic_bike  2023-04-18 07:53:51   \n",
            "5853086  210B2ED6583DC231   classic_bike  2023-04-29 07:33:55   \n",
            "5853087  D29CB39B9E3FC46A  electric_bike  2023-04-18 08:00:32   \n",
            "\n",
            "                    ended_at                 start_station_name  \\\n",
            "0        2022-05-23 23:40:19             Wabash Ave & Grand Ave   \n",
            "1        2022-05-11 09:31:22  DuSable Lake Shore Dr & Monroe St   \n",
            "2        2022-05-26 18:58:18            Clinton St & Madison St   \n",
            "3        2022-05-10 07:38:49            Clinton St & Madison St   \n",
            "4        2022-05-10 17:36:57            Clinton St & Madison St   \n",
            "...                      ...                                ...   \n",
            "5853083  2023-04-29 21:30:19               Halsted St & 18th St   \n",
            "5853084  2023-04-24 09:22:27               Halsted St & 18th St   \n",
            "5853085  2023-04-18 07:59:16         Franklin St & Jackson Blvd   \n",
            "5853086  2023-04-29 07:38:57             Michigan Ave & Lake St   \n",
            "5853087  2023-04-18 08:02:35         Franklin St & Jackson Blvd   \n",
            "\n",
            "        start_station_id             end_station_name end_station_id  \\\n",
            "0           TA1307000117       Halsted St & Roscoe St   TA1309000025   \n",
            "1                  13300  Field Blvd & South Water St          15534   \n",
            "2           TA1305000032      Wood St & Milwaukee Ave          13221   \n",
            "3           TA1305000032       Clark St & Randolph St   TA1305000030   \n",
            "4           TA1305000032          Morgan St & Lake St   TA1306000015   \n",
            "...                  ...                          ...            ...   \n",
            "5853083            13099    Blue Island Ave & 18th St          13135   \n",
            "5853084            13099    Blue Island Ave & 18th St          13135   \n",
            "5853085     TA1305000025       Clark St & Randolph St   TA1305000030   \n",
            "5853086     TA1305000011       Clark St & Randolph St   TA1305000030   \n",
            "5853087     TA1305000025    Clark St & Ida B Wells Dr   TA1305000009   \n",
            "\n",
            "         start_lat  start_lng    end_lat    end_lng member_casual  \\\n",
            "0        41.891466 -87.626761  41.943670 -87.648950        member   \n",
            "1        41.880958 -87.616743  41.886349 -87.617517        member   \n",
            "2        41.882242 -87.641066  41.907655 -87.672552        member   \n",
            "3        41.882242 -87.641066  41.884576 -87.631890        member   \n",
            "4        41.882242 -87.641066  41.885779 -87.651025        member   \n",
            "...            ...        ...        ...        ...           ...   \n",
            "5853083  41.857506 -87.645991  41.857556 -87.661535        casual   \n",
            "5853084  41.857506 -87.645991  41.857556 -87.661535        casual   \n",
            "5853085  41.877708 -87.635321  41.884576 -87.631890        casual   \n",
            "5853086  41.886022 -87.624398  41.884576 -87.631890        casual   \n",
            "5853087  41.878134 -87.635255  41.875933 -87.630585        casual   \n",
            "\n",
            "                   datetime        date  TMAX  TMIN  \n",
            "0       2022-05-23 23:06:58  2022-05-23    63    48  \n",
            "1       2022-05-11 08:53:28  2022-05-11    91    77  \n",
            "2       2022-05-26 18:36:28  2022-05-26    79    65  \n",
            "3       2022-05-10 07:30:07  2022-05-10    92    70  \n",
            "4       2022-05-10 17:31:56  2022-05-10    92    70  \n",
            "...                     ...         ...   ...   ...  \n",
            "5853083 2023-04-29 21:20:21  2023-04-29    59    42  \n",
            "5853084 2023-04-24 09:16:05  2023-04-24    54    35  \n",
            "5853085 2023-04-18 07:53:51  2023-04-18    59    33  \n",
            "5853086 2023-04-29 07:33:55  2023-04-29    59    42  \n",
            "5853087 2023-04-18 08:00:32  2023-04-18    59    33  \n",
            "\n",
            "[5853088 rows x 17 columns]\n"
          ]
        }
      ],
      "source": [
        "df = pd.read_csv('/content/drive/MyDrive/517/combined-divvy-tripdata.csv')\n",
        "df2 = pd.read_csv('/content/weather.csv')\n",
        "\n",
        "df['datetime'] = pd.to_datetime(df['started_at'])\n",
        "df['date'] = df['datetime'].dt.date\n",
        "df2['date'] = pd.to_datetime(df2['DATE'])\n",
        "df2['date'] = df2['date'].dt.date\n",
        "df3 = df2[['date', 'TMAX', 'TMIN']]\n",
        "\n",
        "\n",
        "df = pd.merge(df, df3, on='date', how='left')\n",
        "print(df)\n"
      ]
    },
    {
      "cell_type": "code",
      "execution_count": null,
      "metadata": {
        "id": "vjgkOWKVjPnM"
      },
      "outputs": [],
      "source": [
        "df.drop(columns=['datetime','date'], inplace=True)"
      ]
    },
    {
      "cell_type": "code",
      "execution_count": null,
      "metadata": {
        "id": "hWOmNU1UkGmu"
      },
      "outputs": [],
      "source": [
        "df['TAVG'] = (df['TMIN'] + df['TMAX']) / 2\n"
      ]
    },
    {
      "cell_type": "code",
      "execution_count": null,
      "metadata": {
        "id": "bgvstVZ8kYAp"
      },
      "outputs": [],
      "source": [
        "df.to_csv('/content/combined-divvy-tripdata-with-weather.csv', index=False)"
      ]
    },
    {
      "cell_type": "code",
      "execution_count": null,
      "metadata": {
        "colab": {
          "base_uri": "https://localhost:8080/",
          "height": 35
        },
        "id": "lcMUjY2zlQQ6",
        "outputId": "12b62065-a777-4a97-b488-36485b19b37d"
      },
      "outputs": [
        {
          "data": {
            "application/vnd.google.colaboratory.intrinsic+json": {
              "type": "string"
            },
            "text/plain": [
              "'/content/drive/MyDrive/517/combined-divvy-tripdata-with-weather.csv'"
            ]
          },
          "execution_count": 9,
          "metadata": {},
          "output_type": "execute_result"
        }
      ],
      "source": [
        "import shutil\n",
        "shutil.copy('/content/combined-divvy-tripdata-with-weather.csv', '/content/drive/MyDrive/517')"
      ]
    },
    {
      "cell_type": "code",
      "execution_count": null,
      "metadata": {
        "colab": {
          "base_uri": "https://localhost:8080/"
        },
        "id": "tjNBztKit38W",
        "outputId": "a2dc263b-6e7c-4198-92fe-4f4006961723"
      },
      "outputs": [
        {
          "output_type": "stream",
          "name": "stdout",
          "text": [
            "  member_casual day_of_week  season part_of_day  same_start_end  \\\n",
            "0        casual      Friday  Autumn   Afternoon           False   \n",
            "1        casual      Friday  Autumn   Afternoon           False   \n",
            "2        casual      Friday  Autumn   Afternoon           False   \n",
            "3        casual      Friday  Autumn   Afternoon            True   \n",
            "4        casual      Friday  Autumn   Afternoon            True   \n",
            "\n",
            "   rideable_type   TMIN_avg   TMAX_avg  num_trips  \n",
            "0   classic_bike  53.898828  73.405182      10151  \n",
            "1    docked_bike  52.481124  72.832634       2384  \n",
            "2  electric_bike  53.019428  72.574501      11530  \n",
            "3   classic_bike  53.709427  73.784257       1029  \n",
            "4    docked_bike  55.311953  75.483965        343  \n",
            "poisson regression's rmse value\n",
            "1417.3440193125393\n",
            "Train RMSE: 1446.9200886141791\n",
            "Test RMSE: 1285.9701726353092\n"
          ]
        }
      ],
      "source": [
        "import matplotlib\n",
        "matplotlib.use('Agg')\n",
        "\n",
        "import pandas as pd\n",
        "import matplotlib.pyplot as plt\n",
        "import numpy as np\n",
        "import seaborn as sns\n",
        "\n",
        "import statsmodels.api as sm\n",
        "import statsmodels.formula.api as smf\n",
        "import statsmodels\n",
        "from statsmodels.genmod.families import Poisson\n",
        "from statsmodels.tools.eval_measures import rmse\n",
        "\n",
        "from sklearn.model_selection import train_test_split\n",
        "from sklearn.model_selection import cross_val_score\n",
        "\n",
        "from sklearn import metrics\n",
        "from sklearn.metrics import r2_score\n",
        "from sklearn.linear_model import LinearRegression\n",
        "\n",
        "import pandas as pd\n",
        "\n",
        "# Load the dataset\n",
        "df = pd.read_csv('/content/drive/MyDrive/517/combined-divvy-tripdata-with-weather.csv')\n",
        "\n",
        "df['started_at'] = pd.to_datetime(df['started_at'])\n",
        "\n",
        "# Function to categorize season\n",
        "def get_season(month):\n",
        "    if month in [3, 4, 5]:\n",
        "        return 'Spring'\n",
        "    elif month in [6, 7, 8]:\n",
        "        return 'Summer'\n",
        "    elif month in [9, 10, 11]:\n",
        "        return 'Autumn'\n",
        "    else:\n",
        "        return 'Winter'\n",
        "\n",
        "# Function to categorize part of the day\n",
        "def get_part_of_day(hour):\n",
        "    if 5 <= hour < 12:\n",
        "        return 'Morning'\n",
        "    elif 12 <= hour < 17:\n",
        "        return 'Afternoon'\n",
        "    elif 17 <= hour < 21:\n",
        "        return 'Evening'\n",
        "    else:\n",
        "        return 'Night'\n",
        "\n",
        "df.dropna(inplace=True)\n",
        "# Apply functions to categorize 'started_at' into new columns\n",
        "df['day_of_week'] = df['started_at'].dt.day_name()\n",
        "df['season'] = df['started_at'].dt.month.apply(get_season)\n",
        "df['part_of_day'] = df['started_at'].dt.hour.apply(get_part_of_day)\n",
        "df['same_start_end'] = (df['start_station_name'] == df['end_station_name'])\n",
        "\n",
        "\n",
        "# Aggregate data if necessary, summing up the number of trips for each member type\n",
        "# If your data is already aggregated, you might not need this step\n",
        "df = df.groupby(['member_casual', 'day_of_week', 'season', 'part_of_day', 'same_start_end', 'rideable_type']).agg(\n",
        "    TMIN_avg=('TMIN', 'mean'),\n",
        "    TMAX_avg=('TMAX', 'mean'),\n",
        "    num_trips = ('TMIN', 'size')\n",
        ").reset_index()\n",
        "print(df.head(5))\n",
        "\n",
        "df = pd.concat((df, pd.get_dummies(df['member_casual'])), axis=1)\n",
        "df = pd.concat((df, pd.get_dummies(df['day_of_week'])), axis=1)\n",
        "df = pd.concat((df, pd.get_dummies(df['season'])), axis=1)\n",
        "df = pd.concat((df, pd.get_dummies(df['part_of_day'])), axis=1)\n",
        "df = pd.concat((df, pd.get_dummies(df['same_start_end'])), axis=1)\n",
        "# df = pd.concat((df, pd.get_dummies(df['TMIN_avg'])), axis=1)\n",
        "# df = pd.concat((df, pd.get_dummies(df['TMAX_avg'])), axis=1)\n",
        "df = pd.concat((df, pd.get_dummies(df['rideable_type'])), axis=1)\n",
        "x1 = pd.DataFrame()\n",
        "x1 = df\n",
        "x1.drop(columns=['member_casual','day_of_week', 'season', 'part_of_day', 'same_start_end', 'rideable_type', 'TMIN_avg', 'TMAX_avg'], inplace=True)\n",
        "y = df['num_trips']\n",
        "x = df[x1.columns]\n",
        "\n",
        "x = sm.add_constant(x)\n",
        "pm = sm.GLM(y, x, family=sm.families.Poisson()).fit()\n",
        "print(\"poisson regression's rmse value\")\n",
        "print(sm.tools.eval_measures.rmse(y, pm.fittedvalues, axis=0))\n",
        "\n",
        "######################################################################\n",
        "\n",
        "from sklearn.metrics import mean_squared_error\n",
        "\n",
        "# Define your train and test sets\n",
        "size = 0.2\n",
        "x_train, x_test, y_train, y_test = train_test_split(x, y, test_size=size, random_state=42)\n",
        "\n",
        "# Fit the Poisson regression model on the training data\n",
        "pm_train = sm.GLM(y_train, x_train, family=sm.families.Poisson()).fit()\n",
        "\n",
        "# Predict on training data and calculate RMSE\n",
        "train_preds = pm_train.predict(x_train)\n",
        "train_rmse = np.sqrt(mean_squared_error(y_train, train_preds))\n",
        "print(f\"Train RMSE: {train_rmse}\")\n",
        "\n",
        "# Predict on test data and calculate RMSE\n",
        "test_preds = pm_train.predict(x_test)  # Use the model trained on training data to predict test data\n",
        "test_rmse = np.sqrt(mean_squared_error(y_test, test_preds))\n",
        "print(f\"Test RMSE: {test_rmse}\")\n",
        "\n",
        "# Plotting actual vs predicted values for the test set\n",
        "plt.figure(figsize=(10, 6))  # Increase figure size for better visibility\n",
        "plt.plot(y_test.values[:100], 'b-', label='Actual', linewidth=2)  # Plot the first 100 actual values\n",
        "plt.plot(test_preds.values[:100], 'r--', label='Predicted', linewidth=2)  # Plot the first 100 predicted values\n",
        "plt.legend()\n",
        "plt.title(\"Actual vs Predicted\")\n",
        "plt.xlabel(\"Sample Index\")\n",
        "plt.ylabel(\"Number of Trips\")\n",
        "plt.show()\n",
        "\n",
        "# Save the plot\n",
        "plt.savefig(\"line_comparison.png\")\n",
        "plt.clf()\n"
      ]
    }
  ],
  "metadata": {
    "colab": {
      "provenance": []
    },
    "kernelspec": {
      "display_name": "Python 3",
      "name": "python3"
    },
    "language_info": {
      "name": "python"
    }
  },
  "nbformat": 4,
  "nbformat_minor": 0
}