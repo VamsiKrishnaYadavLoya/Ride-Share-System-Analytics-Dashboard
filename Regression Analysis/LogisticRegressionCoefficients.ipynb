{
 "cells": [
  {
   "cell_type": "code",
   "execution_count": 1,
   "id": "222d3139",
   "metadata": {},
   "outputs": [],
   "source": [
    "import pandas as pd # type: ignore\n",
    "from sklearn.model_selection import train_test_split # type: ignore\n",
    "from sklearn.preprocessing import StandardScaler, OneHotEncoder # type: ignore\n",
    "from sklearn.compose import ColumnTransformer # type: ignore\n",
    "from sklearn.pipeline import Pipeline # type: ignore\n",
    "from sklearn.linear_model import LogisticRegression # type: ignore"
   ]
  },
  {
   "cell_type": "code",
   "execution_count": 2,
   "id": "005257cb-5464-4084-ab2d-680f5f2b5579",
   "metadata": {},
   "outputs": [
    {
     "name": "stdout",
     "output_type": "stream",
     "text": [
      "                       Coefficient\n",
      "member_casual_casual     -0.041679\n",
      "member_casual_member      0.031800\n",
      "season_Fall              -0.807996\n",
      "season_Spring            -0.075316\n",
      "season_Summer            -0.033264\n",
      "season_Winter             0.035987\n",
      "day_of_week_Friday       -0.339277\n",
      "day_of_week_Monday       -0.034578\n",
      "day_of_week_Saturday     -0.046600\n",
      "day_of_week_Sunday       -0.047978\n",
      "day_of_week_Thursday     -0.174134\n",
      "day_of_week_Tuesday       0.000109\n",
      "day_of_week_Wednesday    -0.041014\n",
      "Elevation_Change         -0.150065\n",
      "Distance                 -0.146041\n",
      "trip_duration             0.022835\n",
      "TMAX                     -0.011860\n",
      "TMIN                      0.022744\n"
     ]
    }
   ],
   "source": [
    "data = pd.read_csv('Combined_data.csv')\n",
    "data = data.dropna()\n",
    "X = data.drop('rideable_type', axis=1)\n",
    "y = data['rideable_type']\n",
    "\n",
    "# Categorical and continuous features\n",
    "categorical_features = ['member_casual', 'season', 'day_of_week']\n",
    "continuous_features = ['Elevation_Change', 'Distance', 'trip_duration', 'TMAX', 'TMIN']\n",
    "\n",
    "# Preprocessor for scaling and encoding\n",
    "preprocessor = ColumnTransformer(\n",
    "    transformers=[\n",
    "        ('num', StandardScaler(), continuous_features),\n",
    "        ('cat', OneHotEncoder(), categorical_features)\n",
    "    ])\n",
    "\n",
    "# Create a pipeline with logistic regression\n",
    "pipeline = Pipeline(steps=[\n",
    "    ('preprocessor', preprocessor),\n",
    "    ('classifier', LogisticRegression(max_iter=1000))\n",
    "])\n",
    "\n",
    "# Split the data into training and testing sets\n",
    "X_train, X_test, y_train, y_test = train_test_split(X, y, test_size=0.3, random_state=42)\n",
    "\n",
    "# Fit the model\n",
    "pipeline.fit(X_train, y_train)\n",
    "\n",
    "# Access the trained Logistic Regression model\n",
    "logreg = pipeline.named_steps['classifier']\n",
    "\n",
    "# Get the coefficients of the logistic regression model\n",
    "coefficients = logreg.coef_[0]\n",
    "\n",
    "# Get feature names after OneHotEncoder and concatenate with continuous features\n",
    "feature_names = pipeline.named_steps['preprocessor'].transformers_[1][1].get_feature_names_out(categorical_features)\n",
    "all_feature_names = list(feature_names) + continuous_features\n",
    "\n",
    "# Create a DataFrame to view the coefficients paired with feature names\n",
    "coefficients_df = pd.DataFrame(coefficients, index=all_feature_names, columns=['Coefficient'])\n",
    "\n",
    "print(coefficients_df)\n"
   ]
  },
  {
   "cell_type": "code",
   "execution_count": null,
   "id": "b0fc23a7-aa64-4fd2-8a73-aec21b173336",
   "metadata": {},
   "outputs": [],
   "source": []
  }
 ],
 "metadata": {
  "kernelspec": {
   "display_name": "Python 3 (ipykernel)",
   "language": "python",
   "name": "python3"
  },
  "language_info": {
   "codemirror_mode": {
    "name": "ipython",
    "version": 3
   },
   "file_extension": ".py",
   "mimetype": "text/x-python",
   "name": "python",
   "nbconvert_exporter": "python",
   "pygments_lexer": "ipython3",
   "version": "3.9.6"
  }
 },
 "nbformat": 4,
 "nbformat_minor": 5
}
