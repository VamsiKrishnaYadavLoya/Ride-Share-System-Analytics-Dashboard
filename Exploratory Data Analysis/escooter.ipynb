{
 "cells": [
  {
   "cell_type": "code",
   "execution_count": 1,
   "metadata": {},
   "outputs": [
    {
     "name": "stdout",
     "output_type": "stream",
     "text": [
      "Requirement already satisfied: pandas in c:\\users\\snamasi1\\appdata\\local\\packages\\pythonsoftwarefoundation.python.3.10_qbz5n2kfra8p0\\localcache\\local-packages\\python310\\site-packages (2.2.1)\n",
      "Requirement already satisfied: numpy<2,>=1.22.4 in c:\\users\\snamasi1\\appdata\\local\\packages\\pythonsoftwarefoundation.python.3.10_qbz5n2kfra8p0\\localcache\\local-packages\\python310\\site-packages (from pandas) (1.26.4)\n",
      "Requirement already satisfied: python-dateutil>=2.8.2 in c:\\users\\snamasi1\\appdata\\local\\packages\\pythonsoftwarefoundation.python.3.10_qbz5n2kfra8p0\\localcache\\local-packages\\python310\\site-packages (from pandas) (2.8.2)\n",
      "Requirement already satisfied: pytz>=2020.1 in c:\\users\\snamasi1\\appdata\\local\\packages\\pythonsoftwarefoundation.python.3.10_qbz5n2kfra8p0\\localcache\\local-packages\\python310\\site-packages (from pandas) (2024.1)\n",
      "Requirement already satisfied: tzdata>=2022.7 in c:\\users\\snamasi1\\appdata\\local\\packages\\pythonsoftwarefoundation.python.3.10_qbz5n2kfra8p0\\localcache\\local-packages\\python310\\site-packages (from pandas) (2024.1)\n",
      "Requirement already satisfied: six>=1.5 in c:\\users\\snamasi1\\appdata\\local\\packages\\pythonsoftwarefoundation.python.3.10_qbz5n2kfra8p0\\localcache\\local-packages\\python310\\site-packages (from python-dateutil>=2.8.2->pandas) (1.16.0)\n",
      "Note: you may need to restart the kernel to use updated packages.\n"
     ]
    }
   ],
   "source": [
    "pip install pandas"
   ]
  },
  {
   "cell_type": "code",
   "execution_count": 2,
   "metadata": {},
   "outputs": [
    {
     "name": "stdout",
     "output_type": "stream",
     "text": [
      "Requirement already satisfied: numpy in c:\\users\\snamasi1\\appdata\\local\\packages\\pythonsoftwarefoundation.python.3.10_qbz5n2kfra8p0\\localcache\\local-packages\\python310\\site-packages (1.26.4)\n",
      "Note: you may need to restart the kernel to use updated packages.\n"
     ]
    }
   ],
   "source": [
    "pip install numpy"
   ]
  },
  {
   "cell_type": "code",
   "execution_count": 3,
   "metadata": {},
   "outputs": [
    {
     "name": "stdout",
     "output_type": "stream",
     "text": [
      "Requirement already satisfied: pip in c:\\users\\snamasi1\\appdata\\local\\packages\\pythonsoftwarefoundation.python.3.10_qbz5n2kfra8p0\\localcache\\local-packages\\python310\\site-packages (24.0)\n",
      "Note: you may need to restart the kernel to use updated packages.\n"
     ]
    }
   ],
   "source": [
    "pip install --upgrade pip\n"
   ]
  },
  {
   "cell_type": "code",
   "execution_count": 4,
   "metadata": {},
   "outputs": [
    {
     "name": "stdout",
     "output_type": "stream",
     "text": [
      "Requirement already satisfied: matplotlib in c:\\users\\snamasi1\\appdata\\local\\packages\\pythonsoftwarefoundation.python.3.10_qbz5n2kfra8p0\\localcache\\local-packages\\python310\\site-packages (3.8.3)\n",
      "Requirement already satisfied: contourpy>=1.0.1 in c:\\users\\snamasi1\\appdata\\local\\packages\\pythonsoftwarefoundation.python.3.10_qbz5n2kfra8p0\\localcache\\local-packages\\python310\\site-packages (from matplotlib) (1.2.0)\n",
      "Requirement already satisfied: cycler>=0.10 in c:\\users\\snamasi1\\appdata\\local\\packages\\pythonsoftwarefoundation.python.3.10_qbz5n2kfra8p0\\localcache\\local-packages\\python310\\site-packages (from matplotlib) (0.12.1)\n",
      "Requirement already satisfied: fonttools>=4.22.0 in c:\\users\\snamasi1\\appdata\\local\\packages\\pythonsoftwarefoundation.python.3.10_qbz5n2kfra8p0\\localcache\\local-packages\\python310\\site-packages (from matplotlib) (4.49.0)\n",
      "Requirement already satisfied: kiwisolver>=1.3.1 in c:\\users\\snamasi1\\appdata\\local\\packages\\pythonsoftwarefoundation.python.3.10_qbz5n2kfra8p0\\localcache\\local-packages\\python310\\site-packages (from matplotlib) (1.4.5)\n",
      "Requirement already satisfied: numpy<2,>=1.21 in c:\\users\\snamasi1\\appdata\\local\\packages\\pythonsoftwarefoundation.python.3.10_qbz5n2kfra8p0\\localcache\\local-packages\\python310\\site-packages (from matplotlib) (1.26.4)\n",
      "Requirement already satisfied: packaging>=20.0 in c:\\users\\snamasi1\\appdata\\local\\packages\\pythonsoftwarefoundation.python.3.10_qbz5n2kfra8p0\\localcache\\local-packages\\python310\\site-packages (from matplotlib) (23.1)\n",
      "Requirement already satisfied: pillow>=8 in c:\\users\\snamasi1\\appdata\\local\\packages\\pythonsoftwarefoundation.python.3.10_qbz5n2kfra8p0\\localcache\\local-packages\\python310\\site-packages (from matplotlib) (10.2.0)\n",
      "Requirement already satisfied: pyparsing>=2.3.1 in c:\\users\\snamasi1\\appdata\\local\\packages\\pythonsoftwarefoundation.python.3.10_qbz5n2kfra8p0\\localcache\\local-packages\\python310\\site-packages (from matplotlib) (3.1.1)\n",
      "Requirement already satisfied: python-dateutil>=2.7 in c:\\users\\snamasi1\\appdata\\local\\packages\\pythonsoftwarefoundation.python.3.10_qbz5n2kfra8p0\\localcache\\local-packages\\python310\\site-packages (from matplotlib) (2.8.2)\n",
      "Requirement already satisfied: six>=1.5 in c:\\users\\snamasi1\\appdata\\local\\packages\\pythonsoftwarefoundation.python.3.10_qbz5n2kfra8p0\\localcache\\local-packages\\python310\\site-packages (from python-dateutil>=2.7->matplotlib) (1.16.0)\n",
      "Note: you may need to restart the kernel to use updated packages.\n"
     ]
    }
   ],
   "source": [
    "pip install matplotlib"
   ]
  },
  {
   "cell_type": "code",
   "execution_count": 5,
   "metadata": {},
   "outputs": [],
   "source": [
    "import pandas as pd\n",
    "import numpy as np\n",
    "import matplotlib.pyplot as plt"
   ]
  },
  {
   "cell_type": "code",
   "execution_count": 2,
   "metadata": {},
   "outputs": [],
   "source": [
    "df = pd.read_csv(\"E-Scooter_Trips_20240215.csv\")"
   ]
  },
  {
   "cell_type": "code",
   "execution_count": 6,
   "metadata": {},
   "outputs": [],
   "source": [
    "def load_data():\n",
    "    return pd.read_csv(\"E-Scooter_Trips_20240215.csv\")\n",
    "\n"
   ]
  },
  {
   "cell_type": "code",
   "execution_count": 7,
   "metadata": {},
   "outputs": [
    {
     "name": "stdout",
     "output_type": "stream",
     "text": [
      "                                Trip ID              Start Time  \\\n",
      "0  17553846-c8d6-b9de-1755-3846c8d6b9de  05/28/2022 02:00:00 PM   \n",
      "1  1756d4dc-ccf1-af42-1756-d4dcccf1af42  05/29/2022 07:00:00 PM   \n",
      "2  1756d578-f376-9950-1756-d578f3769950  05/29/2022 08:00:00 PM   \n",
      "3  1756fc61-f058-c200-1756-fc61f058c200  05/29/2022 10:00:00 PM   \n",
      "4  17659074-0cfd-92ca-1765-90740cfd92ca  06/10/2022 12:00:00 AM   \n",
      "\n",
      "                 End Time  Trip Distance  Trip Duration Vendor  \\\n",
      "0  05/28/2022 03:00:00 PM           2484           1544   Lyft   \n",
      "1  05/29/2022 08:00:00 PM             36            135   Lyft   \n",
      "2  05/29/2022 08:00:00 PM           2653           1972   Lyft   \n",
      "3  05/29/2022 10:00:00 PM            105            137   Lyft   \n",
      "4  06/10/2022 12:00:00 AM           2299            540   Lyft   \n",
      "\n",
      "   Start Community Area Number  End Community Area Number  \\\n",
      "0                         32.0                       32.0   \n",
      "1                         32.0                       32.0   \n",
      "2                         32.0                        NaN   \n",
      "3                         32.0                        NaN   \n",
      "4                          8.0                       24.0   \n",
      "\n",
      "  Start Community Area Name End Community Area Name  Start Centroid Latitude  \\\n",
      "0                      Loop                    Loop                41.878866   \n",
      "1                      Loop                    Loop                41.878866   \n",
      "2                      Loop                     NaN                41.878866   \n",
      "3                      Loop                     NaN                41.878866   \n",
      "4           Near North Side               West Town                41.899602   \n",
      "\n",
      "   Start Centroid Longitude                        Start Centroid Location  \\\n",
      "0                -87.625192   POINT (-87.62519186960115 41.87886594636445)   \n",
      "1                -87.625192   POINT (-87.62519186960115 41.87886594636445)   \n",
      "2                -87.625192   POINT (-87.62519186960115 41.87886594636445)   \n",
      "3                -87.625192   POINT (-87.62519186960115 41.87886594636445)   \n",
      "4                -87.633309  POINT (-87.63330943703569 41.899602106426094)   \n",
      "\n",
      "   End Centroid Latitude  End Centroid Longitude  \\\n",
      "0              41.878866              -87.625192   \n",
      "1              41.878866              -87.625192   \n",
      "2                    NaN                     NaN   \n",
      "3                    NaN                     NaN   \n",
      "4              41.901207              -87.676357   \n",
      "\n",
      "                          End Centroid Location  \n",
      "0  POINT (-87.62519186960115 41.87886594636445)  \n",
      "1  POINT (-87.62519186960115 41.87886594636445)  \n",
      "2                                           NaN  \n",
      "3                                           NaN  \n",
      "4  POINT (-87.67635712603905 41.90120673431551)  \n"
     ]
    }
   ],
   "source": [
    "print(load_data().head())"
   ]
  },
  {
   "cell_type": "code",
   "execution_count": 3,
   "metadata": {},
   "outputs": [
    {
     "name": "stdout",
     "output_type": "stream",
     "text": [
      "                                Trip ID              Start Time  \\\n",
      "0  17553846-c8d6-b9de-1755-3846c8d6b9de  05/28/2022 02:00:00 PM   \n",
      "1  1756d4dc-ccf1-af42-1756-d4dcccf1af42  05/29/2022 07:00:00 PM   \n",
      "2  1756d578-f376-9950-1756-d578f3769950  05/29/2022 08:00:00 PM   \n",
      "3  1756fc61-f058-c200-1756-fc61f058c200  05/29/2022 10:00:00 PM   \n",
      "4  17659074-0cfd-92ca-1765-90740cfd92ca  06/10/2022 12:00:00 AM   \n",
      "\n",
      "                 End Time  Trip Distance  Trip Duration Vendor  \\\n",
      "0  05/28/2022 03:00:00 PM           2484           1544   Lyft   \n",
      "1  05/29/2022 08:00:00 PM             36            135   Lyft   \n",
      "2  05/29/2022 08:00:00 PM           2653           1972   Lyft   \n",
      "3  05/29/2022 10:00:00 PM            105            137   Lyft   \n",
      "4  06/10/2022 12:00:00 AM           2299            540   Lyft   \n",
      "\n",
      "   Start Community Area Number  End Community Area Number  \\\n",
      "0                         32.0                       32.0   \n",
      "1                         32.0                       32.0   \n",
      "2                         32.0                        NaN   \n",
      "3                         32.0                        NaN   \n",
      "4                          8.0                       24.0   \n",
      "\n",
      "  Start Community Area Name End Community Area Name  Start Centroid Latitude  \\\n",
      "0                      Loop                    Loop                41.878866   \n",
      "1                      Loop                    Loop                41.878866   \n",
      "2                      Loop                     NaN                41.878866   \n",
      "3                      Loop                     NaN                41.878866   \n",
      "4           Near North Side               West Town                41.899602   \n",
      "\n",
      "   Start Centroid Longitude                        Start Centroid Location  \\\n",
      "0                -87.625192   POINT (-87.62519186960115 41.87886594636445)   \n",
      "1                -87.625192   POINT (-87.62519186960115 41.87886594636445)   \n",
      "2                -87.625192   POINT (-87.62519186960115 41.87886594636445)   \n",
      "3                -87.625192   POINT (-87.62519186960115 41.87886594636445)   \n",
      "4                -87.633309  POINT (-87.63330943703569 41.899602106426094)   \n",
      "\n",
      "   End Centroid Latitude  End Centroid Longitude  \\\n",
      "0              41.878866              -87.625192   \n",
      "1              41.878866              -87.625192   \n",
      "2                    NaN                     NaN   \n",
      "3                    NaN                     NaN   \n",
      "4              41.901207              -87.676357   \n",
      "\n",
      "                          End Centroid Location  \n",
      "0  POINT (-87.62519186960115 41.87886594636445)  \n",
      "1  POINT (-87.62519186960115 41.87886594636445)  \n",
      "2                                           NaN  \n",
      "3                                           NaN  \n",
      "4  POINT (-87.67635712603905 41.90120673431551)  \n"
     ]
    }
   ],
   "source": [
    "print(df.head())"
   ]
  },
  {
   "cell_type": "code",
   "execution_count": 4,
   "metadata": {},
   "outputs": [
    {
     "name": "stdout",
     "output_type": "stream",
     "text": [
      "Trip ID                           0\n",
      "Start Time                        0\n",
      "End Time                          0\n",
      "Trip Distance                     0\n",
      "Trip Duration                     0\n",
      "Vendor                            0\n",
      "Start Community Area Number    2827\n",
      "End Community Area Number      3941\n",
      "Start Community Area Name      2827\n",
      "End Community Area Name        3941\n",
      "Start Centroid Latitude        2827\n",
      "Start Centroid Longitude       2827\n",
      "Start Centroid Location        2827\n",
      "End Centroid Latitude          3941\n",
      "End Centroid Longitude         3941\n",
      "End Centroid Location          3941\n",
      "dtype: int64\n"
     ]
    }
   ],
   "source": [
    "print(df.isnull().sum())"
   ]
  },
  {
   "cell_type": "code",
   "execution_count": 5,
   "metadata": {},
   "outputs": [],
   "source": [
    "df.dropna(inplace=True)"
   ]
  },
  {
   "cell_type": "code",
   "execution_count": 6,
   "metadata": {},
   "outputs": [
    {
     "name": "stderr",
     "output_type": "stream",
     "text": [
      "C:\\Users\\snamasi1\\AppData\\Local\\Temp\\ipykernel_3652\\3229983433.py:1: UserWarning: Could not infer format, so each element will be parsed individually, falling back to `dateutil`. To ensure parsing is consistent and as-expected, please specify a format.\n",
      "  df['Start Time'] = pd.to_datetime(df['Start Time'])\n"
     ]
    }
   ],
   "source": [
    "df['Start Time'] = pd.to_datetime(df['Start Time'])"
   ]
  },
  {
   "cell_type": "code",
   "execution_count": 7,
   "metadata": {},
   "outputs": [
    {
     "name": "stdout",
     "output_type": "stream",
     "text": [
      "0    2022-05-28 14:00:00\n",
      "1    2022-05-29 19:00:00\n",
      "4    2022-06-10 00:00:00\n",
      "11   2022-06-20 18:00:00\n",
      "15   2022-06-22 00:00:00\n",
      "Name: Start Time, dtype: datetime64[ns]\n"
     ]
    }
   ],
   "source": [
    "print(df['Start Time'].head())"
   ]
  },
  {
   "cell_type": "code",
   "execution_count": 8,
   "metadata": {},
   "outputs": [
    {
     "name": "stderr",
     "output_type": "stream",
     "text": [
      "C:\\Users\\snamasi1\\AppData\\Local\\Temp\\ipykernel_3652\\3758933021.py:1: UserWarning: Could not infer format, so each element will be parsed individually, falling back to `dateutil`. To ensure parsing is consistent and as-expected, please specify a format.\n",
      "  df['End Time'] = pd.to_datetime(df['End Time'])\n"
     ]
    }
   ],
   "source": [
    "df['End Time'] = pd.to_datetime(df['End Time'])"
   ]
  },
  {
   "cell_type": "code",
   "execution_count": 9,
   "metadata": {},
   "outputs": [
    {
     "name": "stdout",
     "output_type": "stream",
     "text": [
      "0    2022-05-28 15:00:00\n",
      "1    2022-05-29 20:00:00\n",
      "4    2022-06-10 00:00:00\n",
      "11   2022-06-20 19:00:00\n",
      "15   2022-06-22 00:00:00\n",
      "Name: End Time, dtype: datetime64[ns]\n"
     ]
    }
   ],
   "source": [
    "print(df['End Time'].head())"
   ]
  },
  {
   "cell_type": "code",
   "execution_count": 10,
   "metadata": {},
   "outputs": [
    {
     "data": {
      "text/html": [
       "<div>\n",
       "<style scoped>\n",
       "    .dataframe tbody tr th:only-of-type {\n",
       "        vertical-align: middle;\n",
       "    }\n",
       "\n",
       "    .dataframe tbody tr th {\n",
       "        vertical-align: top;\n",
       "    }\n",
       "\n",
       "    .dataframe thead th {\n",
       "        text-align: right;\n",
       "    }\n",
       "</style>\n",
       "<table border=\"1\" class=\"dataframe\">\n",
       "  <thead>\n",
       "    <tr style=\"text-align: right;\">\n",
       "      <th></th>\n",
       "      <th>Trip ID</th>\n",
       "      <th>Start Time</th>\n",
       "      <th>End Time</th>\n",
       "      <th>Trip Distance</th>\n",
       "      <th>Trip Duration</th>\n",
       "      <th>Vendor</th>\n",
       "      <th>Start Community Area Number</th>\n",
       "      <th>End Community Area Number</th>\n",
       "      <th>Start Community Area Name</th>\n",
       "      <th>End Community Area Name</th>\n",
       "      <th>Start Centroid Latitude</th>\n",
       "      <th>Start Centroid Longitude</th>\n",
       "      <th>Start Centroid Location</th>\n",
       "      <th>End Centroid Latitude</th>\n",
       "      <th>End Centroid Longitude</th>\n",
       "      <th>End Centroid Location</th>\n",
       "    </tr>\n",
       "  </thead>\n",
       "  <tbody>\n",
       "    <tr>\n",
       "      <th>0</th>\n",
       "      <td>17553846-c8d6-b9de-1755-3846c8d6b9de</td>\n",
       "      <td>2022-05-28 14:00:00</td>\n",
       "      <td>2022-05-28 15:00:00</td>\n",
       "      <td>2484</td>\n",
       "      <td>1544</td>\n",
       "      <td>Lyft</td>\n",
       "      <td>32.0</td>\n",
       "      <td>32.0</td>\n",
       "      <td>Loop</td>\n",
       "      <td>Loop</td>\n",
       "      <td>41.878866</td>\n",
       "      <td>-87.625192</td>\n",
       "      <td>POINT (-87.62519186960115 41.87886594636445)</td>\n",
       "      <td>41.878866</td>\n",
       "      <td>-87.625192</td>\n",
       "      <td>POINT (-87.62519186960115 41.87886594636445)</td>\n",
       "    </tr>\n",
       "    <tr>\n",
       "      <th>1</th>\n",
       "      <td>1756d4dc-ccf1-af42-1756-d4dcccf1af42</td>\n",
       "      <td>2022-05-29 19:00:00</td>\n",
       "      <td>2022-05-29 20:00:00</td>\n",
       "      <td>36</td>\n",
       "      <td>135</td>\n",
       "      <td>Lyft</td>\n",
       "      <td>32.0</td>\n",
       "      <td>32.0</td>\n",
       "      <td>Loop</td>\n",
       "      <td>Loop</td>\n",
       "      <td>41.878866</td>\n",
       "      <td>-87.625192</td>\n",
       "      <td>POINT (-87.62519186960115 41.87886594636445)</td>\n",
       "      <td>41.878866</td>\n",
       "      <td>-87.625192</td>\n",
       "      <td>POINT (-87.62519186960115 41.87886594636445)</td>\n",
       "    </tr>\n",
       "    <tr>\n",
       "      <th>4</th>\n",
       "      <td>17659074-0cfd-92ca-1765-90740cfd92ca</td>\n",
       "      <td>2022-06-10 00:00:00</td>\n",
       "      <td>2022-06-10 00:00:00</td>\n",
       "      <td>2299</td>\n",
       "      <td>540</td>\n",
       "      <td>Lyft</td>\n",
       "      <td>8.0</td>\n",
       "      <td>24.0</td>\n",
       "      <td>Near North Side</td>\n",
       "      <td>West Town</td>\n",
       "      <td>41.899602</td>\n",
       "      <td>-87.633309</td>\n",
       "      <td>POINT (-87.63330943703569 41.899602106426094)</td>\n",
       "      <td>41.901207</td>\n",
       "      <td>-87.676357</td>\n",
       "      <td>POINT (-87.67635712603905 41.90120673431551)</td>\n",
       "    </tr>\n",
       "    <tr>\n",
       "      <th>11</th>\n",
       "      <td>1773c003-f045-892a-1773-c003f045892a</td>\n",
       "      <td>2022-06-20 18:00:00</td>\n",
       "      <td>2022-06-20 19:00:00</td>\n",
       "      <td>3341</td>\n",
       "      <td>2383</td>\n",
       "      <td>Lyft</td>\n",
       "      <td>32.0</td>\n",
       "      <td>8.0</td>\n",
       "      <td>Loop</td>\n",
       "      <td>Near North Side</td>\n",
       "      <td>41.878866</td>\n",
       "      <td>-87.625192</td>\n",
       "      <td>POINT (-87.62519186960115 41.87886594636445)</td>\n",
       "      <td>41.899602</td>\n",
       "      <td>-87.633309</td>\n",
       "      <td>POINT (-87.63330943703569 41.899602106426094)</td>\n",
       "    </tr>\n",
       "    <tr>\n",
       "      <th>15</th>\n",
       "      <td>17755fe4-2cd6-7484-1775-5fe42cd67484</td>\n",
       "      <td>2022-06-22 00:00:00</td>\n",
       "      <td>2022-06-22 00:00:00</td>\n",
       "      <td>25</td>\n",
       "      <td>148</td>\n",
       "      <td>Lyft</td>\n",
       "      <td>32.0</td>\n",
       "      <td>32.0</td>\n",
       "      <td>Loop</td>\n",
       "      <td>Loop</td>\n",
       "      <td>41.878866</td>\n",
       "      <td>-87.625192</td>\n",
       "      <td>POINT (-87.62519186960115 41.87886594636445)</td>\n",
       "      <td>41.878866</td>\n",
       "      <td>-87.625192</td>\n",
       "      <td>POINT (-87.62519186960115 41.87886594636445)</td>\n",
       "    </tr>\n",
       "    <tr>\n",
       "      <th>...</th>\n",
       "      <td>...</td>\n",
       "      <td>...</td>\n",
       "      <td>...</td>\n",
       "      <td>...</td>\n",
       "      <td>...</td>\n",
       "      <td>...</td>\n",
       "      <td>...</td>\n",
       "      <td>...</td>\n",
       "      <td>...</td>\n",
       "      <td>...</td>\n",
       "      <td>...</td>\n",
       "      <td>...</td>\n",
       "      <td>...</td>\n",
       "      <td>...</td>\n",
       "      <td>...</td>\n",
       "      <td>...</td>\n",
       "    </tr>\n",
       "    <tr>\n",
       "      <th>3797232</th>\n",
       "      <td>1cbe09ed-dc45-45ed-b53a-37af082f786d</td>\n",
       "      <td>2023-09-30 17:00:00</td>\n",
       "      <td>2023-09-30 17:00:00</td>\n",
       "      <td>1794</td>\n",
       "      <td>1113</td>\n",
       "      <td>Lime</td>\n",
       "      <td>17.0</td>\n",
       "      <td>19.0</td>\n",
       "      <td>Dunning</td>\n",
       "      <td>Belmont Cragin</td>\n",
       "      <td>41.946511</td>\n",
       "      <td>-87.806020</td>\n",
       "      <td>POINT (-87.80601984481356 41.94651066317405)</td>\n",
       "      <td>41.927261</td>\n",
       "      <td>-87.765502</td>\n",
       "      <td>POINT (-87.76550183689795 41.927260741518765)</td>\n",
       "    </tr>\n",
       "    <tr>\n",
       "      <th>3797233</th>\n",
       "      <td>19db6c7e-60b2-7770-19db-6c7e60b27770</td>\n",
       "      <td>2023-09-30 18:00:00</td>\n",
       "      <td>2023-09-30 18:00:00</td>\n",
       "      <td>1040</td>\n",
       "      <td>324</td>\n",
       "      <td>Lyft</td>\n",
       "      <td>8.0</td>\n",
       "      <td>8.0</td>\n",
       "      <td>Near North Side</td>\n",
       "      <td>Near North Side</td>\n",
       "      <td>41.899602</td>\n",
       "      <td>-87.633309</td>\n",
       "      <td>POINT (-87.63330943703569 41.899602106426094)</td>\n",
       "      <td>41.899602</td>\n",
       "      <td>-87.633309</td>\n",
       "      <td>POINT (-87.63330943703569 41.899602106426094)</td>\n",
       "    </tr>\n",
       "    <tr>\n",
       "      <th>3797234</th>\n",
       "      <td>389605e7-cca9-44b1-b2f8-99ddb17ed56c</td>\n",
       "      <td>2023-09-30 19:00:00</td>\n",
       "      <td>2023-09-30 20:00:00</td>\n",
       "      <td>7235</td>\n",
       "      <td>5507</td>\n",
       "      <td>Lime</td>\n",
       "      <td>69.0</td>\n",
       "      <td>69.0</td>\n",
       "      <td>Greater Grand Crossing</td>\n",
       "      <td>Greater Grand Crossing</td>\n",
       "      <td>41.763247</td>\n",
       "      <td>-87.616134</td>\n",
       "      <td>POINT (-87.6161341690744 41.763247073625976)</td>\n",
       "      <td>41.763247</td>\n",
       "      <td>-87.616134</td>\n",
       "      <td>POINT (-87.6161341690744 41.763247073625976)</td>\n",
       "    </tr>\n",
       "    <tr>\n",
       "      <th>3797235</th>\n",
       "      <td>410963f4-cafe-48c9-bef9-5db8bf579100</td>\n",
       "      <td>2023-09-30 16:00:00</td>\n",
       "      <td>2023-09-30 17:00:00</td>\n",
       "      <td>2908</td>\n",
       "      <td>1966</td>\n",
       "      <td>Lime</td>\n",
       "      <td>71.0</td>\n",
       "      <td>71.0</td>\n",
       "      <td>Auburn Gresham</td>\n",
       "      <td>Auburn Gresham</td>\n",
       "      <td>41.744205</td>\n",
       "      <td>-87.656307</td>\n",
       "      <td>POINT (-87.65630678738862 41.74420543691766)</td>\n",
       "      <td>41.744205</td>\n",
       "      <td>-87.656307</td>\n",
       "      <td>POINT (-87.65630678738862 41.74420543691766)</td>\n",
       "    </tr>\n",
       "    <tr>\n",
       "      <th>3797236</th>\n",
       "      <td>842c0439-c993-4e9d-b28c-bbd2b36999de</td>\n",
       "      <td>2023-09-30 17:00:00</td>\n",
       "      <td>2023-09-30 18:00:00</td>\n",
       "      <td>4061</td>\n",
       "      <td>1628</td>\n",
       "      <td>Lime</td>\n",
       "      <td>8.0</td>\n",
       "      <td>8.0</td>\n",
       "      <td>Near North Side</td>\n",
       "      <td>Near North Side</td>\n",
       "      <td>41.899602</td>\n",
       "      <td>-87.633309</td>\n",
       "      <td>POINT (-87.63330943703569 41.899602106426094)</td>\n",
       "      <td>41.899602</td>\n",
       "      <td>-87.633309</td>\n",
       "      <td>POINT (-87.63330943703569 41.899602106426094)</td>\n",
       "    </tr>\n",
       "  </tbody>\n",
       "</table>\n",
       "<p>3790619 rows × 16 columns</p>\n",
       "</div>"
      ],
      "text/plain": [
       "                                      Trip ID          Start Time  \\\n",
       "0        17553846-c8d6-b9de-1755-3846c8d6b9de 2022-05-28 14:00:00   \n",
       "1        1756d4dc-ccf1-af42-1756-d4dcccf1af42 2022-05-29 19:00:00   \n",
       "4        17659074-0cfd-92ca-1765-90740cfd92ca 2022-06-10 00:00:00   \n",
       "11       1773c003-f045-892a-1773-c003f045892a 2022-06-20 18:00:00   \n",
       "15       17755fe4-2cd6-7484-1775-5fe42cd67484 2022-06-22 00:00:00   \n",
       "...                                       ...                 ...   \n",
       "3797232  1cbe09ed-dc45-45ed-b53a-37af082f786d 2023-09-30 17:00:00   \n",
       "3797233  19db6c7e-60b2-7770-19db-6c7e60b27770 2023-09-30 18:00:00   \n",
       "3797234  389605e7-cca9-44b1-b2f8-99ddb17ed56c 2023-09-30 19:00:00   \n",
       "3797235  410963f4-cafe-48c9-bef9-5db8bf579100 2023-09-30 16:00:00   \n",
       "3797236  842c0439-c993-4e9d-b28c-bbd2b36999de 2023-09-30 17:00:00   \n",
       "\n",
       "                   End Time  Trip Distance  Trip Duration Vendor  \\\n",
       "0       2022-05-28 15:00:00           2484           1544   Lyft   \n",
       "1       2022-05-29 20:00:00             36            135   Lyft   \n",
       "4       2022-06-10 00:00:00           2299            540   Lyft   \n",
       "11      2022-06-20 19:00:00           3341           2383   Lyft   \n",
       "15      2022-06-22 00:00:00             25            148   Lyft   \n",
       "...                     ...            ...            ...    ...   \n",
       "3797232 2023-09-30 17:00:00           1794           1113   Lime   \n",
       "3797233 2023-09-30 18:00:00           1040            324   Lyft   \n",
       "3797234 2023-09-30 20:00:00           7235           5507   Lime   \n",
       "3797235 2023-09-30 17:00:00           2908           1966   Lime   \n",
       "3797236 2023-09-30 18:00:00           4061           1628   Lime   \n",
       "\n",
       "         Start Community Area Number  End Community Area Number  \\\n",
       "0                               32.0                       32.0   \n",
       "1                               32.0                       32.0   \n",
       "4                                8.0                       24.0   \n",
       "11                              32.0                        8.0   \n",
       "15                              32.0                       32.0   \n",
       "...                              ...                        ...   \n",
       "3797232                         17.0                       19.0   \n",
       "3797233                          8.0                        8.0   \n",
       "3797234                         69.0                       69.0   \n",
       "3797235                         71.0                       71.0   \n",
       "3797236                          8.0                        8.0   \n",
       "\n",
       "        Start Community Area Name End Community Area Name  \\\n",
       "0                            Loop                    Loop   \n",
       "1                            Loop                    Loop   \n",
       "4                 Near North Side               West Town   \n",
       "11                           Loop         Near North Side   \n",
       "15                           Loop                    Loop   \n",
       "...                           ...                     ...   \n",
       "3797232                   Dunning          Belmont Cragin   \n",
       "3797233           Near North Side         Near North Side   \n",
       "3797234    Greater Grand Crossing  Greater Grand Crossing   \n",
       "3797235            Auburn Gresham          Auburn Gresham   \n",
       "3797236           Near North Side         Near North Side   \n",
       "\n",
       "         Start Centroid Latitude  Start Centroid Longitude  \\\n",
       "0                      41.878866                -87.625192   \n",
       "1                      41.878866                -87.625192   \n",
       "4                      41.899602                -87.633309   \n",
       "11                     41.878866                -87.625192   \n",
       "15                     41.878866                -87.625192   \n",
       "...                          ...                       ...   \n",
       "3797232                41.946511                -87.806020   \n",
       "3797233                41.899602                -87.633309   \n",
       "3797234                41.763247                -87.616134   \n",
       "3797235                41.744205                -87.656307   \n",
       "3797236                41.899602                -87.633309   \n",
       "\n",
       "                               Start Centroid Location  End Centroid Latitude  \\\n",
       "0         POINT (-87.62519186960115 41.87886594636445)              41.878866   \n",
       "1         POINT (-87.62519186960115 41.87886594636445)              41.878866   \n",
       "4        POINT (-87.63330943703569 41.899602106426094)              41.901207   \n",
       "11        POINT (-87.62519186960115 41.87886594636445)              41.899602   \n",
       "15        POINT (-87.62519186960115 41.87886594636445)              41.878866   \n",
       "...                                                ...                    ...   \n",
       "3797232   POINT (-87.80601984481356 41.94651066317405)              41.927261   \n",
       "3797233  POINT (-87.63330943703569 41.899602106426094)              41.899602   \n",
       "3797234   POINT (-87.6161341690744 41.763247073625976)              41.763247   \n",
       "3797235   POINT (-87.65630678738862 41.74420543691766)              41.744205   \n",
       "3797236  POINT (-87.63330943703569 41.899602106426094)              41.899602   \n",
       "\n",
       "         End Centroid Longitude                          End Centroid Location  \n",
       "0                    -87.625192   POINT (-87.62519186960115 41.87886594636445)  \n",
       "1                    -87.625192   POINT (-87.62519186960115 41.87886594636445)  \n",
       "4                    -87.676357   POINT (-87.67635712603905 41.90120673431551)  \n",
       "11                   -87.633309  POINT (-87.63330943703569 41.899602106426094)  \n",
       "15                   -87.625192   POINT (-87.62519186960115 41.87886594636445)  \n",
       "...                         ...                                            ...  \n",
       "3797232              -87.765502  POINT (-87.76550183689795 41.927260741518765)  \n",
       "3797233              -87.633309  POINT (-87.63330943703569 41.899602106426094)  \n",
       "3797234              -87.616134   POINT (-87.6161341690744 41.763247073625976)  \n",
       "3797235              -87.656307   POINT (-87.65630678738862 41.74420543691766)  \n",
       "3797236              -87.633309  POINT (-87.63330943703569 41.899602106426094)  \n",
       "\n",
       "[3790619 rows x 16 columns]"
      ]
     },
     "execution_count": 10,
     "metadata": {},
     "output_type": "execute_result"
    }
   ],
   "source": [
    "df"
   ]
  },
  {
   "cell_type": "code",
   "execution_count": 11,
   "metadata": {},
   "outputs": [],
   "source": [
    "df['Trip Distance (miles)'] = df['Trip Distance'] / 1609   # Converting 'Trip Distance' from meters to miles"
   ]
  },
  {
   "cell_type": "code",
   "execution_count": 12,
   "metadata": {},
   "outputs": [],
   "source": [
    "df.drop('Trip Distance', axis=1, inplace=True)"
   ]
  },
  {
   "cell_type": "code",
   "execution_count": 13,
   "metadata": {},
   "outputs": [
    {
     "data": {
      "text/html": [
       "<div>\n",
       "<style scoped>\n",
       "    .dataframe tbody tr th:only-of-type {\n",
       "        vertical-align: middle;\n",
       "    }\n",
       "\n",
       "    .dataframe tbody tr th {\n",
       "        vertical-align: top;\n",
       "    }\n",
       "\n",
       "    .dataframe thead th {\n",
       "        text-align: right;\n",
       "    }\n",
       "</style>\n",
       "<table border=\"1\" class=\"dataframe\">\n",
       "  <thead>\n",
       "    <tr style=\"text-align: right;\">\n",
       "      <th></th>\n",
       "      <th>Trip ID</th>\n",
       "      <th>Start Time</th>\n",
       "      <th>End Time</th>\n",
       "      <th>Trip Duration</th>\n",
       "      <th>Vendor</th>\n",
       "      <th>Start Community Area Number</th>\n",
       "      <th>End Community Area Number</th>\n",
       "      <th>Start Community Area Name</th>\n",
       "      <th>End Community Area Name</th>\n",
       "      <th>Start Centroid Latitude</th>\n",
       "      <th>Start Centroid Longitude</th>\n",
       "      <th>Start Centroid Location</th>\n",
       "      <th>End Centroid Latitude</th>\n",
       "      <th>End Centroid Longitude</th>\n",
       "      <th>End Centroid Location</th>\n",
       "      <th>Trip Distance (miles)</th>\n",
       "    </tr>\n",
       "  </thead>\n",
       "  <tbody>\n",
       "    <tr>\n",
       "      <th>0</th>\n",
       "      <td>17553846-c8d6-b9de-1755-3846c8d6b9de</td>\n",
       "      <td>2022-05-28 14:00:00</td>\n",
       "      <td>2022-05-28 15:00:00</td>\n",
       "      <td>1544</td>\n",
       "      <td>Lyft</td>\n",
       "      <td>32.0</td>\n",
       "      <td>32.0</td>\n",
       "      <td>Loop</td>\n",
       "      <td>Loop</td>\n",
       "      <td>41.878866</td>\n",
       "      <td>-87.625192</td>\n",
       "      <td>POINT (-87.62519186960115 41.87886594636445)</td>\n",
       "      <td>41.878866</td>\n",
       "      <td>-87.625192</td>\n",
       "      <td>POINT (-87.62519186960115 41.87886594636445)</td>\n",
       "      <td>1.543816</td>\n",
       "    </tr>\n",
       "    <tr>\n",
       "      <th>1</th>\n",
       "      <td>1756d4dc-ccf1-af42-1756-d4dcccf1af42</td>\n",
       "      <td>2022-05-29 19:00:00</td>\n",
       "      <td>2022-05-29 20:00:00</td>\n",
       "      <td>135</td>\n",
       "      <td>Lyft</td>\n",
       "      <td>32.0</td>\n",
       "      <td>32.0</td>\n",
       "      <td>Loop</td>\n",
       "      <td>Loop</td>\n",
       "      <td>41.878866</td>\n",
       "      <td>-87.625192</td>\n",
       "      <td>POINT (-87.62519186960115 41.87886594636445)</td>\n",
       "      <td>41.878866</td>\n",
       "      <td>-87.625192</td>\n",
       "      <td>POINT (-87.62519186960115 41.87886594636445)</td>\n",
       "      <td>0.022374</td>\n",
       "    </tr>\n",
       "    <tr>\n",
       "      <th>4</th>\n",
       "      <td>17659074-0cfd-92ca-1765-90740cfd92ca</td>\n",
       "      <td>2022-06-10 00:00:00</td>\n",
       "      <td>2022-06-10 00:00:00</td>\n",
       "      <td>540</td>\n",
       "      <td>Lyft</td>\n",
       "      <td>8.0</td>\n",
       "      <td>24.0</td>\n",
       "      <td>Near North Side</td>\n",
       "      <td>West Town</td>\n",
       "      <td>41.899602</td>\n",
       "      <td>-87.633309</td>\n",
       "      <td>POINT (-87.63330943703569 41.899602106426094)</td>\n",
       "      <td>41.901207</td>\n",
       "      <td>-87.676357</td>\n",
       "      <td>POINT (-87.67635712603905 41.90120673431551)</td>\n",
       "      <td>1.428838</td>\n",
       "    </tr>\n",
       "    <tr>\n",
       "      <th>11</th>\n",
       "      <td>1773c003-f045-892a-1773-c003f045892a</td>\n",
       "      <td>2022-06-20 18:00:00</td>\n",
       "      <td>2022-06-20 19:00:00</td>\n",
       "      <td>2383</td>\n",
       "      <td>Lyft</td>\n",
       "      <td>32.0</td>\n",
       "      <td>8.0</td>\n",
       "      <td>Loop</td>\n",
       "      <td>Near North Side</td>\n",
       "      <td>41.878866</td>\n",
       "      <td>-87.625192</td>\n",
       "      <td>POINT (-87.62519186960115 41.87886594636445)</td>\n",
       "      <td>41.899602</td>\n",
       "      <td>-87.633309</td>\n",
       "      <td>POINT (-87.63330943703569 41.899602106426094)</td>\n",
       "      <td>2.076445</td>\n",
       "    </tr>\n",
       "    <tr>\n",
       "      <th>15</th>\n",
       "      <td>17755fe4-2cd6-7484-1775-5fe42cd67484</td>\n",
       "      <td>2022-06-22 00:00:00</td>\n",
       "      <td>2022-06-22 00:00:00</td>\n",
       "      <td>148</td>\n",
       "      <td>Lyft</td>\n",
       "      <td>32.0</td>\n",
       "      <td>32.0</td>\n",
       "      <td>Loop</td>\n",
       "      <td>Loop</td>\n",
       "      <td>41.878866</td>\n",
       "      <td>-87.625192</td>\n",
       "      <td>POINT (-87.62519186960115 41.87886594636445)</td>\n",
       "      <td>41.878866</td>\n",
       "      <td>-87.625192</td>\n",
       "      <td>POINT (-87.62519186960115 41.87886594636445)</td>\n",
       "      <td>0.015538</td>\n",
       "    </tr>\n",
       "  </tbody>\n",
       "</table>\n",
       "</div>"
      ],
      "text/plain": [
       "                                 Trip ID          Start Time  \\\n",
       "0   17553846-c8d6-b9de-1755-3846c8d6b9de 2022-05-28 14:00:00   \n",
       "1   1756d4dc-ccf1-af42-1756-d4dcccf1af42 2022-05-29 19:00:00   \n",
       "4   17659074-0cfd-92ca-1765-90740cfd92ca 2022-06-10 00:00:00   \n",
       "11  1773c003-f045-892a-1773-c003f045892a 2022-06-20 18:00:00   \n",
       "15  17755fe4-2cd6-7484-1775-5fe42cd67484 2022-06-22 00:00:00   \n",
       "\n",
       "              End Time  Trip Duration Vendor  Start Community Area Number  \\\n",
       "0  2022-05-28 15:00:00           1544   Lyft                         32.0   \n",
       "1  2022-05-29 20:00:00            135   Lyft                         32.0   \n",
       "4  2022-06-10 00:00:00            540   Lyft                          8.0   \n",
       "11 2022-06-20 19:00:00           2383   Lyft                         32.0   \n",
       "15 2022-06-22 00:00:00            148   Lyft                         32.0   \n",
       "\n",
       "    End Community Area Number Start Community Area Name  \\\n",
       "0                        32.0                      Loop   \n",
       "1                        32.0                      Loop   \n",
       "4                        24.0           Near North Side   \n",
       "11                        8.0                      Loop   \n",
       "15                       32.0                      Loop   \n",
       "\n",
       "   End Community Area Name  Start Centroid Latitude  Start Centroid Longitude  \\\n",
       "0                     Loop                41.878866                -87.625192   \n",
       "1                     Loop                41.878866                -87.625192   \n",
       "4                West Town                41.899602                -87.633309   \n",
       "11         Near North Side                41.878866                -87.625192   \n",
       "15                    Loop                41.878866                -87.625192   \n",
       "\n",
       "                          Start Centroid Location  End Centroid Latitude  \\\n",
       "0    POINT (-87.62519186960115 41.87886594636445)              41.878866   \n",
       "1    POINT (-87.62519186960115 41.87886594636445)              41.878866   \n",
       "4   POINT (-87.63330943703569 41.899602106426094)              41.901207   \n",
       "11   POINT (-87.62519186960115 41.87886594636445)              41.899602   \n",
       "15   POINT (-87.62519186960115 41.87886594636445)              41.878866   \n",
       "\n",
       "    End Centroid Longitude                          End Centroid Location  \\\n",
       "0               -87.625192   POINT (-87.62519186960115 41.87886594636445)   \n",
       "1               -87.625192   POINT (-87.62519186960115 41.87886594636445)   \n",
       "4               -87.676357   POINT (-87.67635712603905 41.90120673431551)   \n",
       "11              -87.633309  POINT (-87.63330943703569 41.899602106426094)   \n",
       "15              -87.625192   POINT (-87.62519186960115 41.87886594636445)   \n",
       "\n",
       "    Trip Distance (miles)  \n",
       "0                1.543816  \n",
       "1                0.022374  \n",
       "4                1.428838  \n",
       "11               2.076445  \n",
       "15               0.015538  "
      ]
     },
     "execution_count": 13,
     "metadata": {},
     "output_type": "execute_result"
    }
   ],
   "source": [
    "df.head()"
   ]
  },
  {
   "cell_type": "code",
   "execution_count": 14,
   "metadata": {},
   "outputs": [],
   "source": [
    "df['Trip Duration (minutes)'] = df['Trip Duration'] / 60  #Converting 'Trip Duration' from seconds to minutes"
   ]
  },
  {
   "cell_type": "code",
   "execution_count": 15,
   "metadata": {},
   "outputs": [],
   "source": [
    "df.drop('Trip Duration', axis=1, inplace=True)"
   ]
  },
  {
   "cell_type": "code",
   "execution_count": 16,
   "metadata": {},
   "outputs": [
    {
     "data": {
      "text/html": [
       "<div>\n",
       "<style scoped>\n",
       "    .dataframe tbody tr th:only-of-type {\n",
       "        vertical-align: middle;\n",
       "    }\n",
       "\n",
       "    .dataframe tbody tr th {\n",
       "        vertical-align: top;\n",
       "    }\n",
       "\n",
       "    .dataframe thead th {\n",
       "        text-align: right;\n",
       "    }\n",
       "</style>\n",
       "<table border=\"1\" class=\"dataframe\">\n",
       "  <thead>\n",
       "    <tr style=\"text-align: right;\">\n",
       "      <th></th>\n",
       "      <th>Trip ID</th>\n",
       "      <th>Start Time</th>\n",
       "      <th>End Time</th>\n",
       "      <th>Vendor</th>\n",
       "      <th>Start Community Area Number</th>\n",
       "      <th>End Community Area Number</th>\n",
       "      <th>Start Community Area Name</th>\n",
       "      <th>End Community Area Name</th>\n",
       "      <th>Start Centroid Latitude</th>\n",
       "      <th>Start Centroid Longitude</th>\n",
       "      <th>Start Centroid Location</th>\n",
       "      <th>End Centroid Latitude</th>\n",
       "      <th>End Centroid Longitude</th>\n",
       "      <th>End Centroid Location</th>\n",
       "      <th>Trip Distance (miles)</th>\n",
       "      <th>Trip Duration (minutes)</th>\n",
       "    </tr>\n",
       "  </thead>\n",
       "  <tbody>\n",
       "    <tr>\n",
       "      <th>0</th>\n",
       "      <td>17553846-c8d6-b9de-1755-3846c8d6b9de</td>\n",
       "      <td>2022-05-28 14:00:00</td>\n",
       "      <td>2022-05-28 15:00:00</td>\n",
       "      <td>Lyft</td>\n",
       "      <td>32.0</td>\n",
       "      <td>32.0</td>\n",
       "      <td>Loop</td>\n",
       "      <td>Loop</td>\n",
       "      <td>41.878866</td>\n",
       "      <td>-87.625192</td>\n",
       "      <td>POINT (-87.62519186960115 41.87886594636445)</td>\n",
       "      <td>41.878866</td>\n",
       "      <td>-87.625192</td>\n",
       "      <td>POINT (-87.62519186960115 41.87886594636445)</td>\n",
       "      <td>1.543816</td>\n",
       "      <td>25.733333</td>\n",
       "    </tr>\n",
       "    <tr>\n",
       "      <th>1</th>\n",
       "      <td>1756d4dc-ccf1-af42-1756-d4dcccf1af42</td>\n",
       "      <td>2022-05-29 19:00:00</td>\n",
       "      <td>2022-05-29 20:00:00</td>\n",
       "      <td>Lyft</td>\n",
       "      <td>32.0</td>\n",
       "      <td>32.0</td>\n",
       "      <td>Loop</td>\n",
       "      <td>Loop</td>\n",
       "      <td>41.878866</td>\n",
       "      <td>-87.625192</td>\n",
       "      <td>POINT (-87.62519186960115 41.87886594636445)</td>\n",
       "      <td>41.878866</td>\n",
       "      <td>-87.625192</td>\n",
       "      <td>POINT (-87.62519186960115 41.87886594636445)</td>\n",
       "      <td>0.022374</td>\n",
       "      <td>2.250000</td>\n",
       "    </tr>\n",
       "    <tr>\n",
       "      <th>4</th>\n",
       "      <td>17659074-0cfd-92ca-1765-90740cfd92ca</td>\n",
       "      <td>2022-06-10 00:00:00</td>\n",
       "      <td>2022-06-10 00:00:00</td>\n",
       "      <td>Lyft</td>\n",
       "      <td>8.0</td>\n",
       "      <td>24.0</td>\n",
       "      <td>Near North Side</td>\n",
       "      <td>West Town</td>\n",
       "      <td>41.899602</td>\n",
       "      <td>-87.633309</td>\n",
       "      <td>POINT (-87.63330943703569 41.899602106426094)</td>\n",
       "      <td>41.901207</td>\n",
       "      <td>-87.676357</td>\n",
       "      <td>POINT (-87.67635712603905 41.90120673431551)</td>\n",
       "      <td>1.428838</td>\n",
       "      <td>9.000000</td>\n",
       "    </tr>\n",
       "    <tr>\n",
       "      <th>11</th>\n",
       "      <td>1773c003-f045-892a-1773-c003f045892a</td>\n",
       "      <td>2022-06-20 18:00:00</td>\n",
       "      <td>2022-06-20 19:00:00</td>\n",
       "      <td>Lyft</td>\n",
       "      <td>32.0</td>\n",
       "      <td>8.0</td>\n",
       "      <td>Loop</td>\n",
       "      <td>Near North Side</td>\n",
       "      <td>41.878866</td>\n",
       "      <td>-87.625192</td>\n",
       "      <td>POINT (-87.62519186960115 41.87886594636445)</td>\n",
       "      <td>41.899602</td>\n",
       "      <td>-87.633309</td>\n",
       "      <td>POINT (-87.63330943703569 41.899602106426094)</td>\n",
       "      <td>2.076445</td>\n",
       "      <td>39.716667</td>\n",
       "    </tr>\n",
       "    <tr>\n",
       "      <th>15</th>\n",
       "      <td>17755fe4-2cd6-7484-1775-5fe42cd67484</td>\n",
       "      <td>2022-06-22 00:00:00</td>\n",
       "      <td>2022-06-22 00:00:00</td>\n",
       "      <td>Lyft</td>\n",
       "      <td>32.0</td>\n",
       "      <td>32.0</td>\n",
       "      <td>Loop</td>\n",
       "      <td>Loop</td>\n",
       "      <td>41.878866</td>\n",
       "      <td>-87.625192</td>\n",
       "      <td>POINT (-87.62519186960115 41.87886594636445)</td>\n",
       "      <td>41.878866</td>\n",
       "      <td>-87.625192</td>\n",
       "      <td>POINT (-87.62519186960115 41.87886594636445)</td>\n",
       "      <td>0.015538</td>\n",
       "      <td>2.466667</td>\n",
       "    </tr>\n",
       "  </tbody>\n",
       "</table>\n",
       "</div>"
      ],
      "text/plain": [
       "                                 Trip ID          Start Time  \\\n",
       "0   17553846-c8d6-b9de-1755-3846c8d6b9de 2022-05-28 14:00:00   \n",
       "1   1756d4dc-ccf1-af42-1756-d4dcccf1af42 2022-05-29 19:00:00   \n",
       "4   17659074-0cfd-92ca-1765-90740cfd92ca 2022-06-10 00:00:00   \n",
       "11  1773c003-f045-892a-1773-c003f045892a 2022-06-20 18:00:00   \n",
       "15  17755fe4-2cd6-7484-1775-5fe42cd67484 2022-06-22 00:00:00   \n",
       "\n",
       "              End Time Vendor  Start Community Area Number  \\\n",
       "0  2022-05-28 15:00:00   Lyft                         32.0   \n",
       "1  2022-05-29 20:00:00   Lyft                         32.0   \n",
       "4  2022-06-10 00:00:00   Lyft                          8.0   \n",
       "11 2022-06-20 19:00:00   Lyft                         32.0   \n",
       "15 2022-06-22 00:00:00   Lyft                         32.0   \n",
       "\n",
       "    End Community Area Number Start Community Area Name  \\\n",
       "0                        32.0                      Loop   \n",
       "1                        32.0                      Loop   \n",
       "4                        24.0           Near North Side   \n",
       "11                        8.0                      Loop   \n",
       "15                       32.0                      Loop   \n",
       "\n",
       "   End Community Area Name  Start Centroid Latitude  Start Centroid Longitude  \\\n",
       "0                     Loop                41.878866                -87.625192   \n",
       "1                     Loop                41.878866                -87.625192   \n",
       "4                West Town                41.899602                -87.633309   \n",
       "11         Near North Side                41.878866                -87.625192   \n",
       "15                    Loop                41.878866                -87.625192   \n",
       "\n",
       "                          Start Centroid Location  End Centroid Latitude  \\\n",
       "0    POINT (-87.62519186960115 41.87886594636445)              41.878866   \n",
       "1    POINT (-87.62519186960115 41.87886594636445)              41.878866   \n",
       "4   POINT (-87.63330943703569 41.899602106426094)              41.901207   \n",
       "11   POINT (-87.62519186960115 41.87886594636445)              41.899602   \n",
       "15   POINT (-87.62519186960115 41.87886594636445)              41.878866   \n",
       "\n",
       "    End Centroid Longitude                          End Centroid Location  \\\n",
       "0               -87.625192   POINT (-87.62519186960115 41.87886594636445)   \n",
       "1               -87.625192   POINT (-87.62519186960115 41.87886594636445)   \n",
       "4               -87.676357   POINT (-87.67635712603905 41.90120673431551)   \n",
       "11              -87.633309  POINT (-87.63330943703569 41.899602106426094)   \n",
       "15              -87.625192   POINT (-87.62519186960115 41.87886594636445)   \n",
       "\n",
       "    Trip Distance (miles)  Trip Duration (minutes)  \n",
       "0                1.543816                25.733333  \n",
       "1                0.022374                 2.250000  \n",
       "4                1.428838                 9.000000  \n",
       "11               2.076445                39.716667  \n",
       "15               0.015538                 2.466667  "
      ]
     },
     "execution_count": 16,
     "metadata": {},
     "output_type": "execute_result"
    }
   ],
   "source": [
    "df.head()"
   ]
  },
  {
   "cell_type": "code",
   "execution_count": 17,
   "metadata": {},
   "outputs": [
    {
     "name": "stdout",
     "output_type": "stream",
     "text": [
      "                          Start Time                       End Time  \\\n",
      "count                        3790619                        3790619   \n",
      "mean   2023-03-09 08:11:05.890294528  2023-03-09 08:25:00.085870848   \n",
      "min              2022-05-10 09:00:00            2022-05-10 09:00:00   \n",
      "25%              2022-09-18 15:00:00            2022-09-18 15:00:00   \n",
      "50%              2023-05-16 09:00:00            2023-05-16 09:00:00   \n",
      "75%              2023-08-02 19:00:00            2023-08-02 19:00:00   \n",
      "max              2023-09-30 20:00:00            2023-09-30 21:00:00   \n",
      "std                              NaN                            NaN   \n",
      "\n",
      "       Start Community Area Number  End Community Area Number  \\\n",
      "count                 3.790619e+06               3.790619e+06   \n",
      "mean                  2.565720e+01               2.564401e+01   \n",
      "min                   1.000000e+00               1.000000e+00   \n",
      "25%                   8.000000e+00               8.000000e+00   \n",
      "50%                   2.400000e+01               2.400000e+01   \n",
      "75%                   3.200000e+01               3.200000e+01   \n",
      "max                   7.700000e+01               7.700000e+01   \n",
      "std                   1.874120e+01               1.876554e+01   \n",
      "\n",
      "       Start Centroid Latitude  Start Centroid Longitude  \\\n",
      "count             3.790619e+06              3.790619e+06   \n",
      "mean              4.188549e+01             -8.766565e+01   \n",
      "min               4.166014e+01             -8.789370e+01   \n",
      "25%               4.187401e+01             -8.768752e+01   \n",
      "50%               4.189960e+01             -8.766342e+01   \n",
      "75%               4.192269e+01             -8.763331e+01   \n",
      "max               4.200962e+01             -8.753490e+01   \n",
      "std               6.253011e-02              4.309831e-02   \n",
      "\n",
      "       End Centroid Latitude  End Centroid Longitude  Trip Distance (miles)  \\\n",
      "count           3.790619e+06            3.790619e+06           3.790619e+06   \n",
      "mean            4.188557e+01           -8.766585e+01           1.464122e+00   \n",
      "min             4.166014e+01           -8.789370e+01           0.000000e+00   \n",
      "25%             4.187401e+01           -8.769501e+01           5.177129e-01   \n",
      "50%             4.189960e+01           -8.766342e+01           1.012430e+00   \n",
      "75%             4.192269e+01           -8.763331e+01           1.839652e+00   \n",
      "max             4.200962e+01           -8.753490e+01           1.174183e+04   \n",
      "std             6.267355e-02            4.338250e-02           6.350634e+00   \n",
      "\n",
      "       Trip Duration (minutes)  \n",
      "count             3.790619e+06  \n",
      "mean              1.401669e+01  \n",
      "min              -1.026600e+03  \n",
      "25%               4.733333e+00  \n",
      "50%               8.650000e+00  \n",
      "75%               1.615000e+01  \n",
      "max               4.166000e+02  \n",
      "std               1.821297e+01  \n"
     ]
    }
   ],
   "source": [
    "print(df.describe())"
   ]
  },
  {
   "cell_type": "code",
   "execution_count": 18,
   "metadata": {},
   "outputs": [],
   "source": [
    "\n",
    "df.drop_duplicates(inplace=True)"
   ]
  },
  {
   "cell_type": "code",
   "execution_count": 19,
   "metadata": {},
   "outputs": [
    {
     "name": "stdout",
     "output_type": "stream",
     "text": [
      "0\n"
     ]
    }
   ],
   "source": [
    "print(df.duplicated().sum())\n"
   ]
  },
  {
   "cell_type": "code",
   "execution_count": 20,
   "metadata": {},
   "outputs": [],
   "source": [
    "df.reset_index(drop=True, inplace=True)\n"
   ]
  },
  {
   "cell_type": "code",
   "execution_count": 21,
   "metadata": {},
   "outputs": [
    {
     "name": "stdout",
     "output_type": "stream",
     "text": [
      "Requirement already satisfied: scipy in c:\\users\\snamasi1\\appdata\\local\\packages\\pythonsoftwarefoundation.python.3.10_qbz5n2kfra8p0\\localcache\\local-packages\\python310\\site-packages (1.12.0)\n",
      "Requirement already satisfied: numpy<1.29.0,>=1.22.4 in c:\\users\\snamasi1\\appdata\\local\\packages\\pythonsoftwarefoundation.python.3.10_qbz5n2kfra8p0\\localcache\\local-packages\\python310\\site-packages (from scipy) (1.26.4)\n",
      "Note: you may need to restart the kernel to use updated packages.\n"
     ]
    }
   ],
   "source": [
    "pip install scipy"
   ]
  },
  {
   "cell_type": "code",
   "execution_count": 22,
   "metadata": {},
   "outputs": [],
   "source": [
    "from scipy import stats"
   ]
  },
  {
   "cell_type": "code",
   "execution_count": 23,
   "metadata": {},
   "outputs": [],
   "source": [
    "z_scores_duration = stats.zscore(df['Trip Duration (minutes)'])\n",
    "z_scores_distance = stats.zscore(df['Trip Distance (miles)'])"
   ]
  },
  {
   "cell_type": "code",
   "execution_count": 24,
   "metadata": {},
   "outputs": [],
   "source": [
    "z_score_threshold = 3 #considering observations beyond 3 standard deviations as outliers"
   ]
  },
  {
   "cell_type": "code",
   "execution_count": 25,
   "metadata": {},
   "outputs": [],
   "source": [
    "df = df[(abs(z_scores_duration) <= z_score_threshold) & (abs(z_scores_distance) <= z_score_threshold)]"
   ]
  },
  {
   "cell_type": "code",
   "execution_count": 26,
   "metadata": {},
   "outputs": [
    {
     "data": {
      "text/html": [
       "<div>\n",
       "<style scoped>\n",
       "    .dataframe tbody tr th:only-of-type {\n",
       "        vertical-align: middle;\n",
       "    }\n",
       "\n",
       "    .dataframe tbody tr th {\n",
       "        vertical-align: top;\n",
       "    }\n",
       "\n",
       "    .dataframe thead th {\n",
       "        text-align: right;\n",
       "    }\n",
       "</style>\n",
       "<table border=\"1\" class=\"dataframe\">\n",
       "  <thead>\n",
       "    <tr style=\"text-align: right;\">\n",
       "      <th></th>\n",
       "      <th>Trip ID</th>\n",
       "      <th>Start Time</th>\n",
       "      <th>End Time</th>\n",
       "      <th>Vendor</th>\n",
       "      <th>Start Community Area Number</th>\n",
       "      <th>End Community Area Number</th>\n",
       "      <th>Start Community Area Name</th>\n",
       "      <th>End Community Area Name</th>\n",
       "      <th>Start Centroid Latitude</th>\n",
       "      <th>Start Centroid Longitude</th>\n",
       "      <th>Start Centroid Location</th>\n",
       "      <th>End Centroid Latitude</th>\n",
       "      <th>End Centroid Longitude</th>\n",
       "      <th>End Centroid Location</th>\n",
       "      <th>Trip Distance (miles)</th>\n",
       "      <th>Trip Duration (minutes)</th>\n",
       "    </tr>\n",
       "  </thead>\n",
       "  <tbody>\n",
       "    <tr>\n",
       "      <th>0</th>\n",
       "      <td>17553846-c8d6-b9de-1755-3846c8d6b9de</td>\n",
       "      <td>2022-05-28 14:00:00</td>\n",
       "      <td>2022-05-28 15:00:00</td>\n",
       "      <td>Lyft</td>\n",
       "      <td>32.0</td>\n",
       "      <td>32.0</td>\n",
       "      <td>Loop</td>\n",
       "      <td>Loop</td>\n",
       "      <td>41.878866</td>\n",
       "      <td>-87.625192</td>\n",
       "      <td>POINT (-87.62519186960115 41.87886594636445)</td>\n",
       "      <td>41.878866</td>\n",
       "      <td>-87.625192</td>\n",
       "      <td>POINT (-87.62519186960115 41.87886594636445)</td>\n",
       "      <td>1.543816</td>\n",
       "      <td>25.733333</td>\n",
       "    </tr>\n",
       "    <tr>\n",
       "      <th>1</th>\n",
       "      <td>1756d4dc-ccf1-af42-1756-d4dcccf1af42</td>\n",
       "      <td>2022-05-29 19:00:00</td>\n",
       "      <td>2022-05-29 20:00:00</td>\n",
       "      <td>Lyft</td>\n",
       "      <td>32.0</td>\n",
       "      <td>32.0</td>\n",
       "      <td>Loop</td>\n",
       "      <td>Loop</td>\n",
       "      <td>41.878866</td>\n",
       "      <td>-87.625192</td>\n",
       "      <td>POINT (-87.62519186960115 41.87886594636445)</td>\n",
       "      <td>41.878866</td>\n",
       "      <td>-87.625192</td>\n",
       "      <td>POINT (-87.62519186960115 41.87886594636445)</td>\n",
       "      <td>0.022374</td>\n",
       "      <td>2.250000</td>\n",
       "    </tr>\n",
       "    <tr>\n",
       "      <th>2</th>\n",
       "      <td>17659074-0cfd-92ca-1765-90740cfd92ca</td>\n",
       "      <td>2022-06-10 00:00:00</td>\n",
       "      <td>2022-06-10 00:00:00</td>\n",
       "      <td>Lyft</td>\n",
       "      <td>8.0</td>\n",
       "      <td>24.0</td>\n",
       "      <td>Near North Side</td>\n",
       "      <td>West Town</td>\n",
       "      <td>41.899602</td>\n",
       "      <td>-87.633309</td>\n",
       "      <td>POINT (-87.63330943703569 41.899602106426094)</td>\n",
       "      <td>41.901207</td>\n",
       "      <td>-87.676357</td>\n",
       "      <td>POINT (-87.67635712603905 41.90120673431551)</td>\n",
       "      <td>1.428838</td>\n",
       "      <td>9.000000</td>\n",
       "    </tr>\n",
       "    <tr>\n",
       "      <th>3</th>\n",
       "      <td>1773c003-f045-892a-1773-c003f045892a</td>\n",
       "      <td>2022-06-20 18:00:00</td>\n",
       "      <td>2022-06-20 19:00:00</td>\n",
       "      <td>Lyft</td>\n",
       "      <td>32.0</td>\n",
       "      <td>8.0</td>\n",
       "      <td>Loop</td>\n",
       "      <td>Near North Side</td>\n",
       "      <td>41.878866</td>\n",
       "      <td>-87.625192</td>\n",
       "      <td>POINT (-87.62519186960115 41.87886594636445)</td>\n",
       "      <td>41.899602</td>\n",
       "      <td>-87.633309</td>\n",
       "      <td>POINT (-87.63330943703569 41.899602106426094)</td>\n",
       "      <td>2.076445</td>\n",
       "      <td>39.716667</td>\n",
       "    </tr>\n",
       "    <tr>\n",
       "      <th>4</th>\n",
       "      <td>17755fe4-2cd6-7484-1775-5fe42cd67484</td>\n",
       "      <td>2022-06-22 00:00:00</td>\n",
       "      <td>2022-06-22 00:00:00</td>\n",
       "      <td>Lyft</td>\n",
       "      <td>32.0</td>\n",
       "      <td>32.0</td>\n",
       "      <td>Loop</td>\n",
       "      <td>Loop</td>\n",
       "      <td>41.878866</td>\n",
       "      <td>-87.625192</td>\n",
       "      <td>POINT (-87.62519186960115 41.87886594636445)</td>\n",
       "      <td>41.878866</td>\n",
       "      <td>-87.625192</td>\n",
       "      <td>POINT (-87.62519186960115 41.87886594636445)</td>\n",
       "      <td>0.015538</td>\n",
       "      <td>2.466667</td>\n",
       "    </tr>\n",
       "    <tr>\n",
       "      <th>...</th>\n",
       "      <td>...</td>\n",
       "      <td>...</td>\n",
       "      <td>...</td>\n",
       "      <td>...</td>\n",
       "      <td>...</td>\n",
       "      <td>...</td>\n",
       "      <td>...</td>\n",
       "      <td>...</td>\n",
       "      <td>...</td>\n",
       "      <td>...</td>\n",
       "      <td>...</td>\n",
       "      <td>...</td>\n",
       "      <td>...</td>\n",
       "      <td>...</td>\n",
       "      <td>...</td>\n",
       "      <td>...</td>\n",
       "    </tr>\n",
       "    <tr>\n",
       "      <th>3790613</th>\n",
       "      <td>7d085b7a-af65-42f7-b12a-fed340e3b82f</td>\n",
       "      <td>2023-09-30 16:00:00</td>\n",
       "      <td>2023-09-30 16:00:00</td>\n",
       "      <td>Lime</td>\n",
       "      <td>7.0</td>\n",
       "      <td>7.0</td>\n",
       "      <td>Lincoln Park</td>\n",
       "      <td>Lincoln Park</td>\n",
       "      <td>41.922686</td>\n",
       "      <td>-87.649490</td>\n",
       "      <td>POINT (-87.64948972103548 41.922686117884986)</td>\n",
       "      <td>41.922686</td>\n",
       "      <td>-87.649490</td>\n",
       "      <td>POINT (-87.64948972103548 41.922686117884986)</td>\n",
       "      <td>0.587321</td>\n",
       "      <td>3.166667</td>\n",
       "    </tr>\n",
       "    <tr>\n",
       "      <th>3790614</th>\n",
       "      <td>1cbe09ed-dc45-45ed-b53a-37af082f786d</td>\n",
       "      <td>2023-09-30 17:00:00</td>\n",
       "      <td>2023-09-30 17:00:00</td>\n",
       "      <td>Lime</td>\n",
       "      <td>17.0</td>\n",
       "      <td>19.0</td>\n",
       "      <td>Dunning</td>\n",
       "      <td>Belmont Cragin</td>\n",
       "      <td>41.946511</td>\n",
       "      <td>-87.806020</td>\n",
       "      <td>POINT (-87.80601984481356 41.94651066317405)</td>\n",
       "      <td>41.927261</td>\n",
       "      <td>-87.765502</td>\n",
       "      <td>POINT (-87.76550183689795 41.927260741518765)</td>\n",
       "      <td>1.114978</td>\n",
       "      <td>18.550000</td>\n",
       "    </tr>\n",
       "    <tr>\n",
       "      <th>3790615</th>\n",
       "      <td>19db6c7e-60b2-7770-19db-6c7e60b27770</td>\n",
       "      <td>2023-09-30 18:00:00</td>\n",
       "      <td>2023-09-30 18:00:00</td>\n",
       "      <td>Lyft</td>\n",
       "      <td>8.0</td>\n",
       "      <td>8.0</td>\n",
       "      <td>Near North Side</td>\n",
       "      <td>Near North Side</td>\n",
       "      <td>41.899602</td>\n",
       "      <td>-87.633309</td>\n",
       "      <td>POINT (-87.63330943703569 41.899602106426094)</td>\n",
       "      <td>41.899602</td>\n",
       "      <td>-87.633309</td>\n",
       "      <td>POINT (-87.63330943703569 41.899602106426094)</td>\n",
       "      <td>0.646364</td>\n",
       "      <td>5.400000</td>\n",
       "    </tr>\n",
       "    <tr>\n",
       "      <th>3790617</th>\n",
       "      <td>410963f4-cafe-48c9-bef9-5db8bf579100</td>\n",
       "      <td>2023-09-30 16:00:00</td>\n",
       "      <td>2023-09-30 17:00:00</td>\n",
       "      <td>Lime</td>\n",
       "      <td>71.0</td>\n",
       "      <td>71.0</td>\n",
       "      <td>Auburn Gresham</td>\n",
       "      <td>Auburn Gresham</td>\n",
       "      <td>41.744205</td>\n",
       "      <td>-87.656307</td>\n",
       "      <td>POINT (-87.65630678738862 41.74420543691766)</td>\n",
       "      <td>41.744205</td>\n",
       "      <td>-87.656307</td>\n",
       "      <td>POINT (-87.65630678738862 41.74420543691766)</td>\n",
       "      <td>1.807334</td>\n",
       "      <td>32.766667</td>\n",
       "    </tr>\n",
       "    <tr>\n",
       "      <th>3790618</th>\n",
       "      <td>842c0439-c993-4e9d-b28c-bbd2b36999de</td>\n",
       "      <td>2023-09-30 17:00:00</td>\n",
       "      <td>2023-09-30 18:00:00</td>\n",
       "      <td>Lime</td>\n",
       "      <td>8.0</td>\n",
       "      <td>8.0</td>\n",
       "      <td>Near North Side</td>\n",
       "      <td>Near North Side</td>\n",
       "      <td>41.899602</td>\n",
       "      <td>-87.633309</td>\n",
       "      <td>POINT (-87.63330943703569 41.899602106426094)</td>\n",
       "      <td>41.899602</td>\n",
       "      <td>-87.633309</td>\n",
       "      <td>POINT (-87.63330943703569 41.899602106426094)</td>\n",
       "      <td>2.523928</td>\n",
       "      <td>27.133333</td>\n",
       "    </tr>\n",
       "  </tbody>\n",
       "</table>\n",
       "<p>3696099 rows × 16 columns</p>\n",
       "</div>"
      ],
      "text/plain": [
       "                                      Trip ID          Start Time  \\\n",
       "0        17553846-c8d6-b9de-1755-3846c8d6b9de 2022-05-28 14:00:00   \n",
       "1        1756d4dc-ccf1-af42-1756-d4dcccf1af42 2022-05-29 19:00:00   \n",
       "2        17659074-0cfd-92ca-1765-90740cfd92ca 2022-06-10 00:00:00   \n",
       "3        1773c003-f045-892a-1773-c003f045892a 2022-06-20 18:00:00   \n",
       "4        17755fe4-2cd6-7484-1775-5fe42cd67484 2022-06-22 00:00:00   \n",
       "...                                       ...                 ...   \n",
       "3790613  7d085b7a-af65-42f7-b12a-fed340e3b82f 2023-09-30 16:00:00   \n",
       "3790614  1cbe09ed-dc45-45ed-b53a-37af082f786d 2023-09-30 17:00:00   \n",
       "3790615  19db6c7e-60b2-7770-19db-6c7e60b27770 2023-09-30 18:00:00   \n",
       "3790617  410963f4-cafe-48c9-bef9-5db8bf579100 2023-09-30 16:00:00   \n",
       "3790618  842c0439-c993-4e9d-b28c-bbd2b36999de 2023-09-30 17:00:00   \n",
       "\n",
       "                   End Time Vendor  Start Community Area Number  \\\n",
       "0       2022-05-28 15:00:00   Lyft                         32.0   \n",
       "1       2022-05-29 20:00:00   Lyft                         32.0   \n",
       "2       2022-06-10 00:00:00   Lyft                          8.0   \n",
       "3       2022-06-20 19:00:00   Lyft                         32.0   \n",
       "4       2022-06-22 00:00:00   Lyft                         32.0   \n",
       "...                     ...    ...                          ...   \n",
       "3790613 2023-09-30 16:00:00   Lime                          7.0   \n",
       "3790614 2023-09-30 17:00:00   Lime                         17.0   \n",
       "3790615 2023-09-30 18:00:00   Lyft                          8.0   \n",
       "3790617 2023-09-30 17:00:00   Lime                         71.0   \n",
       "3790618 2023-09-30 18:00:00   Lime                          8.0   \n",
       "\n",
       "         End Community Area Number Start Community Area Name  \\\n",
       "0                             32.0                      Loop   \n",
       "1                             32.0                      Loop   \n",
       "2                             24.0           Near North Side   \n",
       "3                              8.0                      Loop   \n",
       "4                             32.0                      Loop   \n",
       "...                            ...                       ...   \n",
       "3790613                        7.0              Lincoln Park   \n",
       "3790614                       19.0                   Dunning   \n",
       "3790615                        8.0           Near North Side   \n",
       "3790617                       71.0            Auburn Gresham   \n",
       "3790618                        8.0           Near North Side   \n",
       "\n",
       "        End Community Area Name  Start Centroid Latitude  \\\n",
       "0                          Loop                41.878866   \n",
       "1                          Loop                41.878866   \n",
       "2                     West Town                41.899602   \n",
       "3               Near North Side                41.878866   \n",
       "4                          Loop                41.878866   \n",
       "...                         ...                      ...   \n",
       "3790613            Lincoln Park                41.922686   \n",
       "3790614          Belmont Cragin                41.946511   \n",
       "3790615         Near North Side                41.899602   \n",
       "3790617          Auburn Gresham                41.744205   \n",
       "3790618         Near North Side                41.899602   \n",
       "\n",
       "         Start Centroid Longitude  \\\n",
       "0                      -87.625192   \n",
       "1                      -87.625192   \n",
       "2                      -87.633309   \n",
       "3                      -87.625192   \n",
       "4                      -87.625192   \n",
       "...                           ...   \n",
       "3790613                -87.649490   \n",
       "3790614                -87.806020   \n",
       "3790615                -87.633309   \n",
       "3790617                -87.656307   \n",
       "3790618                -87.633309   \n",
       "\n",
       "                               Start Centroid Location  End Centroid Latitude  \\\n",
       "0         POINT (-87.62519186960115 41.87886594636445)              41.878866   \n",
       "1         POINT (-87.62519186960115 41.87886594636445)              41.878866   \n",
       "2        POINT (-87.63330943703569 41.899602106426094)              41.901207   \n",
       "3         POINT (-87.62519186960115 41.87886594636445)              41.899602   \n",
       "4         POINT (-87.62519186960115 41.87886594636445)              41.878866   \n",
       "...                                                ...                    ...   \n",
       "3790613  POINT (-87.64948972103548 41.922686117884986)              41.922686   \n",
       "3790614   POINT (-87.80601984481356 41.94651066317405)              41.927261   \n",
       "3790615  POINT (-87.63330943703569 41.899602106426094)              41.899602   \n",
       "3790617   POINT (-87.65630678738862 41.74420543691766)              41.744205   \n",
       "3790618  POINT (-87.63330943703569 41.899602106426094)              41.899602   \n",
       "\n",
       "         End Centroid Longitude  \\\n",
       "0                    -87.625192   \n",
       "1                    -87.625192   \n",
       "2                    -87.676357   \n",
       "3                    -87.633309   \n",
       "4                    -87.625192   \n",
       "...                         ...   \n",
       "3790613              -87.649490   \n",
       "3790614              -87.765502   \n",
       "3790615              -87.633309   \n",
       "3790617              -87.656307   \n",
       "3790618              -87.633309   \n",
       "\n",
       "                                 End Centroid Location  Trip Distance (miles)  \\\n",
       "0         POINT (-87.62519186960115 41.87886594636445)               1.543816   \n",
       "1         POINT (-87.62519186960115 41.87886594636445)               0.022374   \n",
       "2         POINT (-87.67635712603905 41.90120673431551)               1.428838   \n",
       "3        POINT (-87.63330943703569 41.899602106426094)               2.076445   \n",
       "4         POINT (-87.62519186960115 41.87886594636445)               0.015538   \n",
       "...                                                ...                    ...   \n",
       "3790613  POINT (-87.64948972103548 41.922686117884986)               0.587321   \n",
       "3790614  POINT (-87.76550183689795 41.927260741518765)               1.114978   \n",
       "3790615  POINT (-87.63330943703569 41.899602106426094)               0.646364   \n",
       "3790617   POINT (-87.65630678738862 41.74420543691766)               1.807334   \n",
       "3790618  POINT (-87.63330943703569 41.899602106426094)               2.523928   \n",
       "\n",
       "         Trip Duration (minutes)  \n",
       "0                      25.733333  \n",
       "1                       2.250000  \n",
       "2                       9.000000  \n",
       "3                      39.716667  \n",
       "4                       2.466667  \n",
       "...                          ...  \n",
       "3790613                 3.166667  \n",
       "3790614                18.550000  \n",
       "3790615                 5.400000  \n",
       "3790617                32.766667  \n",
       "3790618                27.133333  \n",
       "\n",
       "[3696099 rows x 16 columns]"
      ]
     },
     "execution_count": 26,
     "metadata": {},
     "output_type": "execute_result"
    }
   ],
   "source": [
    "df"
   ]
  },
  {
   "cell_type": "code",
   "execution_count": 27,
   "metadata": {},
   "outputs": [],
   "source": [
    "df = df[df['End Time'] > df['Start Time']]  #validating data integrity"
   ]
  },
  {
   "cell_type": "code",
   "execution_count": 28,
   "metadata": {},
   "outputs": [],
   "source": [
    "df.to_csv(\"cleaned_e_scooter_trip_data.csv\", index=False)"
   ]
  },
  {
   "cell_type": "markdown",
   "metadata": {},
   "source": [
    "Total Average Distance Travelled"
   ]
  },
  {
   "cell_type": "code",
   "execution_count": 29,
   "metadata": {},
   "outputs": [],
   "source": [
    "def haversine_distance(lat1, lon1, lat2, lon2):\n",
    "    R = 6371.0  # Earth radius in kilometers\n",
    "    lat1, lon1, lat2, lon2 = map(np.radians, [lat1, lon1, lat2, lon2])\n",
    "    dlat = lat2 - lat1\n",
    "    dlon = lon2 - lon1\n",
    "    a = np.sin(dlat / 2) ** 2 + np.cos(lat1) * np.cos(lat2) * np.sin(dlon / 2) ** 2\n",
    "    c = 2 * np.arctan2(np.sqrt(a), np.sqrt(1 - a))\n",
    "    distance = R * c\n",
    "    return distance"
   ]
  },
  {
   "cell_type": "code",
   "execution_count": 30,
   "metadata": {},
   "outputs": [
    {
     "name": "stderr",
     "output_type": "stream",
     "text": [
      "C:\\Users\\snamasi1\\AppData\\Local\\Temp\\ipykernel_3652\\2198111677.py:1: SettingWithCopyWarning: \n",
      "A value is trying to be set on a copy of a slice from a DataFrame.\n",
      "Try using .loc[row_indexer,col_indexer] = value instead\n",
      "\n",
      "See the caveats in the documentation: https://pandas.pydata.org/pandas-docs/stable/user_guide/indexing.html#returning-a-view-versus-a-copy\n",
      "  df['distance_km'] = df.apply(lambda x: haversine_distance(x['Start Centroid Latitude'], x['Start Centroid Longitude'], x['End Centroid Latitude'], x['End Centroid Longitude']), axis=1)\n"
     ]
    }
   ],
   "source": [
    "df['distance_km'] = df.apply(lambda x: haversine_distance(x['Start Centroid Latitude'], x['Start Centroid Longitude'], x['End Centroid Latitude'], x['End Centroid Longitude']), axis=1)\n"
   ]
  },
  {
   "cell_type": "code",
   "execution_count": 31,
   "metadata": {},
   "outputs": [],
   "source": [
    "# Calculate the average distance\n",
    "average_distance_km = df['distance_km'].mean()"
   ]
  },
  {
   "cell_type": "code",
   "execution_count": 32,
   "metadata": {},
   "outputs": [],
   "source": [
    "# Find the most common start location\n",
    "most_common_start_location = df['Start Community Area Name'].mode()[0]"
   ]
  },
  {
   "cell_type": "code",
   "execution_count": 33,
   "metadata": {},
   "outputs": [
    {
     "name": "stdout",
     "output_type": "stream",
     "text": [
      "Average distance traveled: 1.966054196452767 km\n",
      "Most common start location: Near North Side\n"
     ]
    }
   ],
   "source": [
    "# You can print these out or use them as needed\n",
    "print(f\"Average distance traveled: {average_distance_km} km\")\n",
    "print(f\"Most common start location: {most_common_start_location}\")"
   ]
  },
  {
   "cell_type": "markdown",
   "metadata": {},
   "source": [
    "Month with maximum distance travelled"
   ]
  },
  {
   "cell_type": "code",
   "execution_count": 34,
   "metadata": {},
   "outputs": [],
   "source": [
    "import calendar\n",
    "import warnings"
   ]
  },
  {
   "cell_type": "code",
   "execution_count": 35,
   "metadata": {},
   "outputs": [
    {
     "name": "stderr",
     "output_type": "stream",
     "text": [
      "C:\\Users\\snamasi1\\AppData\\Local\\Temp\\ipykernel_3652\\4294164329.py:1: SettingWithCopyWarning: \n",
      "A value is trying to be set on a copy of a slice from a DataFrame.\n",
      "Try using .loc[row_indexer,col_indexer] = value instead\n",
      "\n",
      "See the caveats in the documentation: https://pandas.pydata.org/pandas-docs/stable/user_guide/indexing.html#returning-a-view-versus-a-copy\n",
      "  df['Start Time'] = pd.to_datetime(df['Start Time'])\n"
     ]
    },
    {
     "name": "stdout",
     "output_type": "stream",
     "text": [
      "Month with maximum distance traveled: August\n"
     ]
    }
   ],
   "source": [
    "df['Start Time'] = pd.to_datetime(df['Start Time'])\n",
    "\n",
    "\n",
    "with warnings.catch_warnings():\n",
    "    warnings.simplefilter(\"ignore\")  \n",
    "    df['Month'] = df['Start Time'].dt.month.map(lambda x: calendar.month_name[x])\n",
    "\n",
    "# Group by month and sum trip distances\n",
    "monthly_distance = df.groupby('Month')['Trip Distance (miles)'].sum()\n",
    "\n",
    "max_distance_month = monthly_distance.idxmax()\n",
    "\n",
    "print(\"Month with maximum distance traveled:\", max_distance_month)"
   ]
  },
  {
   "cell_type": "markdown",
   "metadata": {},
   "source": [
    "Maximum distance travelled in a month"
   ]
  },
  {
   "cell_type": "code",
   "execution_count": 36,
   "metadata": {},
   "outputs": [
    {
     "name": "stdout",
     "output_type": "stream",
     "text": [
      "Maximum distance traveled in a month: 20.139838408949657 miles in month July\n"
     ]
    }
   ],
   "source": [
    "max_distance_per_month = df.groupby('Month')['Trip Distance (miles)'].max()\n",
    "\n",
    "max_distance_month = max_distance_per_month.idxmax()\n",
    "\n",
    "print(\"Maximum distance traveled in a month:\", max_distance_per_month[max_distance_month], \"miles in month\", max_distance_month)"
   ]
  },
  {
   "cell_type": "markdown",
   "metadata": {},
   "source": [
    "Monthwise usage trends"
   ]
  },
  {
   "cell_type": "code",
   "execution_count": 37,
   "metadata": {},
   "outputs": [
    {
     "data": {
      "image/png": "[encoded data removed]",
      "text/plain": [
       "<Figure size 1000x600 with 1 Axes>"
      ]
     },
     "metadata": {},
     "output_type": "display_data"
    }
   ],
   "source": [
    "monthly_trip_counts = df.groupby('Month').size()\n",
    "\n",
    "plt.figure(figsize=(10, 6))\n",
    "monthly_trip_counts.plot(kind='bar', color='skyblue')\n",
    "plt.title('Month-wise Usage Trends')\n",
    "plt.xlabel('Month')\n",
    "plt.ylabel('Number of Trips')\n",
    "plt.xticks(rotation=45)\n",
    "plt.show()"
   ]
  },
  {
   "cell_type": "markdown",
   "metadata": {},
   "source": [
    "Average trip duration and distance"
   ]
  },
  {
   "cell_type": "code",
   "execution_count": 38,
   "metadata": {},
   "outputs": [
    {
     "name": "stdout",
     "output_type": "stream",
     "text": [
      "Average Trip Duration: 22.968556744656734 minutes\n",
      "Average Trip Distance: 2.2422544410116854 miles\n"
     ]
    }
   ],
   "source": [
    "average_trip_duration = df['Trip Duration (minutes)'].mean()\n",
    "\n",
    "average_trip_distance = df['Trip Distance (miles)'].mean()\n",
    "\n",
    "print(\"Average Trip Duration:\", average_trip_duration, \"minutes\")\n",
    "print(\"Average Trip Distance:\", average_trip_distance, \"miles\")"
   ]
  },
  {
   "cell_type": "markdown",
   "metadata": {},
   "source": [
    "Popular Areas for start and end points"
   ]
  },
  {
   "cell_type": "code",
   "execution_count": 39,
   "metadata": {},
   "outputs": [
    {
     "data": {
      "image/png": "[encoded data removed]",
      "text/plain": [
       "<Figure size 1000x600 with 1 Axes>"
      ]
     },
     "metadata": {},
     "output_type": "display_data"
    },
    {
     "data": {
      "image/png": "[encoded data removed]",
      "text/plain": [
       "<Figure size 1000x600 with 1 Axes>"
      ]
     },
     "metadata": {},
     "output_type": "display_data"
    }
   ],
   "source": [
    "popular_start_areas = df['Start Community Area Name'].value_counts().head(10)\n",
    "\n",
    "popular_end_areas = df['End Community Area Name'].value_counts().head(10)\n",
    "\n",
    "plt.figure(figsize=(10, 6))\n",
    "popular_start_areas.plot(kind='bar', color='skyblue')\n",
    "plt.title('Popular Start Points (Community Area)')\n",
    "plt.xlabel('Community Area')\n",
    "plt.ylabel('Number of Trips')\n",
    "plt.xticks(rotation=45)\n",
    "plt.tight_layout()\n",
    "plt.show()\n",
    "\n",
    "# Plot popular end points\n",
    "plt.figure(figsize=(10, 6))\n",
    "popular_end_areas.plot(kind='bar', color='salmon')\n",
    "plt.title('Popular End Points (Community Area)')\n",
    "plt.xlabel('Community Area')\n",
    "plt.ylabel('Number of Trips')\n",
    "plt.xticks(rotation=45)\n",
    "plt.tight_layout()\n",
    "plt.show()"
   ]
  },
  {
   "cell_type": "code",
   "execution_count": 41,
   "metadata": {},
   "outputs": [
    {
     "data": {
      "image/png": "[encoded data removed]",
      "text/plain": [
       "<Figure size 1000x600 with 1 Axes>"
      ]
     },
     "metadata": {},
     "output_type": "display_data"
    }
   ],
   "source": [
    "popular_start_areas = df['Start Community Area Name'].value_counts().head(10)\n",
    "\n",
    "def popular_start_points(popular_start_areas):\n",
    "    plt.figure(figsize=(10, 6))\n",
    "    popular_start_areas.plot(kind='bar', color='skyblue')\n",
    "    plt.title('Popular Start Points (Community Area)')\n",
    "    plt.xlabel('Community Area')\n",
    "    plt.ylabel('Number of Trips')\n",
    "    plt.xticks(rotation=45)\n",
    "    plt.tight_layout()\n",
    "    plt.show()\n",
    "\n",
    "popular_start_points(popular_start_areas)"
   ]
  },
  {
   "cell_type": "markdown",
   "metadata": {},
   "source": [
    "Peak usage times"
   ]
  },
  {
   "cell_type": "code",
   "execution_count": 44,
   "metadata": {},
   "outputs": [
    {
     "name": "stderr",
     "output_type": "stream",
     "text": [
      "C:\\Users\\snamasi1\\AppData\\Local\\Temp\\ipykernel_19520\\2976987265.py:1: SettingWithCopyWarning: \n",
      "A value is trying to be set on a copy of a slice from a DataFrame.\n",
      "Try using .loc[row_indexer,col_indexer] = value instead\n",
      "\n",
      "See the caveats in the documentation: https://pandas.pydata.org/pandas-docs/stable/user_guide/indexing.html#returning-a-view-versus-a-copy\n",
      "  df['Hour'] = df['Start Time'].dt.hour\n"
     ]
    },
    {
     "data": {
      "image/png": "[encoded data removed]",
      "text/plain": [
       "<Figure size 1000x600 with 1 Axes>"
      ]
     },
     "metadata": {},
     "output_type": "display_data"
    }
   ],
   "source": [
    "df['Hour'] = df['Start Time'].dt.hour\n",
    "\n",
    "hourly_trip_counts = df.groupby('Hour').size()\n",
    "\n",
    "plt.figure(figsize=(10, 6))\n",
    "hourly_trip_counts.plot(kind='line', color='skyblue')\n",
    "plt.title('Peak Usage Times')\n",
    "plt.xlabel('Hour of the Day')\n",
    "plt.ylabel('Number of Trips')\n",
    "plt.xticks(range(24))\n",
    "plt.grid(True)\n",
    "plt.show()"
   ]
  },
  {
   "cell_type": "code",
   "execution_count": 2,
   "metadata": {},
   "outputs": [
    {
     "name": "stdout",
     "output_type": "stream",
     "text": [
      "Requirement already satisfied: ipynb-py-convert in c:\\python311\\lib\\site-packages (0.4.6)Note: you may need to restart the kernel to use updated packages.\n",
      "\n"
     ]
    }
   ],
   "source": [
    "pip install ipynb-py-convert"
   ]
  },
  {
   "cell_type": "code",
   "execution_count": 6,
   "metadata": {},
   "outputs": [
    {
     "name": "stdout",
     "output_type": "stream",
     "text": [
      "Collecting nbconvert\n",
      "  Using cached nbconvert-7.16.2-py3-none-any.whl (257 kB)\n",
      "Collecting beautifulsoup4\n",
      "  Using cached beautifulsoup4-4.12.3-py3-none-any.whl (147 kB)\n",
      "Collecting bleach!=5.0.0\n",
      "  Using cached bleach-6.1.0-py3-none-any.whl (162 kB)\n",
      "Collecting defusedxml\n",
      "  Using cached defusedxml-0.7.1-py2.py3-none-any.whl (25 kB)\n",
      "Requirement already satisfied: jinja2>=3.0 in c:\\python311\\lib\\site-packages (from nbconvert) (3.1.3)\n",
      "Requirement already satisfied: jupyter-core>=4.7 in c:\\users\\snamasi1\\appdata\\roaming\\python\\python311\\site-packages (from nbconvert) (5.1.0)\n",
      "Requirement already satisfied: jupyterlab-pygments in c:\\python311\\lib\\site-packages (from nbconvert) (0.3.0)\n",
      "Requirement already satisfied: markupsafe>=2.0 in c:\\python311\\lib\\site-packages (from nbconvert) (2.1.5)\n",
      "Requirement already satisfied: mistune<4,>=2.0.3 in c:\\python311\\lib\\site-packages (from nbconvert) (3.0.2)\n",
      "Collecting nbclient>=0.5.0\n",
      "  Using cached nbclient-0.10.0-py3-none-any.whl (25 kB)\n",
      "Collecting nbformat>=5.7\n",
      "  Using cached nbformat-5.10.3-py3-none-any.whl (78 kB)\n",
      "Requirement already satisfied: packaging in c:\\users\\snamasi1\\appdata\\roaming\\python\\python311\\site-packages (from nbconvert) (21.3)\n",
      "Requirement already satisfied: pandocfilters>=1.4.1 in c:\\python311\\lib\\site-packages (from nbconvert) (1.5.1)\n",
      "Requirement already satisfied: pygments>=2.4.1 in c:\\users\\snamasi1\\appdata\\roaming\\python\\python311\\site-packages (from nbconvert) (2.13.0)\n",
      "Requirement already satisfied: tinycss2 in c:\\python311\\lib\\site-packages (from nbconvert) (1.2.1)\n",
      "Requirement already satisfied: traitlets>=5.1 in c:\\users\\snamasi1\\appdata\\roaming\\python\\python311\\site-packages (from nbconvert) (5.6.0)\n",
      "Requirement already satisfied: six>=1.9.0 in c:\\users\\snamasi1\\appdata\\roaming\\python\\python311\\site-packages (from bleach!=5.0.0->nbconvert) (1.16.0)\n",
      "Requirement already satisfied: webencodings in c:\\python311\\lib\\site-packages (from bleach!=5.0.0->nbconvert) (0.5.1)\n",
      "Requirement already satisfied: platformdirs>=2.5 in c:\\users\\snamasi1\\appdata\\roaming\\python\\python311\\site-packages (from jupyter-core>=4.7->nbconvert) (2.5.4)\n",
      "Requirement already satisfied: pywin32>=1.0 in c:\\users\\snamasi1\\appdata\\roaming\\python\\python311\\site-packages (from jupyter-core>=4.7->nbconvert) (305)\n",
      "Requirement already satisfied: jupyter-client>=6.1.12 in c:\\users\\snamasi1\\appdata\\roaming\\python\\python311\\site-packages (from nbclient>=0.5.0->nbconvert) (7.4.7)\n",
      "Requirement already satisfied: fastjsonschema in c:\\python311\\lib\\site-packages (from nbformat>=5.7->nbconvert) (2.19.1)\n",
      "Requirement already satisfied: jsonschema>=2.6 in c:\\python311\\lib\\site-packages (from nbformat>=5.7->nbconvert) (4.21.1)\n",
      "Requirement already satisfied: soupsieve>1.2 in c:\\python311\\lib\\site-packages (from beautifulsoup4->nbconvert) (2.5)\n",
      "Requirement already satisfied: pyparsing!=3.0.5,>=2.0.2 in c:\\users\\snamasi1\\appdata\\roaming\\python\\python311\\site-packages (from packaging->nbconvert) (3.0.9)\n",
      "Requirement already satisfied: attrs>=22.2.0 in c:\\python311\\lib\\site-packages (from jsonschema>=2.6->nbformat>=5.7->nbconvert) (23.1.0)\n",
      "Requirement already satisfied: jsonschema-specifications>=2023.03.6 in c:\\python311\\lib\\site-packages (from jsonschema>=2.6->nbformat>=5.7->nbconvert) (2023.12.1)\n",
      "Requirement already satisfied: referencing>=0.28.4 in c:\\python311\\lib\\site-packages (from jsonschema>=2.6->nbformat>=5.7->nbconvert) (0.33.0)\n",
      "Requirement already satisfied: rpds-py>=0.7.1 in c:\\python311\\lib\\site-packages (from jsonschema>=2.6->nbformat>=5.7->nbconvert) (0.18.0)\n",
      "Requirement already satisfied: entrypoints in c:\\users\\snamasi1\\appdata\\roaming\\python\\python311\\site-packages (from jupyter-client>=6.1.12->nbclient>=0.5.0->nbconvert) (0.4)\n",
      "Requirement already satisfied: nest-asyncio>=1.5.4 in c:\\users\\snamasi1\\appdata\\roaming\\python\\python311\\site-packages (from jupyter-client>=6.1.12->nbclient>=0.5.0->nbconvert) (1.5.6)\n",
      "Requirement already satisfied: python-dateutil>=2.8.2 in c:\\users\\snamasi1\\appdata\\roaming\\python\\python311\\site-packages (from jupyter-client>=6.1.12->nbclient>=0.5.0->nbconvert) (2.8.2)\n",
      "Requirement already satisfied: pyzmq>=23.0 in c:\\users\\snamasi1\\appdata\\roaming\\python\\python311\\site-packages (from jupyter-client>=6.1.12->nbclient>=0.5.0->nbconvert) (24.0.1)\n",
      "Requirement already satisfied: tornado>=6.2 in c:\\users\\snamasi1\\appdata\\roaming\\python\\python311\\site-packages (from jupyter-client>=6.1.12->nbclient>=0.5.0->nbconvert) (6.2)\n",
      "Installing collected packages: defusedxml, bleach, beautifulsoup4, nbformat, nbclient, nbconvert\n",
      "Successfully installed beautifulsoup4-4.12.3 bleach-6.1.0 defusedxml-0.7.1 nbclient-0.10.0 nbconvert-7.16.2 nbformat-5.10.3\n",
      "Note: you may need to restart the kernel to use updated packages.\n"
     ]
    }
   ],
   "source": [
    "pip install nbconvert --user"
   ]
  },
  {
   "cell_type": "code",
   "execution_count": null,
   "metadata": {},
   "outputs": [],
   "source": []
  }
 ],
 "metadata": {
  "kernelspec": {
   "display_name": "Python 3",
   "language": "python",
   "name": "python3"
  },
  "language_info": {
   "codemirror_mode": {
    "name": "ipython",
    "version": 3
   },
   "file_extension": ".py",
   "mimetype": "text/x-python",
   "name": "python",
   "nbconvert_exporter": "python",
   "pygments_lexer": "ipython3",
   "version": "3.10.11"
  }
 },
 "nbformat": 4,
 "nbformat_minor": 2
}
